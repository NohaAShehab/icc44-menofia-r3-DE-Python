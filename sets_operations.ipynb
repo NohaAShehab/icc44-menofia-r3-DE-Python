{
 "cells": [
  {
   "metadata": {},
   "cell_type": "markdown",
   "source": [
    "# What is set\n",
    "1- unordered datatype\n",
    "2- remove duplicates\n",
    "3- no index "
   ],
   "id": "fa0b8658555cc2ea"
  },
  {
   "cell_type": "code",
   "id": "initial_id",
   "metadata": {
    "collapsed": true,
    "ExecuteTime": {
     "end_time": "2024-06-07T06:55:15.071539Z",
     "start_time": "2024-06-07T06:55:15.066100Z"
    }
   },
   "source": [
    "mys = {'iti', 3,None , True, 44.444, ('iti', 'iti'), 'iti','iti', 10,\n",
    "       'sql', 'bigdata'}\n",
    "print(mys)"
   ],
   "outputs": [
    {
     "name": "stdout",
     "output_type": "stream",
     "text": [
      "{True, 3, 'bigdata', 'sql', 'iti', 10, None, 44.444, ('iti', 'iti')}\n"
     ]
    }
   ],
   "execution_count": 3
  },
  {
   "metadata": {},
   "cell_type": "markdown",
   "source": "set is mutable datatype",
   "id": "ef9f0c4981bc2e18"
  },
  {
   "metadata": {
    "ExecuteTime": {
     "end_time": "2024-06-07T06:57:10.084515Z",
     "start_time": "2024-06-07T06:57:10.080601Z"
    }
   },
   "cell_type": "code",
   "source": [
    "mys.add('new element')\n",
    "print(mys)"
   ],
   "id": "2296681aa0cb054e",
   "outputs": [
    {
     "name": "stdout",
     "output_type": "stream",
     "text": [
      "{True, 3, 'bigdata', 'sql', 'iti', 10, None, 44.444, 'new element', ('iti', 'iti')}\n"
     ]
    }
   ],
   "execution_count": 4
  },
  {
   "metadata": {
    "ExecuteTime": {
     "end_time": "2024-06-07T06:57:30.347641Z",
     "start_time": "2024-06-07T06:57:30.343297Z"
    }
   },
   "cell_type": "code",
   "source": [
    "mys.remove('bigdata')\n",
    "print(mys)"
   ],
   "id": "4c666b30be462c45",
   "outputs": [
    {
     "name": "stdout",
     "output_type": "stream",
     "text": [
      "{True, 3, 'sql', 'iti', 10, None, 44.444, 'new element', ('iti', 'iti')}\n"
     ]
    }
   ],
   "execution_count": 5
  },
  {
   "metadata": {
    "ExecuteTime": {
     "end_time": "2024-06-07T06:57:50.492934Z",
     "start_time": "2024-06-07T06:57:50.484366Z"
    }
   },
   "cell_type": "code",
   "source": [
    "popped_item=mys.pop()\n",
    "print(mys)\n",
    "print(popped_item)"
   ],
   "id": "3bba23a8e554e565",
   "outputs": [
    {
     "name": "stdout",
     "output_type": "stream",
     "text": [
      "{3, 'sql', 'iti', 10, None, 44.444, 'new element', ('iti', 'iti')}\n",
      "True\n"
     ]
    }
   ],
   "execution_count": 6
  },
  {
   "metadata": {},
   "cell_type": "markdown",
   "source": "check element exists or not",
   "id": "d91c6b9345d76f7c"
  },
  {
   "metadata": {
    "ExecuteTime": {
     "end_time": "2024-06-07T06:58:33.924204Z",
     "start_time": "2024-06-07T06:58:33.920688Z"
    }
   },
   "cell_type": "code",
   "source": "print('iti' in mys)",
   "id": "d03cd08573ee1c79",
   "outputs": [
    {
     "name": "stdout",
     "output_type": "stream",
     "text": [
      "True\n"
     ]
    }
   ],
   "execution_count": 7
  },
  {
   "metadata": {},
   "cell_type": "markdown",
   "source": "loop over set",
   "id": "d5e1114e183f8e6f"
  },
  {
   "metadata": {
    "ExecuteTime": {
     "end_time": "2024-06-07T06:59:09.856613Z",
     "start_time": "2024-06-07T06:59:09.852727Z"
    }
   },
   "cell_type": "code",
   "source": [
    "for item in mys:\n",
    "       print(f\"item = {item}\")"
   ],
   "id": "d1c95e1fa507437a",
   "outputs": [
    {
     "name": "stdout",
     "output_type": "stream",
     "text": [
      "item = 3\n",
      "item = sql\n",
      "item = iti\n",
      "item = 10\n",
      "item = None\n",
      "item = 44.444\n",
      "item = new element\n",
      "item = ('iti', 'iti')\n"
     ]
    }
   ],
   "execution_count": 8
  },
  {
   "metadata": {},
   "cell_type": "markdown",
   "source": "# add list to the set ?",
   "id": "44bd12f4db85efc3"
  },
  {
   "metadata": {
    "ExecuteTime": {
     "end_time": "2024-06-07T06:59:31.389244Z",
     "start_time": "2024-06-07T06:59:31.178125Z"
    }
   },
   "cell_type": "code",
   "source": "mys.add(['sql', 'bigdata'])",
   "id": "561e84d98b674200",
   "outputs": [
    {
     "ename": "TypeError",
     "evalue": "unhashable type: 'list'",
     "output_type": "error",
     "traceback": [
      "\u001B[0;31m---------------------------------------------------------------------------\u001B[0m",
      "\u001B[0;31mTypeError\u001B[0m                                 Traceback (most recent call last)",
      "Cell \u001B[0;32mIn[9], line 1\u001B[0m\n\u001B[0;32m----> 1\u001B[0m \u001B[43mmys\u001B[49m\u001B[38;5;241;43m.\u001B[39;49m\u001B[43madd\u001B[49m\u001B[43m(\u001B[49m\u001B[43m[\u001B[49m\u001B[38;5;124;43m'\u001B[39;49m\u001B[38;5;124;43msql\u001B[39;49m\u001B[38;5;124;43m'\u001B[39;49m\u001B[43m,\u001B[49m\u001B[43m \u001B[49m\u001B[38;5;124;43m'\u001B[39;49m\u001B[38;5;124;43mbigdata\u001B[39;49m\u001B[38;5;124;43m'\u001B[39;49m\u001B[43m]\u001B[49m\u001B[43m)\u001B[49m\n",
      "\u001B[0;31mTypeError\u001B[0m: unhashable type: 'list'"
     ]
    }
   ],
   "execution_count": 9
  },
  {
   "metadata": {},
   "cell_type": "markdown",
   "source": "# set allows only hashable types (immutable datatypes)",
   "id": "6a90bb38185d8eb4"
  },
  {
   "metadata": {
    "ExecuteTime": {
     "end_time": "2024-06-07T07:00:30.099417Z",
     "start_time": "2024-06-07T07:00:30.095906Z"
    }
   },
   "cell_type": "code",
   "source": [
    "mys.add(('sql', 'bigdata'))\n",
    "print(mys)"
   ],
   "id": "706d3f452525f4a4",
   "outputs": [
    {
     "name": "stdout",
     "output_type": "stream",
     "text": [
      "{3, 'sql', 'iti', 10, None, 44.444, 'new element', ('iti', 'iti'), ('sql', 'bigdata')}\n"
     ]
    }
   ],
   "execution_count": 10
  },
  {
   "metadata": {},
   "cell_type": "markdown",
   "source": "clear",
   "id": "a52b4c681b4ce557"
  },
  {
   "metadata": {
    "ExecuteTime": {
     "end_time": "2024-06-07T07:02:50.821781Z",
     "start_time": "2024-06-07T07:02:50.817889Z"
    }
   },
   "cell_type": "code",
   "source": [
    "l  =[434,434,342]\n",
    "print(l)\n",
    "l.clear()\n",
    "print(l)"
   ],
   "id": "34a365bffac5d1f",
   "outputs": [
    {
     "name": "stdout",
     "output_type": "stream",
     "text": [
      "[434, 434, 342]\n",
      "[]\n"
     ]
    }
   ],
   "execution_count": 11
  },
  {
   "metadata": {
    "ExecuteTime": {
     "end_time": "2024-06-07T07:03:06.139173Z",
     "start_time": "2024-06-07T07:03:06.135588Z"
    }
   },
   "cell_type": "code",
   "source": "mys.clear()",
   "id": "f444f701dbf5998e",
   "outputs": [],
   "execution_count": 12
  },
  {
   "metadata": {
    "ExecuteTime": {
     "end_time": "2024-06-07T07:03:09.655587Z",
     "start_time": "2024-06-07T07:03:09.652092Z"
    }
   },
   "cell_type": "code",
   "source": "print(mys)",
   "id": "8e483321c9eafd3a",
   "outputs": [
    {
     "name": "stdout",
     "output_type": "stream",
     "text": [
      "set()\n"
     ]
    }
   ],
   "execution_count": 13
  },
  {
   "metadata": {
    "ExecuteTime": {
     "end_time": "2024-06-07T07:03:48.749515Z",
     "start_time": "2024-06-07T07:03:48.744405Z"
    }
   },
   "cell_type": "code",
   "source": [
    "mys = {'iti', 3,None , True, 44.444, ('iti', 'iti'), 'iti','iti', 10,\n",
    "       'sql', 'bigdata'}\n",
    "\n",
    "print(mys)"
   ],
   "id": "e6cee5dc1b3a2e69",
   "outputs": [
    {
     "name": "stdout",
     "output_type": "stream",
     "text": [
      "{True, 3, 'bigdata', 'sql', 'iti', 10, None, 44.444, ('iti', 'iti')}\n"
     ]
    }
   ],
   "execution_count": 14
  },
  {
   "metadata": {
    "ExecuteTime": {
     "end_time": "2024-06-07T07:04:00.726054Z",
     "start_time": "2024-06-07T07:04:00.704196Z"
    }
   },
   "cell_type": "code",
   "source": "print(mys.count('iti'))",
   "id": "f359bfa41a3ea324",
   "outputs": [
    {
     "ename": "AttributeError",
     "evalue": "'set' object has no attribute 'count'",
     "output_type": "error",
     "traceback": [
      "\u001B[0;31m---------------------------------------------------------------------------\u001B[0m",
      "\u001B[0;31mAttributeError\u001B[0m                            Traceback (most recent call last)",
      "Cell \u001B[0;32mIn[15], line 1\u001B[0m\n\u001B[0;32m----> 1\u001B[0m \u001B[38;5;28mprint\u001B[39m(\u001B[43mmys\u001B[49m\u001B[38;5;241;43m.\u001B[39;49m\u001B[43mcount\u001B[49m(\u001B[38;5;124m'\u001B[39m\u001B[38;5;124miti\u001B[39m\u001B[38;5;124m'\u001B[39m))\n",
      "\u001B[0;31mAttributeError\u001B[0m: 'set' object has no attribute 'count'"
     ]
    }
   ],
   "execution_count": 15
  },
  {
   "metadata": {},
   "cell_type": "code",
   "outputs": [],
   "execution_count": null,
   "source": "",
   "id": "753c90367b56d922"
  }
 ],
 "metadata": {
  "kernelspec": {
   "display_name": "Python 3",
   "language": "python",
   "name": "python3"
  },
  "language_info": {
   "codemirror_mode": {
    "name": "ipython",
    "version": 2
   },
   "file_extension": ".py",
   "mimetype": "text/x-python",
   "name": "python",
   "nbconvert_exporter": "python",
   "pygments_lexer": "ipython2",
   "version": "2.7.6"
  }
 },
 "nbformat": 4,
 "nbformat_minor": 5
}
