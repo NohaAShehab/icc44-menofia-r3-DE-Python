{
 "cells": [
  {
   "metadata": {},
   "cell_type": "markdown",
   "source": "# lexical scoping",
   "id": "bd8c8fc046d090b1"
  },
  {
   "metadata": {},
   "cell_type": "markdown",
   "source": [
    "# \n",
    "    --> any variable defined in the python script \n",
    "    --> this a variable with global scope"
   ],
   "id": "4ec580e51b8c6ffd"
  },
  {
   "cell_type": "code",
   "id": "initial_id",
   "metadata": {
    "collapsed": true,
    "ExecuteTime": {
     "end_time": "2024-06-08T06:11:37.744622Z",
     "start_time": "2024-06-08T06:11:37.736597Z"
    }
   },
   "source": [
    "name = 'ahmed'  \n",
    "print(name)"
   ],
   "outputs": [
    {
     "name": "stdout",
     "output_type": "stream",
     "text": [
      "ahmed\n"
     ]
    }
   ],
   "execution_count": 1
  },
  {
   "metadata": {
    "ExecuteTime": {
     "end_time": "2024-06-08T06:11:49.288057Z",
     "start_time": "2024-06-08T06:11:49.283815Z"
    }
   },
   "cell_type": "code",
   "source": [
    "def myfun():\n",
    "    print(\"Hello World\")"
   ],
   "id": "46cfb8d2daabec6b",
   "outputs": [],
   "execution_count": 2
  },
  {
   "metadata": {
    "ExecuteTime": {
     "end_time": "2024-06-08T06:11:54.665007Z",
     "start_time": "2024-06-08T06:11:54.660549Z"
    }
   },
   "cell_type": "code",
   "source": [
    "\n",
    "print(name)"
   ],
   "id": "a1fa5632e723922d",
   "outputs": [
    {
     "name": "stdout",
     "output_type": "stream",
     "text": [
      "ahmed\n"
     ]
    }
   ],
   "execution_count": 3
  },
  {
   "metadata": {},
   "cell_type": "markdown",
   "source": "# variable inside the function (local variable)",
   "id": "195713286893b045"
  },
  {
   "metadata": {
    "ExecuteTime": {
     "end_time": "2024-06-08T06:18:47.526074Z",
     "start_time": "2024-06-08T06:18:47.521404Z"
    }
   },
   "cell_type": "code",
   "source": [
    "def testfun():\n",
    "    # variable defined in the function # \n",
    "    name = input(\"What is your name?\") # local variable \n",
    "    # can be accessed only inside a function and will be destroyed?\n",
    "    # once the function finished \n",
    "    print(name)"
   ],
   "id": "37b4ce4ae931dff9",
   "outputs": [],
   "execution_count": 4
  },
  {
   "metadata": {
    "ExecuteTime": {
     "end_time": "2024-06-08T06:18:57.336230Z",
     "start_time": "2024-06-08T06:18:53.304622Z"
    }
   },
   "cell_type": "code",
   "source": "testfun()",
   "id": "5ade0d74d6990461",
   "outputs": [
    {
     "name": "stdout",
     "output_type": "stream",
     "text": [
      "noha\n"
     ]
    }
   ],
   "execution_count": 5
  },
  {
   "metadata": {
    "ExecuteTime": {
     "end_time": "2024-06-08T06:19:09.860268Z",
     "start_time": "2024-06-08T06:19:09.856474Z"
    }
   },
   "cell_type": "code",
   "source": "print(name)",
   "id": "383671286c94441c",
   "outputs": [
    {
     "name": "stdout",
     "output_type": "stream",
     "text": [
      "ahmed\n"
     ]
    }
   ],
   "execution_count": 6
  },
  {
   "metadata": {},
   "cell_type": "markdown",
   "source": "# access global variable from inside the function ",
   "id": "efd45bff6c38ed30"
  },
  {
   "metadata": {
    "ExecuteTime": {
     "end_time": "2024-06-08T06:28:20.889537Z",
     "start_time": "2024-06-08T06:28:20.885113Z"
    }
   },
   "cell_type": "code",
   "source": [
    "coursename = 'python'\n",
    "# read global variable value from inside the function\n",
    "def printCourseInfo():\n",
    "    print(f'course is {coursename}')\n",
    "printCourseInfo()"
   ],
   "id": "4cb4741b3775f653",
   "outputs": [
    {
     "name": "stdout",
     "output_type": "stream",
     "text": [
      "course is python\n"
     ]
    }
   ],
   "execution_count": 7
  },
  {
   "metadata": {
    "ExecuteTime": {
     "end_time": "2024-06-08T06:31:03.066610Z",
     "start_time": "2024-06-08T06:30:56.032756Z"
    }
   },
   "cell_type": "code",
   "source": [
    "def modifycourse():\n",
    "    coursename= input(\"Enter course name: \") # local variable\n",
    "    print(f'from modify coursename {coursename}')\n",
    "\n",
    "modifycourse()\n",
    "print(coursename)"
   ],
   "id": "1b3aac3df3774c72",
   "outputs": [
    {
     "name": "stdout",
     "output_type": "stream",
     "text": [
      "from modify coursename hadoop\n",
      "python\n"
     ]
    }
   ],
   "execution_count": 8
  },
  {
   "metadata": {},
   "cell_type": "markdown",
   "source": "",
   "id": "b60329d1dda24a49"
  },
  {
   "metadata": {
    "ExecuteTime": {
     "end_time": "2024-06-08T06:35:04.843246Z",
     "start_time": "2024-06-08T06:34:55.328501Z"
    }
   },
   "cell_type": "code",
   "source": [
    "def modifycourse():\n",
    "    global coursename\n",
    "    # please use the global coursename , don't create new variable\n",
    "    coursename= input(\"Enter course name: \") \n",
    "    print(f'from modify coursename {coursename}')\n",
    "\n",
    "modifycourse()\n",
    "print(coursename)"
   ],
   "id": "1f1170ec67b16f75",
   "outputs": [
    {
     "name": "stdout",
     "output_type": "stream",
     "text": [
      "from modify coursename hadoop\n",
      "hadoop\n"
     ]
    }
   ],
   "execution_count": 9
  },
  {
   "metadata": {},
   "cell_type": "markdown",
   "source": "# function inside a function ",
   "id": "b499fdcc3c4adcd3"
  },
  {
   "metadata": {
    "ExecuteTime": {
     "end_time": "2024-06-08T06:37:23.181963Z",
     "start_time": "2024-06-08T06:37:23.176511Z"
    }
   },
   "cell_type": "code",
   "source": [
    "def outerfunction():\n",
    "    # variable defined in the local scope ? can be accessed inside the inner functions \n",
    "    track = 'Data engineering'\n",
    "    print(track)\n",
    "    def innerfunction():\n",
    "        print(f\"from innerfunction track = {track}\")\n",
    "    innerfunction()\n",
    "        \n",
    "outerfunction()"
   ],
   "id": "bc86dd1185c3facc",
   "outputs": [
    {
     "name": "stdout",
     "output_type": "stream",
     "text": [
      "Data engineering\n",
      "from innerfunction track = Data engineering\n"
     ]
    }
   ],
   "execution_count": 11
  },
  {
   "metadata": {},
   "cell_type": "markdown",
   "source": "# modify local variable from inside the inner function",
   "id": "1c0a5b595b61d8f6"
  },
  {
   "metadata": {
    "ExecuteTime": {
     "end_time": "2024-06-08T06:40:31.784547Z",
     "start_time": "2024-06-08T06:40:24.770186Z"
    }
   },
   "cell_type": "code",
   "source": [
    "def outerfunction():\n",
    "    track = 'Data engineering'\n",
    "    print(track)\n",
    "    def modify_track():\n",
    "        track = input(\"Enter new track: \")\n",
    "        print(f\"from modify_track track = {track}\")\n",
    "    modify_track()\n",
    "    print(track)\n",
    "    \n",
    "outerfunction()"
   ],
   "id": "39a3ae0ec689a945",
   "outputs": [
    {
     "name": "stdout",
     "output_type": "stream",
     "text": [
      "Data engineering\n",
      "from modify_track track = test_track\n",
      "Data engineering\n"
     ]
    }
   ],
   "execution_count": 12
  },
  {
   "metadata": {
    "ExecuteTime": {
     "end_time": "2024-06-08T06:43:32.321021Z",
     "start_time": "2024-06-08T06:43:28.917804Z"
    }
   },
   "cell_type": "code",
   "source": [
    "def outerfunction():\n",
    "    track = 'Data engineering'\n",
    "    print(track)\n",
    "    def modify_track():\n",
    "        nonlocal track\n",
    "        track = input(\"Enter new track: \")\n",
    "        print(f\"from modify_track track = {track}\")\n",
    "    modify_track()\n",
    "    print(track)\n",
    "    \n",
    "outerfunction()"
   ],
   "id": "25c329291112a507",
   "outputs": [
    {
     "name": "stdout",
     "output_type": "stream",
     "text": [
      "Data engineering\n",
      "from modify_track track = updated\n",
      "updated\n"
     ]
    }
   ],
   "execution_count": 13
  },
  {
   "metadata": {},
   "cell_type": "code",
   "outputs": [],
   "execution_count": null,
   "source": "",
   "id": "227a2f473fd8f0f"
  }
 ],
 "metadata": {
  "kernelspec": {
   "display_name": "Python 3",
   "language": "python",
   "name": "python3"
  },
  "language_info": {
   "codemirror_mode": {
    "name": "ipython",
    "version": 2
   },
   "file_extension": ".py",
   "mimetype": "text/x-python",
   "name": "python",
   "nbconvert_exporter": "python",
   "pygments_lexer": "ipython2",
   "version": "2.7.6"
  }
 },
 "nbformat": 4,
 "nbformat_minor": 5
}
