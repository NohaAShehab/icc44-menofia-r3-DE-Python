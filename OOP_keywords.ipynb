{
 "cells": [
  {
   "metadata": {},
   "cell_type": "markdown",
   "source": "# classes ",
   "id": "7bb03fb802105263"
  },
  {
   "cell_type": "code",
   "id": "initial_id",
   "metadata": {
    "collapsed": true
   },
   "source": [
    "class Employee:\n",
    "    def __init__(self,id, name ,salary):\n",
    "        # id , name , salary --> instance variables \n",
    "        self.id = id \n",
    "        self.name = name\n",
    "        self.salary = salary\n",
    "    \n",
    "    def display(self): # instance methods \n",
    "        print(f\"Employee ID: {self.id}, Name: {self.name}, Salary: {self.salary}\")\n",
    "    \n",
    "\n",
    "    "
   ],
   "outputs": [],
   "execution_count": null
  },
  {
   "metadata": {},
   "cell_type": "code",
   "source": [
    "emp1=  Employee(1,\"John\",5000)\n",
    "emp2  =Employee(2,\"Jack\",6000)\n",
    "emp3 = Employee(3,\"Abc\",9000)"
   ],
   "id": "2edaa2aed2afbdba",
   "outputs": [],
   "execution_count": null
  },
  {
   "metadata": {},
   "cell_type": "markdown",
   "source": "access instance variables using variable name / reference",
   "id": "a8c6ca51571cbd8"
  },
  {
   "metadata": {},
   "cell_type": "code",
   "source": "print(emp1.salary)\n",
   "id": "7672521cbac5e363",
   "outputs": [],
   "execution_count": null
  },
  {
   "metadata": {},
   "cell_type": "code",
   "source": "emp1.salary = 346346",
   "id": "c7a6f54ec41becdb",
   "outputs": [],
   "execution_count": null
  },
  {
   "metadata": {},
   "cell_type": "code",
   "source": "print(emp2.salary)",
   "id": "f708f07503b99210",
   "outputs": [],
   "execution_count": null
  },
  {
   "metadata": {},
   "cell_type": "code",
   "source": "print(emp2.name)",
   "id": "408951bbd9eeca22",
   "outputs": [],
   "execution_count": null
  },
  {
   "metadata": {},
   "cell_type": "markdown",
   "source": "emp1.display()",
   "id": "81e1efc2d409abca"
  },
  {
   "metadata": {},
   "cell_type": "code",
   "source": [
    "emp2.display()\n",
    "print(emp3.__dict__)  "
   ],
   "id": "c5a7fa763ba755ed",
   "outputs": [],
   "execution_count": null
  },
  {
   "metadata": {},
   "cell_type": "markdown",
   "source": "# count no of objects created from the class ",
   "id": "bd3b193faea20c8a"
  },
  {
   "metadata": {},
   "cell_type": "code",
   "source": [
    "class Employee:\n",
    "    def __init__(self,id, name ,salary):\n",
    "        # id , name , salary --> instance variables \n",
    "        self.id = id \n",
    "        self.name = name\n",
    "        self.salary = salary\n",
    "        self.count = 0\n",
    "        self.count +=1 \n",
    "    \n",
    "    def display(self): # instance methods \n",
    "        print(f\"Employee ID: {self.id}, Name: {self.name}, Salary: {self.salary}\")"
   ],
   "id": "648aae5b1c5e5a48",
   "outputs": [],
   "execution_count": null
  },
  {
   "metadata": {},
   "cell_type": "code",
   "source": [
    "emp1=  Employee(1,\"John\",5000)\n",
    "emp2  =Employee(2,\"Jack\",6000)\n",
    "emp3 = Employee(3,\"Abc\",9000)"
   ],
   "id": "894a261c79a529ab",
   "outputs": [],
   "execution_count": null
  },
  {
   "metadata": {},
   "cell_type": "code",
   "source": "print(emp3.count)",
   "id": "e105aba407c7cc8b",
   "outputs": [],
   "execution_count": null
  },
  {
   "metadata": {},
   "cell_type": "markdown",
   "source": "check this ",
   "id": "17bea6b3f0d7b483"
  },
  {
   "metadata": {},
   "cell_type": "code",
   "source": [
    "counter = 0  # global variable\n",
    "class Employee:\n",
    "    def __init__(self,id, name ,salary):\n",
    "        # id , name , salary --> instance variables \n",
    "        self.id = id \n",
    "        self.name = name\n",
    "        self.salary = salary\n",
    "        global counter\n",
    "        counter +=1\n",
    "    \n",
    "    def display(self): # instance methods \n",
    "        print(f\"Employee ID: {self.id}, Name: {self.name}, Salary: {self.salary}\")"
   ],
   "id": "3e1f6903d30450ac",
   "outputs": [],
   "execution_count": null
  },
  {
   "metadata": {},
   "cell_type": "code",
   "source": [
    "emp1=  Employee(1,\"John\",5000)\n",
    "emp2  =Employee(2,\"Jack\",6000)\n",
    "emp3 = Employee(3,\"Abc\",9000)"
   ],
   "id": "64cddab6b0ce7f95",
   "outputs": [],
   "execution_count": null
  },
  {
   "metadata": {},
   "cell_type": "code",
   "source": "print(counter)",
   "id": "77359f3f708791ab",
   "outputs": [],
   "execution_count": null
  },
  {
   "metadata": {},
   "cell_type": "markdown",
   "source": "# define destructor ",
   "id": "30dac752f5f4559"
  },
  {
   "metadata": {},
   "cell_type": "code",
   "source": [
    "counter = 0  # global variable\n",
    "class Employee:\n",
    "    def __init__(self,id, name ,salary):\n",
    "        # id , name , salary --> instance variables \n",
    "        self.id = id \n",
    "        self.name = name\n",
    "        self.salary = salary\n",
    "        global counter\n",
    "        counter +=1\n",
    "    \n",
    "    def display(self): # instance methods \n",
    "        print(f\"Employee ID: {self.id}, Name: {self.name}, Salary: {self.salary}\")\n",
    "        \n",
    "    # destructor\n",
    "    def __del__(self):\n",
    "        print(\"---- this function is called when object is deleted----\")\n",
    "        global counter\n",
    "        counter -= 1 "
   ],
   "id": "9b78829439dd721c",
   "outputs": [],
   "execution_count": null
  },
  {
   "metadata": {
    "ExecuteTime": {
     "end_time": "2024-06-10T06:33:13.567661Z",
     "start_time": "2024-06-10T06:33:13.564142Z"
    }
   },
   "cell_type": "code",
   "source": [
    "print(counter)\n",
    "emp1=  Employee(1,\"John\",5000)\n",
    "emp2  =Employee(2,\"Jack\",6000)\n",
    "emp3 = Employee(3,\"Abc\",9000)\n",
    "print(counter)\n"
   ],
   "id": "2f4dbf2e16258736",
   "outputs": [
    {
     "name": "stdout",
     "output_type": "stream",
     "text": [
      "0\n",
      "---- this function is called when object is deleted----\n",
      "---- this function is called when object is deleted----\n",
      "1\n"
     ]
    }
   ],
   "execution_count": 30
  },
  {
   "metadata": {
    "ExecuteTime": {
     "end_time": "2024-06-10T06:33:19.673256Z",
     "start_time": "2024-06-10T06:33:19.669866Z"
    }
   },
   "cell_type": "code",
   "source": "del emp1",
   "id": "d0eb2ec777a63051",
   "outputs": [
    {
     "name": "stdout",
     "output_type": "stream",
     "text": [
      "---- this function is called when object is deleted----\n"
     ]
    }
   ],
   "execution_count": 31
  },
  {
   "metadata": {
    "ExecuteTime": {
     "end_time": "2024-06-10T06:33:22.361568Z",
     "start_time": "2024-06-10T06:33:22.357911Z"
    }
   },
   "cell_type": "code",
   "source": "print(counter)",
   "id": "352eb794c30505e7",
   "outputs": [
    {
     "name": "stdout",
     "output_type": "stream",
     "text": [
      "0\n"
     ]
    }
   ],
   "execution_count": 32
  },
  {
   "metadata": {},
   "cell_type": "markdown",
   "source": "# define class variable --> variable refer to class property //  doesn't depend on any instance ",
   "id": "7eeeed9d8b7a48db"
  },
  {
   "metadata": {
    "ExecuteTime": {
     "end_time": "2024-06-10T06:39:07.221880Z",
     "start_time": "2024-06-10T06:39:07.216579Z"
    }
   },
   "cell_type": "code",
   "source": [
    "class Employee:\n",
    "    empcount = 0 #class variable \n",
    "    def __init__(self, id, name, salary):\n",
    "        self.id = id\n",
    "        self.name = name\n",
    "        self.salary = salary\n",
    "        Employee.empcount +=1\n",
    "        \n",
    "\n",
    "    def display(self):  # instance methods\n",
    "        print(f\"Employee ID: {self.id}, Name: {self.name}, Salary: {self.salary}\")\n",
    "\n",
    "    # destructor\n",
    "    def __del__(self):\n",
    "        print(\"---- this function is called when object is deleted----\")\n",
    "        Employee.empcount -= 1\n"
   ],
   "id": "4e44982753b3c93f",
   "outputs": [],
   "execution_count": 33
  },
  {
   "metadata": {
    "ExecuteTime": {
     "end_time": "2024-06-10T06:39:23.268743Z",
     "start_time": "2024-06-10T06:39:23.265080Z"
    }
   },
   "cell_type": "code",
   "source": "print(Employee.empcount)",
   "id": "8f9468aa17c82b27",
   "outputs": [
    {
     "name": "stdout",
     "output_type": "stream",
     "text": [
      "0\n"
     ]
    }
   ],
   "execution_count": 34
  },
  {
   "metadata": {
    "ExecuteTime": {
     "end_time": "2024-06-10T06:40:03.008410Z",
     "start_time": "2024-06-10T06:40:02.992175Z"
    }
   },
   "cell_type": "code",
   "source": [
    "emp2= Employee(1,'Ahmed', 89323)\n",
    "print(Employee.empcount)"
   ],
   "id": "8b11ca045ad0224d",
   "outputs": [
    {
     "name": "stdout",
     "output_type": "stream",
     "text": [
      "---- this function is called when object is deleted----\n",
      "1\n"
     ]
    }
   ],
   "execution_count": 36
  },
  {
   "metadata": {
    "ExecuteTime": {
     "end_time": "2024-06-10T06:42:47.214675Z",
     "start_time": "2024-06-10T06:42:47.211040Z"
    }
   },
   "cell_type": "code",
   "source": "print(emp2.empcount)",
   "id": "5c264d8e5c06dcab",
   "outputs": [
    {
     "name": "stdout",
     "output_type": "stream",
     "text": [
      "1\n"
     ]
    }
   ],
   "execution_count": 37
  },
  {
   "metadata": {
    "ExecuteTime": {
     "end_time": "2024-06-10T06:43:03.394152Z",
     "start_time": "2024-06-10T06:43:03.389691Z"
    }
   },
   "cell_type": "code",
   "source": "print(emp2.__dict__)",
   "id": "39cb78eb6a159a10",
   "outputs": [
    {
     "name": "stdout",
     "output_type": "stream",
     "text": [
      "{'id': 1, 'name': 'Ahmed', 'salary': 89323}\n"
     ]
    }
   ],
   "execution_count": 38
  },
  {
   "metadata": {},
   "cell_type": "markdown",
   "source": [
    "# class variable \n",
    "    --> shared property between all instance from the class\n",
    "    --> this variable represent class property --> doesn't depend on any instance\n",
    "    --> can be access by either classname or instance name "
   ],
   "id": "28fc9b9019358b71"
  },
  {
   "metadata": {
    "ExecuteTime": {
     "end_time": "2024-06-10T06:48:49.460736Z",
     "start_time": "2024-06-10T06:48:49.457895Z"
    }
   },
   "cell_type": "code",
   "source": "Employee.city = 'Egypt'",
   "id": "c41e58f0af34abc2",
   "outputs": [],
   "execution_count": 39
  },
  {
   "metadata": {},
   "cell_type": "markdown",
   "source": "# ******************* Class Method ************************",
   "id": "4398083e90f00255"
  },
  {
   "metadata": {
    "ExecuteTime": {
     "end_time": "2024-06-10T07:11:14.632056Z",
     "start_time": "2024-06-10T07:11:14.626731Z"
    }
   },
   "cell_type": "code",
   "source": [
    "class Employee:\n",
    "    empcount = 0 #class variable \n",
    "    def __init__(self, id, name, salary):\n",
    "        self.id = id\n",
    "        self.name = name\n",
    "        self.salary = salary\n",
    "        Employee.empcount +=1\n",
    "    # define class method \n",
    "    # use classmethod decorator --> \n",
    "    @classmethod\n",
    "    def get_emp_count(cls):\n",
    "        print(cls ) # represent the class \n",
    "        print(cls.empcount)\n",
    "\n",
    "# emp1= Employee(1,\"John\",5000)"
   ],
   "id": "eb26dce656be34b0",
   "outputs": [],
   "execution_count": 45
  },
  {
   "metadata": {
    "ExecuteTime": {
     "end_time": "2024-06-10T07:11:16.059619Z",
     "start_time": "2024-06-10T07:11:16.056615Z"
    }
   },
   "cell_type": "code",
   "source": "Employee.get_emp_count()",
   "id": "92709bc138838977",
   "outputs": [
    {
     "name": "stdout",
     "output_type": "stream",
     "text": [
      "<class '__main__.Employee'>\n",
      "0\n"
     ]
    }
   ],
   "execution_count": 46
  },
  {
   "metadata": {
    "ExecuteTime": {
     "end_time": "2024-06-10T07:07:20.218848Z",
     "start_time": "2024-06-10T07:07:20.215063Z"
    }
   },
   "cell_type": "code",
   "source": "print(Employee)",
   "id": "de7fa7ac2c058473",
   "outputs": [
    {
     "name": "stdout",
     "output_type": "stream",
     "text": [
      "<class '__main__.Employee'>\n"
     ]
    }
   ],
   "execution_count": 43
  },
  {
   "metadata": {
    "ExecuteTime": {
     "end_time": "2024-06-10T07:13:50.316107Z",
     "start_time": "2024-06-10T07:13:50.096572Z"
    }
   },
   "cell_type": "code",
   "source": "emp = Employee()",
   "id": "a9f43228f580945a",
   "outputs": [
    {
     "ename": "TypeError",
     "evalue": "Employee.__init__() missing 3 required positional arguments: 'id', 'name', and 'salary'",
     "output_type": "error",
     "traceback": [
      "\u001B[0;31m---------------------------------------------------------------------------\u001B[0m",
      "\u001B[0;31mTypeError\u001B[0m                                 Traceback (most recent call last)",
      "Cell \u001B[0;32mIn[47], line 1\u001B[0m\n\u001B[0;32m----> 1\u001B[0m emp \u001B[38;5;241m=\u001B[39m \u001B[43mEmployee\u001B[49m\u001B[43m(\u001B[49m\u001B[43m)\u001B[49m\n",
      "\u001B[0;31mTypeError\u001B[0m: Employee.__init__() missing 3 required positional arguments: 'id', 'name', and 'salary'"
     ]
    }
   ],
   "execution_count": 47
  },
  {
   "metadata": {},
   "cell_type": "markdown",
   "source": "# I need to define new method inside the class --> create new default object ",
   "id": "50661bdf35733772"
  },
  {
   "metadata": {},
   "cell_type": "code",
   "outputs": [
    {
     "name": "stdout",
     "output_type": "stream",
     "text": [
      "2\n",
      "{'id': 100, 'name': 'default', 'salary': 898323}\n",
      "2\n"
     ]
    }
   ],
   "execution_count": 50,
   "source": [
    "class Employee:\n",
    "    empcount = 0 #class variable \n",
    "    def __init__(self, id, name, salary):\n",
    "        self.id = id\n",
    "        self.name = name\n",
    "        self.salary = salary\n",
    "        Employee.empcount +=1\n",
    "    @classmethod\n",
    "    def get_emp_count(cls):\n",
    "        print(cls ) # represent the class \n",
    "        print(cls.empcount)\n",
    "    \n",
    "    @classmethod # class method acts as object factory\n",
    "    def create_default_emp(cls):\n",
    "        newemp = cls(100,\"default\", 898323)\n",
    "        return newemp\n",
    "        \n",
    "emp = Employee(1,\"Ahmed\", 89323) # this call __init__\n",
    "# create default object without explicitly call the constructor\n",
    "emp2=  Employee.create_default_emp()\n",
    "print(Employee.empcount)\n",
    "print(emp2.__dict__)\n",
    "print(Employee.empcount)\n"
   ],
   "id": "c767077cadb6551e"
  },
  {
   "metadata": {},
   "cell_type": "markdown",
   "source": "# ********************************************************",
   "id": "22d7a0b552ab8f6b"
  },
  {
   "metadata": {
    "ExecuteTime": {
     "end_time": "2024-06-10T07:46:46.593443Z",
     "start_time": "2024-06-10T07:46:46.587633Z"
    }
   },
   "cell_type": "code",
   "source": [
    "class Employee:\n",
    "    def __init__(self, id, name, salary):\n",
    "        self.id = id\n",
    "        self.name = name\n",
    "        self.salary = salary\n",
    "\n",
    "emp1 = Employee(1,\"Ahmed\",89323)\n",
    "emp2= Employee(2,'test', 3455)\n",
    "def calnetsal(salary):\n",
    "    return salary * .8\n",
    "\n",
    "print(calnetsal(500))\n",
    "print(calnetsal(emp1.salary))\n",
    "\n",
    "    "
   ],
   "id": "e499a7be7920bdf6",
   "outputs": [
    {
     "name": "stdout",
     "output_type": "stream",
     "text": [
      "400.0\n",
      "71458.40000000001\n"
     ]
    }
   ],
   "execution_count": 51
  },
  {
   "metadata": {
    "ExecuteTime": {
     "end_time": "2024-06-10T07:48:49.929137Z",
     "start_time": "2024-06-10T07:48:49.899682Z"
    }
   },
   "cell_type": "code",
   "source": [
    "class Employee:\n",
    "    def __init__(self, id, name, salary):\n",
    "        self.id = id\n",
    "        self.name = name\n",
    "        self.salary = salary\n",
    "    def calnetsal(salary):\n",
    "        return salary * .8\n",
    "\n",
    "emp1 = Employee(1,\"Ahmed\",89323)\n",
    "print(emp1.calnetsal())\n",
    "emp2= Employee(2,'test', 3455)\n",
    "# def calnetsal(salary):\n",
    "#     return salary * .8\n",
    "# \n",
    "# print(calnetsal(500))\n",
    "# print(calnetsal(emp1.salary))\n"
   ],
   "id": "e3058422b720225",
   "outputs": [
    {
     "ename": "TypeError",
     "evalue": "unsupported operand type(s) for *: 'Employee' and 'float'",
     "output_type": "error",
     "traceback": [
      "\u001B[0;31m---------------------------------------------------------------------------\u001B[0m",
      "\u001B[0;31mTypeError\u001B[0m                                 Traceback (most recent call last)",
      "Cell \u001B[0;32mIn[52], line 10\u001B[0m\n\u001B[1;32m      7\u001B[0m         \u001B[38;5;28;01mreturn\u001B[39;00m salary \u001B[38;5;241m*\u001B[39m \u001B[38;5;241m.8\u001B[39m\n\u001B[1;32m      9\u001B[0m emp1 \u001B[38;5;241m=\u001B[39m Employee(\u001B[38;5;241m1\u001B[39m,\u001B[38;5;124m\"\u001B[39m\u001B[38;5;124mAhmed\u001B[39m\u001B[38;5;124m\"\u001B[39m,\u001B[38;5;241m89323\u001B[39m)\n\u001B[0;32m---> 10\u001B[0m \u001B[38;5;28mprint\u001B[39m(\u001B[43memp1\u001B[49m\u001B[38;5;241;43m.\u001B[39;49m\u001B[43mcalnetsal\u001B[49m\u001B[43m(\u001B[49m\u001B[43m)\u001B[49m)\n\u001B[1;32m     11\u001B[0m emp2\u001B[38;5;241m=\u001B[39m Employee(\u001B[38;5;241m2\u001B[39m,\u001B[38;5;124m'\u001B[39m\u001B[38;5;124mtest\u001B[39m\u001B[38;5;124m'\u001B[39m, \u001B[38;5;241m3455\u001B[39m)\n\u001B[1;32m     12\u001B[0m \u001B[38;5;66;03m# def calnetsal(salary):\u001B[39;00m\n\u001B[1;32m     13\u001B[0m \u001B[38;5;66;03m#     return salary * .8\u001B[39;00m\n\u001B[1;32m     14\u001B[0m \u001B[38;5;66;03m# \u001B[39;00m\n\u001B[1;32m     15\u001B[0m \u001B[38;5;66;03m# print(calnetsal(500))\u001B[39;00m\n\u001B[1;32m     16\u001B[0m \u001B[38;5;66;03m# print(calnetsal(emp1.salary))\u001B[39;00m\n",
      "Cell \u001B[0;32mIn[52], line 7\u001B[0m, in \u001B[0;36mEmployee.calnetsal\u001B[0;34m(salary)\u001B[0m\n\u001B[1;32m      6\u001B[0m \u001B[38;5;28;01mdef\u001B[39;00m \u001B[38;5;21mcalnetsal\u001B[39m(salary):\n\u001B[0;32m----> 7\u001B[0m     \u001B[38;5;28;01mreturn\u001B[39;00m \u001B[43msalary\u001B[49m\u001B[43m \u001B[49m\u001B[38;5;241;43m*\u001B[39;49m\u001B[43m \u001B[49m\u001B[38;5;241;43m.8\u001B[39;49m\n",
      "\u001B[0;31mTypeError\u001B[0m: unsupported operand type(s) for *: 'Employee' and 'float'"
     ]
    }
   ],
   "execution_count": 52
  },
  {
   "metadata": {
    "ExecuteTime": {
     "end_time": "2024-06-10T07:54:35.322833Z",
     "start_time": "2024-06-10T07:54:35.317583Z"
    }
   },
   "cell_type": "code",
   "source": [
    "class Employee:\n",
    "    def __init__(self, id, name, salary):\n",
    "        self.id = id\n",
    "        self.name = name\n",
    "        self.salary = salary\n",
    "    \n",
    "    @staticmethod\n",
    "    def calnetsal(salary):\n",
    "        print(salary)\n",
    "        return salary * .8\n",
    "\n",
    "emp1 = Employee(1,\"Ahmed\",89323)\n",
    "print(emp1.calnetsal(emp1.salary))\n",
    "print(Employee.calnetsal(100000))"
   ],
   "id": "3ae2c00190b97dc0",
   "outputs": [
    {
     "name": "stdout",
     "output_type": "stream",
     "text": [
      "89323\n",
      "71458.40000000001\n",
      "100000\n",
      "80000.0\n"
     ]
    }
   ],
   "execution_count": 57
  },
  {
   "metadata": {},
   "cell_type": "code",
   "outputs": [],
   "execution_count": null,
   "source": "",
   "id": "29dd6d9266586b66"
  }
 ],
 "metadata": {
  "kernelspec": {
   "display_name": "Python 3",
   "language": "python",
   "name": "python3"
  },
  "language_info": {
   "codemirror_mode": {
    "name": "ipython",
    "version": 2
   },
   "file_extension": ".py",
   "mimetype": "text/x-python",
   "name": "python",
   "nbconvert_exporter": "python",
   "pygments_lexer": "ipython2",
   "version": "2.7.6"
  }
 },
 "nbformat": 4,
 "nbformat_minor": 5
}
