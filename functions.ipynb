{
 "cells": [
  {
   "metadata": {},
   "cell_type": "markdown",
   "source": "# **** functions with known mandatory number of arguments *****",
   "id": "8e711e568b3b859f"
  },
  {
   "metadata": {},
   "cell_type": "markdown",
   "source": [
    "# what is functions ?\n",
    "    -> block contains set of steps --> accomplish specific task \n",
    "    -> write once , use many\n",
    "    -> function --> builtin function, user defined functions"
   ],
   "id": "84a771284ae30f39"
  },
  {
   "metadata": {
    "ExecuteTime": {
     "end_time": "2024-06-07T08:18:46.136801Z",
     "start_time": "2024-06-07T08:18:46.128339Z"
    }
   },
   "cell_type": "code",
   "source": "print(\"we support ghaza\")",
   "id": "4904c82dce235dee",
   "outputs": [
    {
     "name": "stdout",
     "output_type": "stream",
     "text": [
      "we support ghaza\n"
     ]
    }
   ],
   "execution_count": 1
  },
  {
   "cell_type": "code",
   "id": "initial_id",
   "metadata": {
    "collapsed": true,
    "ExecuteTime": {
     "end_time": "2024-06-07T08:19:07.552063Z",
     "start_time": "2024-06-07T08:19:07.548273Z"
    }
   },
   "source": "print(len('iti'))",
   "outputs": [
    {
     "name": "stdout",
     "output_type": "stream",
     "text": [
      "3\n"
     ]
    }
   ],
   "execution_count": 2
  },
  {
   "metadata": {},
   "cell_type": "markdown",
   "source": "# define my first function",
   "id": "aad65a1cac7b0281"
  },
  {
   "metadata": {
    "ExecuteTime": {
     "end_time": "2024-06-07T08:20:43.709268Z",
     "start_time": "2024-06-07T08:20:43.703122Z"
    }
   },
   "cell_type": "code",
   "source": [
    "def myfun():\n",
    "    pass \n"
   ],
   "id": "6b453da5b93b601b",
   "outputs": [],
   "execution_count": 3
  },
  {
   "metadata": {},
   "cell_type": "markdown",
   "source": "# call function ",
   "id": "9bdfcdd7fb5bcb80"
  },
  {
   "metadata": {
    "ExecuteTime": {
     "end_time": "2024-06-07T08:20:58.235432Z",
     "start_time": "2024-06-07T08:20:58.231995Z"
    }
   },
   "cell_type": "code",
   "source": "myfun()",
   "id": "369da1e6e2e2a380",
   "outputs": [],
   "execution_count": 4
  },
  {
   "metadata": {},
   "cell_type": "markdown",
   "source": "# function that do something ",
   "id": "5b972f4a038ed049"
  },
  {
   "metadata": {
    "ExecuteTime": {
     "end_time": "2024-06-07T08:22:43.222486Z",
     "start_time": "2024-06-07T08:22:43.212032Z"
    }
   },
   "cell_type": "code",
   "source": [
    "def sayhello():\n",
    "    print(f\"Hello world\")"
   ],
   "id": "d05d47d14f81c892",
   "outputs": [],
   "execution_count": 5
  },
  {
   "metadata": {},
   "cell_type": "markdown",
   "source": "call function many times",
   "id": "4865409bf6daa498"
  },
  {
   "metadata": {
    "ExecuteTime": {
     "end_time": "2024-06-07T08:22:58.463697Z",
     "start_time": "2024-06-07T08:22:58.459834Z"
    }
   },
   "cell_type": "code",
   "source": "sayhello()",
   "id": "6c8d97c8e0f9938c",
   "outputs": [
    {
     "name": "stdout",
     "output_type": "stream",
     "text": [
      "Hello world\n"
     ]
    }
   ],
   "execution_count": 6
  },
  {
   "metadata": {
    "ExecuteTime": {
     "end_time": "2024-06-07T08:23:00.936368Z",
     "start_time": "2024-06-07T08:23:00.931162Z"
    }
   },
   "cell_type": "code",
   "source": "sayhello()",
   "id": "5e1f4bf8116c3613",
   "outputs": [
    {
     "name": "stdout",
     "output_type": "stream",
     "text": [
      "Hello world\n"
     ]
    }
   ],
   "execution_count": 7
  },
  {
   "metadata": {
    "ExecuteTime": {
     "end_time": "2024-06-07T08:23:02.965360Z",
     "start_time": "2024-06-07T08:23:02.960970Z"
    }
   },
   "cell_type": "code",
   "source": "sayhello()",
   "id": "f380639722518714",
   "outputs": [
    {
     "name": "stdout",
     "output_type": "stream",
     "text": [
      "Hello world\n"
     ]
    }
   ],
   "execution_count": 8
  },
  {
   "metadata": {
    "ExecuteTime": {
     "end_time": "2024-06-07T08:24:28.434368Z",
     "start_time": "2024-06-07T08:24:28.167525Z"
    }
   },
   "cell_type": "code",
   "source": "MM()",
   "id": "bdcc7d00bb71e08c",
   "outputs": [
    {
     "ename": "NameError",
     "evalue": "name 'MM' is not defined",
     "output_type": "error",
     "traceback": [
      "\u001B[0;31m---------------------------------------------------------------------------\u001B[0m",
      "\u001B[0;31mNameError\u001B[0m                                 Traceback (most recent call last)",
      "Cell \u001B[0;32mIn[9], line 1\u001B[0m\n\u001B[0;32m----> 1\u001B[0m \u001B[43mMM\u001B[49m()\n",
      "\u001B[0;31mNameError\u001B[0m: name 'MM' is not defined"
     ]
    }
   ],
   "execution_count": 9
  },
  {
   "metadata": {},
   "cell_type": "markdown",
   "source": "# function do something and check its return ",
   "id": "ab16be510d29c8d5"
  },
  {
   "metadata": {
    "ExecuteTime": {
     "end_time": "2024-06-07T08:26:13.155292Z",
     "start_time": "2024-06-07T08:26:13.150900Z"
    }
   },
   "cell_type": "code",
   "source": [
    "def sayhello():\n",
    "    print(\"hello world\")"
   ],
   "id": "1b90001504029d3c",
   "outputs": [],
   "execution_count": 10
  },
  {
   "metadata": {
    "ExecuteTime": {
     "end_time": "2024-06-07T08:27:04.269085Z",
     "start_time": "2024-06-07T08:27:04.265685Z"
    }
   },
   "cell_type": "code",
   "source": [
    "res = sayhello()\n",
    "print(res)"
   ],
   "id": "58f57bf78bdd4ba8",
   "outputs": [
    {
     "name": "stdout",
     "output_type": "stream",
     "text": [
      "hello world\n",
      "None\n"
     ]
    }
   ],
   "execution_count": 11
  },
  {
   "metadata": {
    "ExecuteTime": {
     "end_time": "2024-06-07T08:27:37.482119Z",
     "start_time": "2024-06-07T08:27:37.478850Z"
    }
   },
   "cell_type": "code",
   "source": [
    "def sayhello2():\n",
    "    print(\"hello world\")\n",
    "    return "
   ],
   "id": "a109509d19af07d9",
   "outputs": [],
   "execution_count": 12
  },
  {
   "metadata": {
    "ExecuteTime": {
     "end_time": "2024-06-07T08:27:40.490417Z",
     "start_time": "2024-06-07T08:27:40.485688Z"
    }
   },
   "cell_type": "code",
   "source": "sayhello2()",
   "id": "4b2751b4a15605a8",
   "outputs": [
    {
     "name": "stdout",
     "output_type": "stream",
     "text": [
      "hello world\n"
     ]
    }
   ],
   "execution_count": 13
  },
  {
   "metadata": {
    "ExecuteTime": {
     "end_time": "2024-06-07T08:27:46.714948Z",
     "start_time": "2024-06-07T08:27:46.707168Z"
    }
   },
   "cell_type": "code",
   "source": [
    "res = sayhello2()\n",
    "print(res)"
   ],
   "id": "7f84312a6966aca4",
   "outputs": [
    {
     "name": "stdout",
     "output_type": "stream",
     "text": [
      "hello world\n",
      "None\n"
     ]
    }
   ],
   "execution_count": 14
  },
  {
   "metadata": {},
   "cell_type": "markdown",
   "source": "function return with data",
   "id": "e9de38695acb8f00"
  },
  {
   "metadata": {
    "ExecuteTime": {
     "end_time": "2024-06-07T08:29:35.485851Z",
     "start_time": "2024-06-07T08:29:35.481742Z"
    }
   },
   "cell_type": "code",
   "source": [
    "def askforfullname():\n",
    "    fname = input(\"What is your first name? \")\n",
    "    lname = input(\"What is your last name? \")\n",
    "    fullname = f'{fname} {lname}'\n",
    "    print(f'fullname is {fullname}')\n",
    "    return fullname"
   ],
   "id": "8fda4fe8a3e2b859",
   "outputs": [],
   "execution_count": 15
  },
  {
   "metadata": {
    "ExecuteTime": {
     "end_time": "2024-06-07T08:29:44.959666Z",
     "start_time": "2024-06-07T08:29:42.013193Z"
    }
   },
   "cell_type": "code",
   "source": "myname = askforfullname()",
   "id": "e68a66763c89a18b",
   "outputs": [
    {
     "name": "stdout",
     "output_type": "stream",
     "text": [
      "fullname is noha shehab\n"
     ]
    }
   ],
   "execution_count": 16
  },
  {
   "metadata": {
    "ExecuteTime": {
     "end_time": "2024-06-07T08:30:12.813975Z",
     "start_time": "2024-06-07T08:30:12.808740Z"
    }
   },
   "cell_type": "code",
   "source": "print(myname)",
   "id": "14d0505f1f492aaf",
   "outputs": [
    {
     "name": "stdout",
     "output_type": "stream",
     "text": [
      "noha shehab\n"
     ]
    }
   ],
   "execution_count": 17
  },
  {
   "metadata": {
    "ExecuteTime": {
     "end_time": "2024-06-07T08:31:00.414391Z",
     "start_time": "2024-06-07T08:31:00.410593Z"
    }
   },
   "cell_type": "code",
   "source": [
    "def askforfullname():\n",
    "    fname = input(\"What is your first name? \")\n",
    "    lname = input(\"What is your last name? \")\n",
    "    fullname = f'{fname} {lname}'\n",
    "    print(f'fullname is {fullname}')\n",
    "    return fname, lname, fullname"
   ],
   "id": "d3003582cb2056ca",
   "outputs": [],
   "execution_count": 18
  },
  {
   "metadata": {
    "ExecuteTime": {
     "end_time": "2024-06-07T08:31:28.293578Z",
     "start_time": "2024-06-07T08:31:24.292329Z"
    }
   },
   "cell_type": "code",
   "source": [
    "myinfo = askforfullname()\n",
    "print(myinfo)"
   ],
   "id": "d08ed5c5f1c0f176",
   "outputs": [
    {
     "name": "stdout",
     "output_type": "stream",
     "text": [
      "fullname is noha shehab\n",
      "('noha', 'shehab', 'noha shehab')\n"
     ]
    }
   ],
   "execution_count": 19
  },
  {
   "metadata": {
    "ExecuteTime": {
     "end_time": "2024-06-07T08:33:32.140185Z",
     "start_time": "2024-06-07T08:33:32.136532Z"
    }
   },
   "cell_type": "code",
   "source": [
    "def askforfullname():\n",
    "    fname = input(\"What is your first name? \")\n",
    "    lname = input(\"What is your last name? \")\n",
    "    fullname = f'{fname} {lname}'\n",
    "    print(f'fullname is {fullname}')\n",
    "    return [fname, lname, fullname]"
   ],
   "id": "3da4723f44e24380",
   "outputs": [],
   "execution_count": 20
  },
  {
   "metadata": {
    "ExecuteTime": {
     "end_time": "2024-06-07T08:33:38.979543Z",
     "start_time": "2024-06-07T08:33:37.343346Z"
    }
   },
   "cell_type": "code",
   "source": "print(askforfullname())",
   "id": "2ec7b62acd0a444c",
   "outputs": [
    {
     "name": "stdout",
     "output_type": "stream",
     "text": [
      "fullname is EE EEE\n",
      "['EE', 'EEE', 'EE EEE']\n"
     ]
    }
   ],
   "execution_count": 21
  },
  {
   "metadata": {},
   "cell_type": "markdown",
   "source": "FUNCTION  accept arguments ",
   "id": "c12399c2154880d6"
  },
  {
   "metadata": {
    "ExecuteTime": {
     "end_time": "2024-06-07T08:37:01.771066Z",
     "start_time": "2024-06-07T08:37:01.767760Z"
    }
   },
   "cell_type": "code",
   "source": [
    "def sumnum(num1, num2):\n",
    "    res = num1 + num2\n",
    "    print(f'res= {res}')"
   ],
   "id": "c3a2497fa64c7c5e",
   "outputs": [],
   "execution_count": 22
  },
  {
   "metadata": {
    "ExecuteTime": {
     "end_time": "2024-06-07T08:37:19.761636Z",
     "start_time": "2024-06-07T08:37:19.743912Z"
    }
   },
   "cell_type": "code",
   "source": "sumnum()",
   "id": "b7e36f19dba17279",
   "outputs": [
    {
     "ename": "TypeError",
     "evalue": "sumnum() missing 2 required positional arguments: 'num1' and 'num2'",
     "output_type": "error",
     "traceback": [
      "\u001B[0;31m---------------------------------------------------------------------------\u001B[0m",
      "\u001B[0;31mTypeError\u001B[0m                                 Traceback (most recent call last)",
      "Cell \u001B[0;32mIn[23], line 1\u001B[0m\n\u001B[0;32m----> 1\u001B[0m \u001B[43msumnum\u001B[49m\u001B[43m(\u001B[49m\u001B[43m)\u001B[49m\n",
      "\u001B[0;31mTypeError\u001B[0m: sumnum() missing 2 required positional arguments: 'num1' and 'num2'"
     ]
    }
   ],
   "execution_count": 23
  },
  {
   "metadata": {
    "ExecuteTime": {
     "end_time": "2024-06-07T08:37:41.727840Z",
     "start_time": "2024-06-07T08:37:41.724310Z"
    }
   },
   "cell_type": "code",
   "source": "sumnum(3,4)",
   "id": "5b726ce61fb6cd8d",
   "outputs": [
    {
     "name": "stdout",
     "output_type": "stream",
     "text": [
      "res= 7\n"
     ]
    }
   ],
   "execution_count": 24
  },
  {
   "metadata": {
    "ExecuteTime": {
     "end_time": "2024-06-07T08:37:49.042280Z",
     "start_time": "2024-06-07T08:37:49.036902Z"
    }
   },
   "cell_type": "code",
   "source": "sumnum(45,5)",
   "id": "5fa46f34e4d00f59",
   "outputs": [
    {
     "name": "stdout",
     "output_type": "stream",
     "text": [
      "res= 50\n"
     ]
    }
   ],
   "execution_count": 25
  },
  {
   "metadata": {
    "ExecuteTime": {
     "end_time": "2024-06-07T08:38:02.527828Z",
     "start_time": "2024-06-07T08:38:02.509599Z"
    }
   },
   "cell_type": "code",
   "source": "sumnum(4,5,5)",
   "id": "3f70a59e4eeacaa8",
   "outputs": [
    {
     "ename": "TypeError",
     "evalue": "sumnum() takes 2 positional arguments but 3 were given",
     "output_type": "error",
     "traceback": [
      "\u001B[0;31m---------------------------------------------------------------------------\u001B[0m",
      "\u001B[0;31mTypeError\u001B[0m                                 Traceback (most recent call last)",
      "Cell \u001B[0;32mIn[26], line 1\u001B[0m\n\u001B[0;32m----> 1\u001B[0m \u001B[43msumnum\u001B[49m\u001B[43m(\u001B[49m\u001B[38;5;241;43m4\u001B[39;49m\u001B[43m,\u001B[49m\u001B[38;5;241;43m5\u001B[39;49m\u001B[43m,\u001B[49m\u001B[38;5;241;43m5\u001B[39;49m\u001B[43m)\u001B[49m\n",
      "\u001B[0;31mTypeError\u001B[0m: sumnum() takes 2 positional arguments but 3 were given"
     ]
    }
   ],
   "execution_count": 26
  },
  {
   "metadata": {
    "ExecuteTime": {
     "end_time": "2024-06-07T08:39:05.764437Z",
     "start_time": "2024-06-07T08:39:05.760413Z"
    }
   },
   "cell_type": "code",
   "source": "sumnum('iti', 'data engineering')",
   "id": "e6763bd823ea87",
   "outputs": [
    {
     "name": "stdout",
     "output_type": "stream",
     "text": [
      "res= itidata engineering\n"
     ]
    }
   ],
   "execution_count": 27
  },
  {
   "metadata": {
    "ExecuteTime": {
     "end_time": "2024-06-07T08:40:20.372194Z",
     "start_time": "2024-06-07T08:40:20.347474Z"
    }
   },
   "cell_type": "code",
   "source": "sumnum(4,'iti')",
   "id": "6a5b9bd51acb5266",
   "outputs": [
    {
     "ename": "TypeError",
     "evalue": "unsupported operand type(s) for +: 'int' and 'str'",
     "output_type": "error",
     "traceback": [
      "\u001B[0;31m---------------------------------------------------------------------------\u001B[0m",
      "\u001B[0;31mTypeError\u001B[0m                                 Traceback (most recent call last)",
      "Cell \u001B[0;32mIn[28], line 1\u001B[0m\n\u001B[0;32m----> 1\u001B[0m \u001B[43msumnum\u001B[49m\u001B[43m(\u001B[49m\u001B[38;5;241;43m4\u001B[39;49m\u001B[43m,\u001B[49m\u001B[38;5;124;43m'\u001B[39;49m\u001B[38;5;124;43miti\u001B[39;49m\u001B[38;5;124;43m'\u001B[39;49m\u001B[43m)\u001B[49m\n",
      "Cell \u001B[0;32mIn[22], line 2\u001B[0m, in \u001B[0;36msumnum\u001B[0;34m(num1, num2)\u001B[0m\n\u001B[1;32m      1\u001B[0m \u001B[38;5;28;01mdef\u001B[39;00m \u001B[38;5;21msumnum\u001B[39m(num1, num2):\n\u001B[0;32m----> 2\u001B[0m     res \u001B[38;5;241m=\u001B[39m \u001B[43mnum1\u001B[49m\u001B[43m \u001B[49m\u001B[38;5;241;43m+\u001B[39;49m\u001B[43m \u001B[49m\u001B[43mnum2\u001B[49m\n\u001B[1;32m      3\u001B[0m     \u001B[38;5;28mprint\u001B[39m(\u001B[38;5;124mf\u001B[39m\u001B[38;5;124m'\u001B[39m\u001B[38;5;124mres= \u001B[39m\u001B[38;5;132;01m{\u001B[39;00mres\u001B[38;5;132;01m}\u001B[39;00m\u001B[38;5;124m'\u001B[39m)\n",
      "\u001B[0;31mTypeError\u001B[0m: unsupported operand type(s) for +: 'int' and 'str'"
     ]
    }
   ],
   "execution_count": 28
  },
  {
   "metadata": {},
   "cell_type": "markdown",
   "source": "loosely dynamically typed lang. ---> detect datatype in the run time",
   "id": "a708c4779cd9dec5"
  },
  {
   "metadata": {
    "ExecuteTime": {
     "end_time": "2024-06-07T08:41:22.424247Z",
     "start_time": "2024-06-07T08:41:22.415600Z"
    }
   },
   "cell_type": "code",
   "source": [
    "def sumnum(num1 :int, num2:int): # for documentation purpose \n",
    "    res = num1 + num2\n",
    "    print(res)"
   ],
   "id": "1fd0f7a0e6df8f86",
   "outputs": [],
   "execution_count": 29
  },
  {
   "metadata": {
    "ExecuteTime": {
     "end_time": "2024-06-07T08:41:26.678155Z",
     "start_time": "2024-06-07T08:41:26.674510Z"
    }
   },
   "cell_type": "code",
   "source": "sumnum(4,5)",
   "id": "8858fddccca50fb",
   "outputs": [
    {
     "name": "stdout",
     "output_type": "stream",
     "text": [
      "9\n"
     ]
    }
   ],
   "execution_count": 30
  },
  {
   "metadata": {
    "ExecuteTime": {
     "end_time": "2024-06-07T08:41:49.788583Z",
     "start_time": "2024-06-07T08:41:49.784914Z"
    }
   },
   "cell_type": "code",
   "source": "sumnum('iti','data engineering')",
   "id": "f4e186dbeb777d16",
   "outputs": [
    {
     "name": "stdout",
     "output_type": "stream",
     "text": [
      "itidata engineering\n"
     ]
    }
   ],
   "execution_count": 31
  },
  {
   "metadata": {
    "ExecuteTime": {
     "end_time": "2024-06-07T08:42:04.155537Z",
     "start_time": "2024-06-07T08:42:04.082307Z"
    }
   },
   "cell_type": "code",
   "source": "sumnum(3,'iti')",
   "id": "98af2da62f8b3f95",
   "outputs": [
    {
     "ename": "TypeError",
     "evalue": "unsupported operand type(s) for +: 'int' and 'str'",
     "output_type": "error",
     "traceback": [
      "\u001B[0;31m---------------------------------------------------------------------------\u001B[0m",
      "\u001B[0;31mTypeError\u001B[0m                                 Traceback (most recent call last)",
      "Cell \u001B[0;32mIn[32], line 1\u001B[0m\n\u001B[0;32m----> 1\u001B[0m \u001B[43msumnum\u001B[49m\u001B[43m(\u001B[49m\u001B[38;5;241;43m3\u001B[39;49m\u001B[43m,\u001B[49m\u001B[38;5;124;43m'\u001B[39;49m\u001B[38;5;124;43miti\u001B[39;49m\u001B[38;5;124;43m'\u001B[39;49m\u001B[43m)\u001B[49m\n",
      "Cell \u001B[0;32mIn[29], line 2\u001B[0m, in \u001B[0;36msumnum\u001B[0;34m(num1, num2)\u001B[0m\n\u001B[1;32m      1\u001B[0m \u001B[38;5;28;01mdef\u001B[39;00m \u001B[38;5;21msumnum\u001B[39m(num1 :\u001B[38;5;28mint\u001B[39m, num2:\u001B[38;5;28mint\u001B[39m):\n\u001B[0;32m----> 2\u001B[0m     res \u001B[38;5;241m=\u001B[39m \u001B[43mnum1\u001B[49m\u001B[43m \u001B[49m\u001B[38;5;241;43m+\u001B[39;49m\u001B[43m \u001B[49m\u001B[43mnum2\u001B[49m\n\u001B[1;32m      3\u001B[0m     \u001B[38;5;28mprint\u001B[39m(res)\n",
      "\u001B[0;31mTypeError\u001B[0m: unsupported operand type(s) for +: 'int' and 'str'"
     ]
    }
   ],
   "execution_count": 32
  },
  {
   "metadata": {
    "ExecuteTime": {
     "end_time": "2024-06-07T08:43:30.341875Z",
     "start_time": "2024-06-07T08:43:29.079590Z"
    }
   },
   "cell_type": "code",
   "source": "print(int(input(\"Enter a number: \")))",
   "id": "782c2abacde3738",
   "outputs": [
    {
     "ename": "ValueError",
     "evalue": "invalid literal for int() with base 10: 'fd'",
     "output_type": "error",
     "traceback": [
      "\u001B[0;31m---------------------------------------------------------------------------\u001B[0m",
      "\u001B[0;31mValueError\u001B[0m                                Traceback (most recent call last)",
      "Cell \u001B[0;32mIn[33], line 1\u001B[0m\n\u001B[0;32m----> 1\u001B[0m \u001B[38;5;28mprint\u001B[39m(\u001B[38;5;28;43mint\u001B[39;49m\u001B[43m(\u001B[49m\u001B[38;5;28;43minput\u001B[39;49m\u001B[43m(\u001B[49m\u001B[38;5;124;43m\"\u001B[39;49m\u001B[38;5;124;43mEnter a number: \u001B[39;49m\u001B[38;5;124;43m\"\u001B[39;49m\u001B[43m)\u001B[49m\u001B[43m)\u001B[49m)\n",
      "\u001B[0;31mValueError\u001B[0m: invalid literal for int() with base 10: 'fd'"
     ]
    }
   ],
   "execution_count": 33
  },
  {
   "metadata": {},
   "cell_type": "markdown",
   "source": [
    "# NEVER TRUST INPUT\n",
    "    -> You must do the validation on your own "
   ],
   "id": "4a13ecebfe921634"
  },
  {
   "metadata": {},
   "cell_type": "markdown",
   "source": "# isinstance function",
   "id": "ad41d28eb79351e0"
  },
  {
   "metadata": {
    "ExecuteTime": {
     "end_time": "2024-06-07T08:46:03.624547Z",
     "start_time": "2024-06-07T08:46:03.621584Z"
    }
   },
   "cell_type": "code",
   "source": [
    "num = 10 \n",
    "print(isinstance(num, int))"
   ],
   "id": "50a6b6f6ef9f2f70",
   "outputs": [
    {
     "name": "stdout",
     "output_type": "stream",
     "text": [
      "True\n"
     ]
    }
   ],
   "execution_count": 34
  },
  {
   "metadata": {
    "ExecuteTime": {
     "end_time": "2024-06-07T08:47:00.665537Z",
     "start_time": "2024-06-07T08:47:00.661412Z"
    }
   },
   "cell_type": "code",
   "source": [
    "def sumnum(num1, num2):\n",
    "    if isinstance(num1, int) and isinstance(num2, int):\n",
    "        res = num1 + num2\n",
    "        print(res)\n",
    "    else:\n",
    "        print(f\"num1 and num2 are {num1}, {num2} and must be integers \")\n",
    "        "
   ],
   "id": "cbfa62e98f552aa9",
   "outputs": [],
   "execution_count": 35
  },
  {
   "metadata": {
    "ExecuteTime": {
     "end_time": "2024-06-07T08:47:03.662672Z",
     "start_time": "2024-06-07T08:47:03.658568Z"
    }
   },
   "cell_type": "code",
   "source": "sumnum(4,5)",
   "id": "91890ad4e4c55366",
   "outputs": [
    {
     "name": "stdout",
     "output_type": "stream",
     "text": [
      "9\n"
     ]
    }
   ],
   "execution_count": 36
  },
  {
   "metadata": {
    "ExecuteTime": {
     "end_time": "2024-06-07T08:47:08.055462Z",
     "start_time": "2024-06-07T08:47:08.048268Z"
    }
   },
   "cell_type": "code",
   "source": "sumnum('iti','data engineering')",
   "id": "bfb0b1fdd149bece",
   "outputs": [
    {
     "name": "stdout",
     "output_type": "stream",
     "text": [
      "num1 and num2 are iti, data engineering and must be integers \n"
     ]
    }
   ],
   "execution_count": 37
  },
  {
   "metadata": {
    "ExecuteTime": {
     "end_time": "2024-06-07T08:47:12.921509Z",
     "start_time": "2024-06-07T08:47:12.913874Z"
    }
   },
   "cell_type": "code",
   "source": "sumnum(3,'iti')",
   "id": "4ef8eb691e7b81a5",
   "outputs": [
    {
     "name": "stdout",
     "output_type": "stream",
     "text": [
      "num1 and num2 are 3, iti and must be integers \n"
     ]
    }
   ],
   "execution_count": 38
  },
  {
   "metadata": {},
   "cell_type": "markdown",
   "source": [
    "# ******* functions with optional arguments ***********\n",
    "# using default arguments"
   ],
   "id": "43297394b2a6b11e"
  },
  {
   "metadata": {
    "ExecuteTime": {
     "end_time": "2024-06-07T08:51:47.358214Z",
     "start_time": "2024-06-07T08:51:47.345735Z"
    }
   },
   "cell_type": "code",
   "source": "print('iti', 'python', 'test', sep='_')",
   "id": "eec1d2fd41f1796",
   "outputs": [
    {
     "name": "stdout",
     "output_type": "stream",
     "text": [
      "iti_python_test\n"
     ]
    }
   ],
   "execution_count": 40
  },
  {
   "metadata": {
    "ExecuteTime": {
     "end_time": "2024-06-07T08:52:10.594882Z",
     "start_time": "2024-06-07T08:52:10.590223Z"
    }
   },
   "cell_type": "code",
   "source": [
    "def mulnums(num1, num2=10):\n",
    "    print(num1 * num2)\n",
    "    "
   ],
   "id": "357088b5254e38db",
   "outputs": [],
   "execution_count": 41
  },
  {
   "metadata": {
    "ExecuteTime": {
     "end_time": "2024-06-07T08:52:16.370617Z",
     "start_time": "2024-06-07T08:52:16.367387Z"
    }
   },
   "cell_type": "code",
   "source": "mulnums(2,3)",
   "id": "895cd19b3e458912",
   "outputs": [
    {
     "name": "stdout",
     "output_type": "stream",
     "text": [
      "6\n"
     ]
    }
   ],
   "execution_count": 42
  },
  {
   "metadata": {
    "ExecuteTime": {
     "end_time": "2024-06-07T08:52:20.941460Z",
     "start_time": "2024-06-07T08:52:20.932163Z"
    }
   },
   "cell_type": "code",
   "source": "mulnums(4)",
   "id": "8be6bd98ccf7805d",
   "outputs": [
    {
     "name": "stdout",
     "output_type": "stream",
     "text": [
      "40\n"
     ]
    }
   ],
   "execution_count": 43
  },
  {
   "metadata": {},
   "cell_type": "markdown",
   "source": "",
   "id": "4b1aa7b09a299761"
  },
  {
   "metadata": {
    "ExecuteTime": {
     "end_time": "2024-06-07T08:53:41.729408Z",
     "start_time": "2024-06-07T08:53:41.723446Z"
    }
   },
   "cell_type": "code",
   "source": [
    "print('iti')\n",
    "print(\"python\", 'iti', 'test')\n",
    "print(\"abc\", 'mmm', 'sss', 33, 4444)\n",
    "print()"
   ],
   "id": "e8bc735c41ff4264",
   "outputs": [
    {
     "name": "stdout",
     "output_type": "stream",
     "text": [
      "iti\n",
      "python iti test\n",
      "abc mmm sss 33 4444\n",
      "\n"
     ]
    }
   ],
   "execution_count": 45
  },
  {
   "metadata": {},
   "cell_type": "markdown",
   "source": "# functions with unknown number of arguments",
   "id": "e7355dd6691a759d"
  },
  {
   "metadata": {
    "ExecuteTime": {
     "end_time": "2024-06-07T08:55:02.230104Z",
     "start_time": "2024-06-07T08:55:02.226288Z"
    }
   },
   "cell_type": "code",
   "source": [
    "def askforstudents(students):\n",
    "    print(students)\n",
    "    \n",
    "askforstudents('ahmed')"
   ],
   "id": "8c71dd9348c370ce",
   "outputs": [
    {
     "name": "stdout",
     "output_type": "stream",
     "text": [
      "ahmed\n"
     ]
    }
   ],
   "execution_count": 46
  },
  {
   "metadata": {
    "ExecuteTime": {
     "end_time": "2024-06-07T08:55:09.683668Z",
     "start_time": "2024-06-07T08:55:09.670191Z"
    }
   },
   "cell_type": "code",
   "source": "askforstudents('ali', 'ahmed')",
   "id": "74f2ed115194e54a",
   "outputs": [
    {
     "ename": "TypeError",
     "evalue": "askforstudents() takes 1 positional argument but 2 were given",
     "output_type": "error",
     "traceback": [
      "\u001B[0;31m---------------------------------------------------------------------------\u001B[0m",
      "\u001B[0;31mTypeError\u001B[0m                                 Traceback (most recent call last)",
      "Cell \u001B[0;32mIn[47], line 1\u001B[0m\n\u001B[0;32m----> 1\u001B[0m \u001B[43maskforstudents\u001B[49m\u001B[43m(\u001B[49m\u001B[38;5;124;43m'\u001B[39;49m\u001B[38;5;124;43mali\u001B[39;49m\u001B[38;5;124;43m'\u001B[39;49m\u001B[43m,\u001B[49m\u001B[43m \u001B[49m\u001B[38;5;124;43m'\u001B[39;49m\u001B[38;5;124;43mahmed\u001B[39;49m\u001B[38;5;124;43m'\u001B[39;49m\u001B[43m)\u001B[49m\n",
      "\u001B[0;31mTypeError\u001B[0m: askforstudents() takes 1 positional argument but 2 were given"
     ]
    }
   ],
   "execution_count": 47
  },
  {
   "metadata": {},
   "cell_type": "markdown",
   "source": "@ allow zero or more argument ",
   "id": "d385c8fef5a4a5f1"
  },
  {
   "metadata": {
    "ExecuteTime": {
     "end_time": "2024-06-07T08:56:12.349514Z",
     "start_time": "2024-06-07T08:56:12.346600Z"
    }
   },
   "cell_type": "code",
   "source": [
    "def askforstudents(*students):  # * ==>represent zero or more argument\n",
    "    print(students)"
   ],
   "id": "a6027e352dcf06b",
   "outputs": [],
   "execution_count": 48
  },
  {
   "metadata": {
    "ExecuteTime": {
     "end_time": "2024-06-07T08:56:15.839869Z",
     "start_time": "2024-06-07T08:56:15.836782Z"
    }
   },
   "cell_type": "code",
   "source": "askforstudents()",
   "id": "3393d6055dbf58cc",
   "outputs": [
    {
     "name": "stdout",
     "output_type": "stream",
     "text": [
      "()\n"
     ]
    }
   ],
   "execution_count": 49
  },
  {
   "metadata": {
    "ExecuteTime": {
     "end_time": "2024-06-07T08:56:19.058705Z",
     "start_time": "2024-06-07T08:56:19.055330Z"
    }
   },
   "cell_type": "code",
   "source": "askforstudents('ahmed')",
   "id": "d1d23e5c218e929b",
   "outputs": [
    {
     "name": "stdout",
     "output_type": "stream",
     "text": [
      "('ahmed',)\n"
     ]
    }
   ],
   "execution_count": 50
  },
  {
   "metadata": {
    "ExecuteTime": {
     "end_time": "2024-06-07T08:56:21.382076Z",
     "start_time": "2024-06-07T08:56:21.378837Z"
    }
   },
   "cell_type": "code",
   "source": "askforstudents('ali', 'ahmed')",
   "id": "7d2a2ace4392680f",
   "outputs": [
    {
     "name": "stdout",
     "output_type": "stream",
     "text": [
      "('ali', 'ahmed')\n"
     ]
    }
   ],
   "execution_count": 51
  },
  {
   "metadata": {},
   "cell_type": "markdown",
   "source": "",
   "id": "befeb2ab678656ad"
  },
  {
   "metadata": {},
   "cell_type": "markdown",
   "source": "# function accept keyword argument ",
   "id": "52750a13d2acc938"
  },
  {
   "metadata": {
    "ExecuteTime": {
     "end_time": "2024-06-07T09:07:27.513261Z",
     "start_time": "2024-06-07T09:07:27.506398Z"
    }
   },
   "cell_type": "code",
   "source": [
    "def askforinfo(**info): # allow function to accept unknown number of arguments and keywords.\n",
    "    print(info)  # dict "
   ],
   "id": "9e950d14c0f82aff",
   "outputs": [],
   "execution_count": 1
  },
  {
   "metadata": {
    "ExecuteTime": {
     "end_time": "2024-06-07T09:07:30.519834Z",
     "start_time": "2024-06-07T09:07:30.516483Z"
    }
   },
   "cell_type": "code",
   "source": "askforinfo()",
   "id": "b9b696d7fd90a335",
   "outputs": [
    {
     "name": "stdout",
     "output_type": "stream",
     "text": [
      "{}\n"
     ]
    }
   ],
   "execution_count": 2
  },
  {
   "metadata": {
    "ExecuteTime": {
     "end_time": "2024-06-07T09:12:55.954896Z",
     "start_time": "2024-06-07T09:12:55.946695Z"
    }
   },
   "cell_type": "code",
   "source": "askforinfo(name='hossam', age= 24)",
   "id": "7ccd18804d0dad18",
   "outputs": [
    {
     "name": "stdout",
     "output_type": "stream",
     "text": [
      "{'name': 'hossam', 'age': 24}\n"
     ]
    }
   ],
   "execution_count": 3
  },
  {
   "metadata": {
    "ExecuteTime": {
     "end_time": "2024-06-07T09:13:27.949469Z",
     "start_time": "2024-06-07T09:13:27.945709Z"
    }
   },
   "cell_type": "code",
   "source": "askforinfo(fname='ahmed', lname='ali', email='a@gmail.com')",
   "id": "8b78b5246f1327c5",
   "outputs": [
    {
     "name": "stdout",
     "output_type": "stream",
     "text": [
      "{'fname': 'ahmed', 'lname': 'ali', 'email': 'a@gmail.com'}\n"
     ]
    }
   ],
   "execution_count": 4
  },
  {
   "metadata": {},
   "cell_type": "code",
   "outputs": [],
   "execution_count": null,
   "source": "",
   "id": "e21aed455ae1fdc"
  }
 ],
 "metadata": {
  "kernelspec": {
   "display_name": "Python 3",
   "language": "python",
   "name": "python3"
  },
  "language_info": {
   "codemirror_mode": {
    "name": "ipython",
    "version": 2
   },
   "file_extension": ".py",
   "mimetype": "text/x-python",
   "name": "python",
   "nbconvert_exporter": "python",
   "pygments_lexer": "ipython2",
   "version": "2.7.6"
  }
 },
 "nbformat": 4,
 "nbformat_minor": 5
}
