{
 "cells": [
  {
   "metadata": {},
   "cell_type": "markdown",
   "source": [
    "# OOP\n",
    "    --> oop --> stands for object oriented programming \n",
    "    --> is programming paradigm ==> based on object ? --> contains data \n",
    "    --> and functionality\n",
    "# keywords\n",
    "    --> class\n",
    "    --> object \n",
    "    --> function / methods\n",
    "    --> constructor / desctructor \n",
    "    \n",
    "# OOP principles\n",
    "    --> Encapsulation\n",
    "    --> Inheritance\n",
    "    --> Polymorphism\n",
    "    --> Abstraction\n",
    "# python use classes to implement builtin datatypes "
   ],
   "id": "6cee95b5f90016d0"
  },
  {
   "cell_type": "code",
   "id": "initial_id",
   "metadata": {
    "collapsed": true,
    "ExecuteTime": {
     "end_time": "2024-06-09T08:48:14.499846Z",
     "start_time": "2024-06-09T08:48:14.491891Z"
    }
   },
   "source": [
    "name = 'noha' # object from class str\n",
    "print(name, type(name))"
   ],
   "outputs": [
    {
     "name": "stdout",
     "output_type": "stream",
     "text": [
      "noha <class 'str'>\n"
     ]
    }
   ],
   "execution_count": 1
  },
  {
   "metadata": {
    "ExecuteTime": {
     "end_time": "2024-06-09T08:51:38.608196Z",
     "start_time": "2024-06-09T08:51:38.604133Z"
    }
   },
   "cell_type": "code",
   "source": [
    "# describe employees data \n",
    "emp1 = {\"Name\": \"<NAME>\", \"Age\": 25, 'dept':'A'}\n",
    "emp2 = {\"emp_name\": \"<NAME>\", \"Age\": 25, 'dept':'B'}\n",
    "emp3 = {\"emp_name\": \"<NAME>\", \"Age\": 25, 'emp_dept':'C'}"
   ],
   "id": "99b233f68a165a65",
   "outputs": [],
   "execution_count": 2
  },
  {
   "metadata": {
    "ExecuteTime": {
     "end_time": "2024-06-09T08:52:23.754211Z",
     "start_time": "2024-06-09T08:52:23.746960Z"
    }
   },
   "cell_type": "code",
   "source": [
    "def printEmpInfo(emp):\n",
    "    print(f'Name: {emp[\"Name\"]}, age: {emp[\"Age\"]}, dept: {emp[\"dept\"]}')"
   ],
   "id": "136661f2926de16c",
   "outputs": [],
   "execution_count": 6
  },
  {
   "metadata": {
    "ExecuteTime": {
     "end_time": "2024-06-09T08:52:24.825016Z",
     "start_time": "2024-06-09T08:52:24.819407Z"
    }
   },
   "cell_type": "code",
   "source": "printEmpInfo(emp1)",
   "id": "fb32b697822957c5",
   "outputs": [
    {
     "name": "stdout",
     "output_type": "stream",
     "text": [
      "Name: <NAME>, age: 25, dept: A\n"
     ]
    }
   ],
   "execution_count": 7
  },
  {
   "metadata": {
    "ExecuteTime": {
     "end_time": "2024-06-09T08:52:33.587213Z",
     "start_time": "2024-06-09T08:52:33.559329Z"
    }
   },
   "cell_type": "code",
   "source": "printEmpInfo(emp2)",
   "id": "965ad8675e5898a2",
   "outputs": [
    {
     "ename": "KeyError",
     "evalue": "'Name'",
     "output_type": "error",
     "traceback": [
      "\u001B[0;31m---------------------------------------------------------------------------\u001B[0m",
      "\u001B[0;31mKeyError\u001B[0m                                  Traceback (most recent call last)",
      "Cell \u001B[0;32mIn[8], line 1\u001B[0m\n\u001B[0;32m----> 1\u001B[0m \u001B[43mprintEmpInfo\u001B[49m\u001B[43m(\u001B[49m\u001B[43memp2\u001B[49m\u001B[43m)\u001B[49m\n",
      "Cell \u001B[0;32mIn[6], line 2\u001B[0m, in \u001B[0;36mprintEmpInfo\u001B[0;34m(emp)\u001B[0m\n\u001B[1;32m      1\u001B[0m \u001B[38;5;28;01mdef\u001B[39;00m \u001B[38;5;21mprintEmpInfo\u001B[39m(emp):\n\u001B[0;32m----> 2\u001B[0m     \u001B[38;5;28mprint\u001B[39m(\u001B[38;5;124mf\u001B[39m\u001B[38;5;124m'\u001B[39m\u001B[38;5;124mName: \u001B[39m\u001B[38;5;132;01m{\u001B[39;00m\u001B[43memp\u001B[49m\u001B[43m[\u001B[49m\u001B[38;5;124;43m\"\u001B[39;49m\u001B[38;5;124;43mName\u001B[39;49m\u001B[38;5;124;43m\"\u001B[39;49m\u001B[43m]\u001B[49m\u001B[38;5;132;01m}\u001B[39;00m\u001B[38;5;124m, age: \u001B[39m\u001B[38;5;132;01m{\u001B[39;00memp[\u001B[38;5;124m\"\u001B[39m\u001B[38;5;124mAge\u001B[39m\u001B[38;5;124m\"\u001B[39m]\u001B[38;5;132;01m}\u001B[39;00m\u001B[38;5;124m, dept: \u001B[39m\u001B[38;5;132;01m{\u001B[39;00memp[\u001B[38;5;124m\"\u001B[39m\u001B[38;5;124mdept\u001B[39m\u001B[38;5;124m\"\u001B[39m]\u001B[38;5;132;01m}\u001B[39;00m\u001B[38;5;124m'\u001B[39m)\n",
      "\u001B[0;31mKeyError\u001B[0m: 'Name'"
     ]
    }
   ],
   "execution_count": 8
  },
  {
   "metadata": {},
   "cell_type": "markdown",
   "source": [
    "# Define classes\n",
    "    --> define my own data structure\n",
    "    --> define set of properties and set of values \n",
    "  "
   ],
   "id": "ae136a4dc1a552d0"
  },
  {
   "metadata": {},
   "cell_type": "markdown",
   "source": "1- define a class ",
   "id": "2aa0aa2225a26e53"
  },
  {
   "metadata": {
    "ExecuteTime": {
     "end_time": "2024-06-09T08:54:00.489255Z",
     "start_time": "2024-06-09T08:54:00.486113Z"
    }
   },
   "cell_type": "code",
   "source": [
    "class Employee:\n",
    "    pass "
   ],
   "id": "a4500ba0b3f37c87",
   "outputs": [],
   "execution_count": 9
  },
  {
   "metadata": {},
   "cell_type": "markdown",
   "source": "2- generate object from the class ",
   "id": "cbb20f821674298e"
  },
  {
   "metadata": {
    "ExecuteTime": {
     "end_time": "2024-06-09T08:55:12.707943Z",
     "start_time": "2024-06-09T08:55:12.703156Z"
    }
   },
   "cell_type": "code",
   "source": [
    "emp = Employee()\n",
    "print(emp, type(emp))"
   ],
   "id": "4fa3f609e1a8406b",
   "outputs": [
    {
     "name": "stdout",
     "output_type": "stream",
     "text": [
      "<__main__.Employee object at 0x767156f37e10> <class '__main__.Employee'>\n"
     ]
    }
   ],
   "execution_count": 10
  },
  {
   "metadata": {},
   "cell_type": "markdown",
   "source": [
    "# loosely dynamically typed lang\n",
    "So you can change object structrure in runtime"
   ],
   "id": "e02b04ea6c646d59"
  },
  {
   "metadata": {
    "ExecuteTime": {
     "end_time": "2024-06-09T08:58:04.974436Z",
     "start_time": "2024-06-09T08:58:04.968318Z"
    }
   },
   "cell_type": "code",
   "source": "emp.name = 'ahmed'",
   "id": "3ee085ea6b8de840",
   "outputs": [],
   "execution_count": 11
  },
  {
   "metadata": {
    "ExecuteTime": {
     "end_time": "2024-06-09T09:00:54.877614Z",
     "start_time": "2024-06-09T09:00:54.864310Z"
    }
   },
   "cell_type": "code",
   "source": [
    "emp2= Employee()\n",
    "emp.salary =1000"
   ],
   "id": "88410af30392aed3",
   "outputs": [],
   "execution_count": 13
  },
  {
   "metadata": {},
   "cell_type": "markdown",
   "source": [
    " assume class is object factory\n",
    " # let's customize object creation \n",
    "    --> def __init__() ---> constructor function --> it will be called while creating \n",
    "    the object"
   ],
   "id": "ea64e235d4e7bec8"
  },
  {
   "metadata": {
    "ExecuteTime": {
     "end_time": "2024-06-09T09:02:48.360131Z",
     "start_time": "2024-06-09T09:02:48.355873Z"
    }
   },
   "cell_type": "code",
   "source": [
    "class Employee:\n",
    "    # when I create object --> I need to reserve new location in memory\n",
    "    def __init__(self): # self represent object address \n",
    "        print(f'Employee is created, {self}')"
   ],
   "id": "11f8ac8994fdeed1",
   "outputs": [],
   "execution_count": 14
  },
  {
   "metadata": {
    "ExecuteTime": {
     "end_time": "2024-06-09T09:02:54.452473Z",
     "start_time": "2024-06-09T09:02:54.447996Z"
    }
   },
   "cell_type": "code",
   "source": "emp  =Employee()  # emp --> object address ",
   "id": "15a994802822cb2b",
   "outputs": [
    {
     "name": "stdout",
     "output_type": "stream",
     "text": [
      "Employee is created, <__main__.Employee object at 0x767156f72510>\n"
     ]
    }
   ],
   "execution_count": 15
  },
  {
   "metadata": {
    "ExecuteTime": {
     "end_time": "2024-06-09T09:03:05.661903Z",
     "start_time": "2024-06-09T09:03:05.656300Z"
    }
   },
   "cell_type": "code",
   "source": "print(emp)",
   "id": "450ec8c60e52197",
   "outputs": [
    {
     "name": "stdout",
     "output_type": "stream",
     "text": [
      "<__main__.Employee object at 0x767156f72510>\n"
     ]
    }
   ],
   "execution_count": 16
  },
  {
   "metadata": {
    "ExecuteTime": {
     "end_time": "2024-06-09T09:05:10.217580Z",
     "start_time": "2024-06-09T09:05:10.213813Z"
    }
   },
   "cell_type": "code",
   "source": [
    "emp2 = Employee()\n",
    "print(emp2)"
   ],
   "id": "b7df8dc85233ff6e",
   "outputs": [
    {
     "name": "stdout",
     "output_type": "stream",
     "text": [
      "Employee is created, <__main__.Employee object at 0x767156f73a90>\n",
      "<__main__.Employee object at 0x767156f73a90>\n"
     ]
    }
   ],
   "execution_count": 17
  },
  {
   "metadata": {},
   "cell_type": "markdown",
   "source": "# create object with properties name , id , salary",
   "id": "606ce99149287059"
  },
  {
   "metadata": {
    "ExecuteTime": {
     "end_time": "2024-06-09T09:07:21.479112Z",
     "start_time": "2024-06-09T09:07:21.475364Z"
    }
   },
   "cell_type": "code",
   "source": [
    "class Employee:\n",
    "    # when I create object --> I need to reserve new location in memory\n",
    "    def __init__(self): # self represent object address \n",
    "        print(f'Employee is created, {self}')\n",
    "        self.id = 100\n",
    "        self.name = '<NAME>'\n",
    "        self.salary = 1000\n",
    "        \n",
    "        \n",
    "emp = Employee()\n",
    "# emp.id = 100\n",
    "# emp.name = '<NAME>'\n",
    "# emp.salary = 1000"
   ],
   "id": "56e514bfc997aaeb",
   "outputs": [
    {
     "name": "stdout",
     "output_type": "stream",
     "text": [
      "Employee is created, <__main__.Employee object at 0x76716c7168d0>\n"
     ]
    }
   ],
   "execution_count": 18
  },
  {
   "metadata": {},
   "cell_type": "markdown",
   "source": "# customize object creation ",
   "id": "7c30cbbbdf46783d"
  },
  {
   "metadata": {
    "ExecuteTime": {
     "end_time": "2024-06-09T09:09:36.564305Z",
     "start_time": "2024-06-09T09:09:36.560898Z"
    }
   },
   "cell_type": "code",
   "source": [
    "class Employee:\n",
    "    def __init__(self,id, name, salary): # self represent object address \n",
    "        print(f'Employee is created, {self}')\n",
    "        # id and name and salary --> instance variables \n",
    "         # their values depends on caller instances \n",
    "        self.id = id\n",
    "        self.name = name\n",
    "        self.salary = salary"
   ],
   "id": "6474e1f4c478b054",
   "outputs": [],
   "execution_count": 19
  },
  {
   "metadata": {
    "ExecuteTime": {
     "end_time": "2024-06-09T09:09:41.418295Z",
     "start_time": "2024-06-09T09:09:41.401096Z"
    }
   },
   "cell_type": "code",
   "source": "emp = Employee()",
   "id": "3cc75194e2844319",
   "outputs": [
    {
     "ename": "TypeError",
     "evalue": "Employee.__init__() missing 3 required positional arguments: 'id', 'name', and 'salary'",
     "output_type": "error",
     "traceback": [
      "\u001B[0;31m---------------------------------------------------------------------------\u001B[0m",
      "\u001B[0;31mTypeError\u001B[0m                                 Traceback (most recent call last)",
      "Cell \u001B[0;32mIn[20], line 1\u001B[0m\n\u001B[0;32m----> 1\u001B[0m emp \u001B[38;5;241m=\u001B[39m \u001B[43mEmployee\u001B[49m\u001B[43m(\u001B[49m\u001B[43m)\u001B[49m\n",
      "\u001B[0;31mTypeError\u001B[0m: Employee.__init__() missing 3 required positional arguments: 'id', 'name', and 'salary'"
     ]
    }
   ],
   "execution_count": 20
  },
  {
   "metadata": {
    "ExecuteTime": {
     "end_time": "2024-06-09T09:09:55.661534Z",
     "start_time": "2024-06-09T09:09:55.650314Z"
    }
   },
   "cell_type": "code",
   "source": "emp = Employee(1, 'noha', 1000)",
   "id": "6a232a2483792a88",
   "outputs": [
    {
     "name": "stdout",
     "output_type": "stream",
     "text": [
      "Employee is created, <__main__.Employee object at 0x767156f82e10>\n"
     ]
    }
   ],
   "execution_count": 21
  },
  {
   "metadata": {
    "ExecuteTime": {
     "end_time": "2024-06-09T09:10:49.611779Z",
     "start_time": "2024-06-09T09:10:49.607282Z"
    }
   },
   "cell_type": "code",
   "source": "emp2= Employee(2,'Osama', 2000)",
   "id": "b10d08ee4af45096",
   "outputs": [
    {
     "name": "stdout",
     "output_type": "stream",
     "text": [
      "Employee is created, <__main__.Employee object at 0x767156f8e110>\n"
     ]
    }
   ],
   "execution_count": 22
  },
  {
   "metadata": {
    "ExecuteTime": {
     "end_time": "2024-06-09T09:10:57.744644Z",
     "start_time": "2024-06-09T09:10:57.741225Z"
    }
   },
   "cell_type": "code",
   "source": "print(emp.name)",
   "id": "159b6c0ae97e540b",
   "outputs": [
    {
     "name": "stdout",
     "output_type": "stream",
     "text": [
      "noha\n"
     ]
    }
   ],
   "execution_count": 23
  },
  {
   "metadata": {
    "ExecuteTime": {
     "end_time": "2024-06-09T09:11:08.631306Z",
     "start_time": "2024-06-09T09:11:08.627512Z"
    }
   },
   "cell_type": "code",
   "source": "print(emp2.name)",
   "id": "996d907d7d04afaf",
   "outputs": [
    {
     "name": "stdout",
     "output_type": "stream",
     "text": [
      "Osama\n"
     ]
    }
   ],
   "execution_count": 24
  },
  {
   "metadata": {},
   "cell_type": "markdown",
   "source": "# Add functionality to the class ",
   "id": "fe88fdb9ccd91d87"
  },
  {
   "metadata": {
    "ExecuteTime": {
     "end_time": "2024-06-09T09:13:42.508636Z",
     "start_time": "2024-06-09T09:13:42.502954Z"
    }
   },
   "cell_type": "code",
   "source": [
    "class Employee:\n",
    "    def __init__(self,id, name, salary): # self represent object address \n",
    "        self.id = id\n",
    "        self.name = name\n",
    "        self.salary = salary\n",
    "    def printEmpInfo(self): # instance method ? behaviour depends on caller instance \n",
    "        print(f'Employee has is ={self.id}, name={self.name}, salary={self.salary}')"
   ],
   "id": "b17de06e448387cb",
   "outputs": [],
   "execution_count": 25
  },
  {
   "metadata": {
    "ExecuteTime": {
     "end_time": "2024-06-09T09:13:56.952276Z",
     "start_time": "2024-06-09T09:13:56.948432Z"
    }
   },
   "cell_type": "code",
   "source": [
    "emp1 = Employee(1,'noha', 1000)\n",
    "emp1.printEmpInfo()"
   ],
   "id": "6250125e9980e0da",
   "outputs": [
    {
     "name": "stdout",
     "output_type": "stream",
     "text": [
      "Employee has is =1, name=noha, salary=1000\n"
     ]
    }
   ],
   "execution_count": 26
  },
  {
   "metadata": {
    "ExecuteTime": {
     "end_time": "2024-06-09T09:14:14.023295Z",
     "start_time": "2024-06-09T09:14:14.020034Z"
    }
   },
   "cell_type": "code",
   "source": [
    "emp2 = Employee(2,'omar', 2000)\n",
    "emp2.printEmpInfo()"
   ],
   "id": "3c7c22a40f969f29",
   "outputs": [
    {
     "name": "stdout",
     "output_type": "stream",
     "text": [
      "Employee has is =2, name=omar, salary=2000\n"
     ]
    }
   ],
   "execution_count": 27
  },
  {
   "metadata": {
    "ExecuteTime": {
     "end_time": "2024-06-09T09:15:00.747445Z",
     "start_time": "2024-06-09T09:15:00.743967Z"
    }
   },
   "cell_type": "code",
   "source": "emp2.city = 'cairo'",
   "id": "5133d63531c197a",
   "outputs": [],
   "execution_count": 28
  },
  {
   "metadata": {},
   "cell_type": "markdown",
   "source": "# display object properties in form of dict ",
   "id": "85900f0bb43125ee"
  },
  {
   "metadata": {
    "ExecuteTime": {
     "end_time": "2024-06-09T09:15:36.406868Z",
     "start_time": "2024-06-09T09:15:36.403220Z"
    }
   },
   "cell_type": "code",
   "source": "print(emp1.__dict__)",
   "id": "a73bfe65af59d65",
   "outputs": [
    {
     "name": "stdout",
     "output_type": "stream",
     "text": [
      "{'id': 1, 'name': 'noha', 'salary': 1000}\n"
     ]
    }
   ],
   "execution_count": 29
  },
  {
   "metadata": {
    "ExecuteTime": {
     "end_time": "2024-06-09T09:15:47.249829Z",
     "start_time": "2024-06-09T09:15:47.246192Z"
    }
   },
   "cell_type": "code",
   "source": "print(emp2.__dict__)",
   "id": "4e9be68f4cdba920",
   "outputs": [
    {
     "name": "stdout",
     "output_type": "stream",
     "text": [
      "{'id': 2, 'name': 'omar', 'salary': 2000, 'city': 'cairo'}\n"
     ]
    }
   ],
   "execution_count": 30
  },
  {
   "metadata": {
    "ExecuteTime": {
     "end_time": "2024-06-09T09:16:13.130234Z",
     "start_time": "2024-06-09T09:16:13.126612Z"
    }
   },
   "cell_type": "code",
   "source": [
    "emp2.salary = 5000\n",
    "print(emp2.salary)\n",
    "print(emp2.__dict__)"
   ],
   "id": "f7113821b766d6ec",
   "outputs": [
    {
     "name": "stdout",
     "output_type": "stream",
     "text": [
      "5000\n",
      "{'id': 2, 'name': 'omar', 'salary': 5000, 'city': 'cairo'}\n"
     ]
    }
   ],
   "execution_count": 31
  },
  {
   "metadata": {},
   "cell_type": "code",
   "outputs": [],
   "execution_count": null,
   "source": "",
   "id": "6cc4af1ffb1b52e0"
  }
 ],
 "metadata": {
  "kernelspec": {
   "display_name": "Python 3",
   "language": "python",
   "name": "python3"
  },
  "language_info": {
   "codemirror_mode": {
    "name": "ipython",
    "version": 2
   },
   "file_extension": ".py",
   "mimetype": "text/x-python",
   "name": "python",
   "nbconvert_exporter": "python",
   "pygments_lexer": "ipython2",
   "version": "2.7.6"
  }
 },
 "nbformat": 4,
 "nbformat_minor": 5
}
