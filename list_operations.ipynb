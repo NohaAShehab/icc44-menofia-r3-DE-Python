{
 "cells": [
  {
   "metadata": {},
   "cell_type": "markdown",
   "source": "List is mutable datatype =--> can hold different values from different data types",
   "id": "d42f29e19da92a6c"
  },
  {
   "metadata": {},
   "cell_type": "markdown",
   "source": "to define list",
   "id": "6c598dcbba968ed2"
  },
  {
   "cell_type": "code",
   "id": "initial_id",
   "metadata": {
    "collapsed": true,
    "ExecuteTime": {
     "end_time": "2024-06-06T08:55:02.033124Z",
     "start_time": "2024-06-06T08:55:02.022792Z"
    }
   },
   "source": [
    "l = []\n",
    "myl = list()\n",
    "print(type(l), type(myl))"
   ],
   "outputs": [
    {
     "name": "stdout",
     "output_type": "stream",
     "text": [
      "<class 'list'> <class 'list'>\n"
     ]
    }
   ],
   "execution_count": 1
  },
  {
   "metadata": {
    "ExecuteTime": {
     "end_time": "2024-06-06T08:55:59.215204Z",
     "start_time": "2024-06-06T08:55:59.210882Z"
    }
   },
   "cell_type": "code",
   "source": [
    "myl = [3,'iti', 34.344, 'iti', True, ['python', 'sql'],None]\n",
    "print(myl)"
   ],
   "id": "df1de32bf618265d",
   "outputs": [
    {
     "name": "stdout",
     "output_type": "stream",
     "text": [
      "[3, 'iti', 34.344, 'iti', True, ['python', 'sql'], None]\n"
     ]
    }
   ],
   "execution_count": 2
  },
  {
   "metadata": {},
   "cell_type": "markdown",
   "source": "get len of list ",
   "id": "d954f677ac88c6"
  },
  {
   "metadata": {
    "ExecuteTime": {
     "end_time": "2024-06-06T08:56:34.426549Z",
     "start_time": "2024-06-06T08:56:34.423319Z"
    }
   },
   "cell_type": "code",
   "source": "print(len(myl))",
   "id": "27c0414d88a12659",
   "outputs": [
    {
     "name": "stdout",
     "output_type": "stream",
     "text": [
      "7\n"
     ]
    }
   ],
   "execution_count": 3
  },
  {
   "metadata": {},
   "cell_type": "markdown",
   "source": "count element occcurence ",
   "id": "51e315ef98a99856"
  },
  {
   "metadata": {
    "ExecuteTime": {
     "end_time": "2024-06-06T08:57:30.658280Z",
     "start_time": "2024-06-06T08:57:30.653196Z"
    }
   },
   "cell_type": "code",
   "source": "print(myl.count('iti'))",
   "id": "e49b6da2861015ba",
   "outputs": [
    {
     "name": "stdout",
     "output_type": "stream",
     "text": [
      "2\n"
     ]
    }
   ],
   "execution_count": 4
  },
  {
   "metadata": {},
   "cell_type": "markdown",
   "source": "get index of element ?",
   "id": "51e691a0ff8ecf11"
  },
  {
   "metadata": {
    "ExecuteTime": {
     "end_time": "2024-06-06T08:57:54.849176Z",
     "start_time": "2024-06-06T08:57:54.844969Z"
    }
   },
   "cell_type": "code",
   "source": "print(myl.index('iti'))",
   "id": "7c7841938343e77a",
   "outputs": [
    {
     "name": "stdout",
     "output_type": "stream",
     "text": [
      "1\n"
     ]
    }
   ],
   "execution_count": 5
  },
  {
   "metadata": {},
   "cell_type": "markdown",
   "source": "loop over elements ?",
   "id": "2a27416e3607f31"
  },
  {
   "metadata": {
    "ExecuteTime": {
     "end_time": "2024-06-06T08:58:20.526004Z",
     "start_time": "2024-06-06T08:58:20.522437Z"
    }
   },
   "cell_type": "code",
   "source": [
    "for element in myl:\n",
    "    print(f\"element={element}\")"
   ],
   "id": "806c31085c97ee11",
   "outputs": [
    {
     "name": "stdout",
     "output_type": "stream",
     "text": [
      "element=3\n",
      "element=iti\n",
      "element=34.344\n",
      "element=iti\n",
      "element=True\n",
      "element=['python', 'sql']\n",
      "element=None\n"
     ]
    }
   ],
   "execution_count": 6
  },
  {
   "metadata": {},
   "cell_type": "markdown",
   "source": "access list items using index ",
   "id": "cbe5ef4b4d3fb0d4"
  },
  {
   "metadata": {
    "ExecuteTime": {
     "end_time": "2024-06-06T08:58:49.323918Z",
     "start_time": "2024-06-06T08:58:49.319128Z"
    }
   },
   "cell_type": "code",
   "source": "print(myl[4])",
   "id": "352028557eb67906",
   "outputs": [
    {
     "name": "stdout",
     "output_type": "stream",
     "text": [
      "True\n"
     ]
    }
   ],
   "execution_count": 7
  },
  {
   "metadata": {},
   "cell_type": "markdown",
   "source": "slicing the list ",
   "id": "f94fd9d0122bdde3"
  },
  {
   "metadata": {
    "ExecuteTime": {
     "end_time": "2024-06-06T08:59:12.249870Z",
     "start_time": "2024-06-06T08:59:12.245281Z"
    }
   },
   "cell_type": "code",
   "source": "print(myl[2:])",
   "id": "5fb9d8dc2ea20da3",
   "outputs": [
    {
     "name": "stdout",
     "output_type": "stream",
     "text": [
      "[34.344, 'iti', True, ['python', 'sql'], None]\n"
     ]
    }
   ],
   "execution_count": 8
  },
  {
   "metadata": {},
   "cell_type": "markdown",
   "source": "get sql ?? ",
   "id": "fc5e3f99f06ab873"
  },
  {
   "metadata": {
    "ExecuteTime": {
     "end_time": "2024-06-06T08:59:53.759718Z",
     "start_time": "2024-06-06T08:59:53.752521Z"
    }
   },
   "cell_type": "code",
   "source": "print(myl[5][1])",
   "id": "d4d530eede2a3142",
   "outputs": [
    {
     "name": "stdout",
     "output_type": "stream",
     "text": [
      "sql\n"
     ]
    }
   ],
   "execution_count": 10
  },
  {
   "metadata": {},
   "cell_type": "markdown",
   "source": "list is mutable datatype ",
   "id": "7a5acd9e7fb617ae"
  },
  {
   "metadata": {
    "ExecuteTime": {
     "end_time": "2024-06-06T09:01:16.794397Z",
     "start_time": "2024-06-06T09:01:16.789573Z"
    }
   },
   "cell_type": "code",
   "source": [
    "print(myl)\n",
    "myl[2]='updated'\n",
    "print(myl)"
   ],
   "id": "8deaa9b0dda24000",
   "outputs": [
    {
     "name": "stdout",
     "output_type": "stream",
     "text": [
      "[3, 'iti', 34.344, 'iti', True, ['python', 'sql'], None]\n",
      "[3, 'iti', 'updated', 'iti', True, ['python', 'sql'], None]\n"
     ]
    }
   ],
   "execution_count": 11
  },
  {
   "metadata": {
    "ExecuteTime": {
     "end_time": "2024-06-06T09:01:56.214031Z",
     "start_time": "2024-06-06T09:01:56.001250Z"
    }
   },
   "cell_type": "code",
   "source": "myl[30]='anyvalue'",
   "id": "15aa3b4e6e9b0d46",
   "outputs": [
    {
     "ename": "IndexError",
     "evalue": "list assignment index out of range",
     "output_type": "error",
     "traceback": [
      "\u001B[0;31m---------------------------------------------------------------------------\u001B[0m",
      "\u001B[0;31mIndexError\u001B[0m                                Traceback (most recent call last)",
      "Cell \u001B[0;32mIn[12], line 1\u001B[0m\n\u001B[0;32m----> 1\u001B[0m \u001B[43mmyl\u001B[49m\u001B[43m[\u001B[49m\u001B[38;5;241;43m30\u001B[39;49m\u001B[43m]\u001B[49m\u001B[38;5;241m=\u001B[39m\u001B[38;5;124m'\u001B[39m\u001B[38;5;124manyvalue\u001B[39m\u001B[38;5;124m'\u001B[39m\n",
      "\u001B[0;31mIndexError\u001B[0m: list assignment index out of range"
     ]
    }
   ],
   "execution_count": 12
  },
  {
   "metadata": {},
   "cell_type": "markdown",
   "source": "append element to the list ",
   "id": "e67bcb910f0130aa"
  },
  {
   "metadata": {
    "ExecuteTime": {
     "end_time": "2024-06-06T09:02:30.609288Z",
     "start_time": "2024-06-06T09:02:30.605313Z"
    }
   },
   "cell_type": "code",
   "source": "myl.append(\"any item\")",
   "id": "ffdcfb4735c10f32",
   "outputs": [],
   "execution_count": 13
  },
  {
   "metadata": {
    "ExecuteTime": {
     "end_time": "2024-06-06T09:03:22.882104Z",
     "start_time": "2024-06-06T09:03:22.878689Z"
    }
   },
   "cell_type": "code",
   "source": "print(myl)",
   "id": "51e9bd68250f2bb1",
   "outputs": [
    {
     "name": "stdout",
     "output_type": "stream",
     "text": [
      "[3, 'iti', 'updated', 'iti', True, ['python', 'sql'], None, 'any item']\n"
     ]
    }
   ],
   "execution_count": 15
  },
  {
   "metadata": {},
   "cell_type": "markdown",
   "source": "insert element at certain position",
   "id": "fd0b214eddecb532"
  },
  {
   "metadata": {
    "ExecuteTime": {
     "end_time": "2024-06-06T09:03:29.155140Z",
     "start_time": "2024-06-06T09:03:29.151341Z"
    }
   },
   "cell_type": "code",
   "source": [
    "myl.insert(4, 'inserted element')\n",
    "print(myl)"
   ],
   "id": "eb8dcb3c6d870816",
   "outputs": [
    {
     "name": "stdout",
     "output_type": "stream",
     "text": [
      "[3, 'iti', 'updated', 'iti', 'inserted element', True, ['python', 'sql'], None, 'any item']\n"
     ]
    }
   ],
   "execution_count": 16
  },
  {
   "metadata": {
    "ExecuteTime": {
     "end_time": "2024-06-06T09:04:05.014337Z",
     "start_time": "2024-06-06T09:04:05.010886Z"
    }
   },
   "cell_type": "code",
   "source": [
    "myl.insert(100, 'myval')  # insert at non existing index === append \n",
    "print(myl)"
   ],
   "id": "51a3e2b3c802fe58",
   "outputs": [
    {
     "name": "stdout",
     "output_type": "stream",
     "text": [
      "[3, 'iti', 'updated', 'iti', 'inserted element', True, ['python', 'sql'], None, 'any item', 'myval']\n"
     ]
    }
   ],
   "execution_count": 17
  },
  {
   "metadata": {},
   "cell_type": "markdown",
   "source": "remove element",
   "id": "c8037ade31faff47"
  },
  {
   "metadata": {
    "ExecuteTime": {
     "end_time": "2024-06-06T09:05:34.590802Z",
     "start_time": "2024-06-06T09:05:34.585235Z"
    }
   },
   "cell_type": "code",
   "source": [
    "popped_element = myl.pop()  # remove the last element\n",
    "print(popped_element)\n",
    "print(myl)"
   ],
   "id": "3eb99f50f37fe04",
   "outputs": [
    {
     "name": "stdout",
     "output_type": "stream",
     "text": [
      "myval\n",
      "[3, 'iti', 'updated', 'iti', 'inserted element', True, ['python', 'sql'], None, 'any item']\n"
     ]
    }
   ],
   "execution_count": 18
  },
  {
   "metadata": {},
   "cell_type": "markdown",
   "source": "pop can accept index ",
   "id": "32a333eba2247e7d"
  },
  {
   "metadata": {
    "ExecuteTime": {
     "end_time": "2024-06-06T09:06:14.776326Z",
     "start_time": "2024-06-06T09:06:14.772382Z"
    }
   },
   "cell_type": "code",
   "source": [
    "popped_element = myl.pop(5)  # remove the last element\n",
    "print(popped_element)\n",
    "print(myl)"
   ],
   "id": "a6705cc6f69c90f9",
   "outputs": [
    {
     "name": "stdout",
     "output_type": "stream",
     "text": [
      "True\n",
      "[3, 'iti', 'updated', 'iti', 'inserted element', ['python', 'sql'], None, 'any item']\n"
     ]
    }
   ],
   "execution_count": 19
  },
  {
   "metadata": {},
   "cell_type": "markdown",
   "source": "remove element ???",
   "id": "d32cd1e8ef998c0"
  },
  {
   "metadata": {
    "ExecuteTime": {
     "end_time": "2024-06-06T09:06:43.770922Z",
     "start_time": "2024-06-06T09:06:43.767609Z"
    }
   },
   "cell_type": "code",
   "source": [
    "myl.remove(\"iti\")\n",
    "print(myl)"
   ],
   "id": "c230addc9be22dd5",
   "outputs": [
    {
     "name": "stdout",
     "output_type": "stream",
     "text": [
      "[3, 'updated', 'iti', 'inserted element', ['python', 'sql'], None, 'any item']\n"
     ]
    }
   ],
   "execution_count": 20
  },
  {
   "metadata": {},
   "cell_type": "markdown",
   "source": "check element exists or not in list?",
   "id": "3aec6b86659bfcfe"
  },
  {
   "metadata": {
    "ExecuteTime": {
     "end_time": "2024-06-06T09:07:28.857806Z",
     "start_time": "2024-06-06T09:07:28.854249Z"
    }
   },
   "cell_type": "code",
   "source": "print(\"iti\" in myl)",
   "id": "d3f0e095e7a3196c",
   "outputs": [
    {
     "name": "stdout",
     "output_type": "stream",
     "text": [
      "True\n"
     ]
    }
   ],
   "execution_count": 21
  },
  {
   "metadata": {},
   "cell_type": "markdown",
   "source": "concat list ?",
   "id": "7cc63ee3669a8ab4"
  },
  {
   "metadata": {
    "ExecuteTime": {
     "end_time": "2024-06-06T09:08:32.786626Z",
     "start_time": "2024-06-06T09:08:32.782444Z"
    }
   },
   "cell_type": "code",
   "source": [
    "l1 = ['python', 'sql', 'nosql', 'datawherehouse']\n",
    "l2 = ['presentation skills', 'communication skills']\n",
    "l3 = l1  + l2 \n",
    "print(l3)"
   ],
   "id": "2d1dd8baa402f3e8",
   "outputs": [
    {
     "name": "stdout",
     "output_type": "stream",
     "text": [
      "['python', 'sql', 'nosql', 'datawherehouse', 'presentation skills', 'communication skills']\n"
     ]
    }
   ],
   "execution_count": 22
  },
  {
   "metadata": {},
   "cell_type": "markdown",
   "source": "extend a list",
   "id": "e42b7f02ce3e6d84"
  },
  {
   "metadata": {
    "ExecuteTime": {
     "end_time": "2024-06-06T09:09:27.898177Z",
     "start_time": "2024-06-06T09:09:27.893880Z"
    }
   },
   "cell_type": "code",
   "source": [
    "print(l1)\n",
    "print(l2)"
   ],
   "id": "81070faeb2f64024",
   "outputs": [
    {
     "name": "stdout",
     "output_type": "stream",
     "text": [
      "['python', 'sql', 'nosql', 'datawherehouse']\n",
      "['presentation skills', 'communication skills']\n"
     ]
    }
   ],
   "execution_count": 23
  },
  {
   "metadata": {
    "ExecuteTime": {
     "end_time": "2024-06-06T09:09:47.503381Z",
     "start_time": "2024-06-06T09:09:47.500020Z"
    }
   },
   "cell_type": "code",
   "source": [
    "l1.extend(l2)\n",
    "print(l1)\n",
    "print(l2)"
   ],
   "id": "f586a08e014916c6",
   "outputs": [
    {
     "name": "stdout",
     "output_type": "stream",
     "text": [
      "['python', 'sql', 'nosql', 'datawherehouse', 'presentation skills', 'communication skills']\n",
      "['presentation skills', 'communication skills']\n"
     ]
    }
   ],
   "execution_count": 24
  },
  {
   "metadata": {},
   "cell_type": "markdown",
   "source": [
    "# list elements must be from the same type\n",
    "sort list items (sort the same list )\n",
    "\n"
   ],
   "id": "b8c5475c22eaee3e"
  },
  {
   "metadata": {
    "ExecuteTime": {
     "end_time": "2024-06-06T09:12:12.064414Z",
     "start_time": "2024-06-06T09:12:12.061140Z"
    }
   },
   "cell_type": "code",
   "source": [
    "print(l1)\n",
    "l1.sort()\n",
    "print(l1)"
   ],
   "id": "ef3dab61f7a61f48",
   "outputs": [
    {
     "name": "stdout",
     "output_type": "stream",
     "text": [
      "['python', 'sql', 'nosql', 'datawherehouse', 'presentation skills', 'communication skills']\n",
      "['communication skills', 'datawherehouse', 'nosql', 'presentation skills', 'python', 'sql']\n"
     ]
    }
   ],
   "execution_count": 25
  },
  {
   "metadata": {
    "ExecuteTime": {
     "end_time": "2024-06-06T09:14:12.001349Z",
     "start_time": "2024-06-06T09:14:11.997301Z"
    }
   },
   "cell_type": "code",
   "source": [
    "ll = ['ahmed mohamed','ahmed Mohamed', 'ali','Noha' ]\n",
    "ll.sort()\n",
    "print(ll)"
   ],
   "id": "a4a9f49970639729",
   "outputs": [
    {
     "name": "stdout",
     "output_type": "stream",
     "text": [
      "['Noha', 'ahmed Mohamed', 'ahmed mohamed', 'ali']\n"
     ]
    }
   ],
   "execution_count": 27
  },
  {
   "metadata": {},
   "cell_type": "markdown",
   "source": "# sort elements descending ",
   "id": "e4d094b95d9feb4c"
  },
  {
   "metadata": {
    "ExecuteTime": {
     "end_time": "2024-06-06T09:14:46.425143Z",
     "start_time": "2024-06-06T09:14:46.421514Z"
    }
   },
   "cell_type": "code",
   "source": [
    "l1.sort(reverse=True)\n",
    "print(l1)"
   ],
   "id": "5b25471e09fc5152",
   "outputs": [
    {
     "name": "stdout",
     "output_type": "stream",
     "text": [
      "['sql', 'python', 'presentation skills', 'nosql', 'datawherehouse', 'communication skills']\n"
     ]
    }
   ],
   "execution_count": 28
  },
  {
   "metadata": {},
   "cell_type": "markdown",
   "source": "# reverse a list ?",
   "id": "c395b200988bcb17"
  },
  {
   "metadata": {
    "ExecuteTime": {
     "end_time": "2024-06-06T09:15:15.945244Z",
     "start_time": "2024-06-06T09:15:15.941978Z"
    }
   },
   "cell_type": "code",
   "source": [
    "print(myl)\n",
    "myl.reverse()\n",
    "print(myl)"
   ],
   "id": "fe05dad580a7159b",
   "outputs": [
    {
     "name": "stdout",
     "output_type": "stream",
     "text": [
      "[3, 'updated', 'iti', 'inserted element', ['python', 'sql'], None, 'any item']\n",
      "['any item', None, ['python', 'sql'], 'inserted element', 'iti', 'updated', 3]\n"
     ]
    }
   ],
   "execution_count": 29
  },
  {
   "metadata": {},
   "cell_type": "markdown",
   "source": "split string to a list ",
   "id": "4cea6ae82b5713ac"
  },
  {
   "metadata": {
    "ExecuteTime": {
     "end_time": "2024-06-06T09:17:11.849222Z",
     "start_time": "2024-06-06T09:17:11.845326Z"
    }
   },
   "cell_type": "code",
   "source": [
    "msg = 'I love python'\n",
    "res = msg.split(\" \")\n",
    "print(res)"
   ],
   "id": "6a66aea2077a8a7d",
   "outputs": [
    {
     "name": "stdout",
     "output_type": "stream",
     "text": [
      "['I', 'love', 'python']\n"
     ]
    }
   ],
   "execution_count": 30
  },
  {
   "metadata": {},
   "cell_type": "markdown",
   "source": "join list of strings into one string ? ",
   "id": "a10c6eaf8f305dce"
  },
  {
   "metadata": {
    "ExecuteTime": {
     "end_time": "2024-06-06T09:19:20.309908Z",
     "start_time": "2024-06-06T09:19:20.306739Z"
    }
   },
   "cell_type": "code",
   "source": [
    "students = ['ahmed', 'mohamed', 'ali', 'sara']\n",
    "newstr = '     '.join(students)\n",
    "print(newstr, type(newstr))"
   ],
   "id": "7178fd6542f2bdcf",
   "outputs": [
    {
     "name": "stdout",
     "output_type": "stream",
     "text": [
      "ahmed     mohamed     ali     sara <class 'str'>\n"
     ]
    }
   ],
   "execution_count": 35
  },
  {
   "metadata": {},
   "cell_type": "markdown",
   "source": [
    "# min-max\n",
    "list items must be from the same type  \n"
   ],
   "id": "1d2c165505469b50"
  },
  {
   "metadata": {
    "ExecuteTime": {
     "end_time": "2024-06-06T09:21:27.143252Z",
     "start_time": "2024-06-06T09:21:27.140081Z"
    }
   },
   "cell_type": "code",
   "source": "print(min(l1))",
   "id": "8bda332e9e41f112",
   "outputs": [
    {
     "name": "stdout",
     "output_type": "stream",
     "text": [
      "communication skills\n"
     ]
    }
   ],
   "execution_count": 36
  },
  {
   "metadata": {
    "ExecuteTime": {
     "end_time": "2024-06-06T09:21:43.881327Z",
     "start_time": "2024-06-06T09:21:43.867244Z"
    }
   },
   "cell_type": "code",
   "source": "print(max(myl))",
   "id": "aa158e7f480dae06",
   "outputs": [
    {
     "ename": "TypeError",
     "evalue": "'>' not supported between instances of 'NoneType' and 'str'",
     "output_type": "error",
     "traceback": [
      "\u001B[0;31m---------------------------------------------------------------------------\u001B[0m",
      "\u001B[0;31mTypeError\u001B[0m                                 Traceback (most recent call last)",
      "Cell \u001B[0;32mIn[37], line 1\u001B[0m\n\u001B[0;32m----> 1\u001B[0m \u001B[38;5;28mprint\u001B[39m(\u001B[38;5;28;43mmax\u001B[39;49m\u001B[43m(\u001B[49m\u001B[43mmyl\u001B[49m\u001B[43m)\u001B[49m)\n",
      "\u001B[0;31mTypeError\u001B[0m: '>' not supported between instances of 'NoneType' and 'str'"
     ]
    }
   ],
   "execution_count": 37
  },
  {
   "metadata": {},
   "cell_type": "markdown",
   "source": "# enumerate",
   "id": "5867ad6b366d38d3"
  },
  {
   "metadata": {
    "ExecuteTime": {
     "end_time": "2024-06-06T09:22:54.000190Z",
     "start_time": "2024-06-06T09:22:53.996877Z"
    }
   },
   "cell_type": "code",
   "source": "print(myl)",
   "id": "51ac5492c625c737",
   "outputs": [
    {
     "name": "stdout",
     "output_type": "stream",
     "text": [
      "['any item', None, ['python', 'sql'], 'inserted element', 'iti', 'updated', 3]\n"
     ]
    }
   ],
   "execution_count": 38
  },
  {
   "metadata": {
    "ExecuteTime": {
     "end_time": "2024-06-06T09:23:06.335399Z",
     "start_time": "2024-06-06T09:23:06.331783Z"
    }
   },
   "cell_type": "code",
   "source": [
    "myl_enum = enumerate(myl)\n",
    "print(myl_enum)  # enumerate object --> generate index for each item"
   ],
   "id": "2e7b0c3975ac3510",
   "outputs": [
    {
     "name": "stdout",
     "output_type": "stream",
     "text": [
      "<enumerate object at 0x7d712176d7b0>\n"
     ]
    }
   ],
   "execution_count": 39
  },
  {
   "metadata": {
    "ExecuteTime": {
     "end_time": "2024-06-06T09:24:30.668549Z",
     "start_time": "2024-06-06T09:24:30.664505Z"
    }
   },
   "cell_type": "code",
   "source": [
    "for index , item in myl_enum:\n",
    "    print(f\"index= {index}, item={item}\")"
   ],
   "id": "85d3979bba9d5ea5",
   "outputs": [
    {
     "name": "stdout",
     "output_type": "stream",
     "text": [
      "index= 0, item=any item\n",
      "index= 1, item=None\n",
      "index= 2, item=['python', 'sql']\n",
      "index= 3, item=inserted element\n",
      "index= 4, item=iti\n",
      "index= 5, item=updated\n",
      "index= 6, item=3\n"
     ]
    }
   ],
   "execution_count": 40
  },
  {
   "metadata": {},
   "cell_type": "markdown",
   "source": "cast string to list ",
   "id": "4ed3a3781c2df0fd"
  },
  {
   "metadata": {
    "ExecuteTime": {
     "end_time": "2024-06-06T09:28:29.015505Z",
     "start_time": "2024-06-06T09:28:29.012071Z"
    }
   },
   "cell_type": "code",
   "source": [
    "message= 'hello world'\n",
    "print(list(message))"
   ],
   "id": "67ba6ecb995d9ca7",
   "outputs": [
    {
     "name": "stdout",
     "output_type": "stream",
     "text": [
      "['h', 'e', 'l', 'l', 'o', ' ', 'w', 'o', 'r', 'l', 'd']\n"
     ]
    }
   ],
   "execution_count": 41
  },
  {
   "metadata": {},
   "cell_type": "code",
   "outputs": [],
   "execution_count": null,
   "source": [
    "#noha  ===> nh\n",
    "\n",
    "# 3 \n",
    "# [\n",
    "#   [1],\n",
    "#[2,4],\n",
    "# [3,6,9]\n",
    "# ]\n",
    "\n",
    "# use only the basics we illustrated together in the lecture "
   ],
   "id": "e5a2503a23517447"
  }
 ],
 "metadata": {
  "kernelspec": {
   "display_name": "Python 3",
   "language": "python",
   "name": "python3"
  },
  "language_info": {
   "codemirror_mode": {
    "name": "ipython",
    "version": 2
   },
   "file_extension": ".py",
   "mimetype": "text/x-python",
   "name": "python",
   "nbconvert_exporter": "python",
   "pygments_lexer": "ipython2",
   "version": "2.7.6"
  }
 },
 "nbformat": 4,
 "nbformat_minor": 5
}
