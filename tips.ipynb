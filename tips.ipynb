{
 "cells": [
  {
   "metadata": {},
   "cell_type": "markdown",
   "source": "# OOP tips ",
   "id": "b3ac90dd59db49e2"
  },
  {
   "cell_type": "code",
   "id": "initial_id",
   "metadata": {
    "collapsed": true,
    "ExecuteTime": {
     "end_time": "2024-06-11T09:52:17.397352Z",
     "start_time": "2024-06-11T09:52:17.388828Z"
    }
   },
   "source": [
    "class Employee:\n",
    "    def __init__(self, name, email, password):\n",
    "        self.name = name\n",
    "        self.email = email\n",
    "        self.password = password\n",
    "\n",
    "emp = Employee('<NAME>', '<EMAIL>', '<PASSWORD>')\n",
    "print(emp.__dict__)\n",
    "print(emp)"
   ],
   "outputs": [
    {
     "name": "stdout",
     "output_type": "stream",
     "text": [
      "{'name': '<NAME>', 'email': '<EMAIL>', 'password': '<PASSWORD>'}\n",
      "<__main__.Employee object at 0x7f8c85610f90>\n"
     ]
    }
   ],
   "execution_count": 1
  },
  {
   "metadata": {},
   "cell_type": "markdown",
   "source": "# customize print behaviour of the object ?",
   "id": "438fdcc05c4fc02"
  },
  {
   "metadata": {
    "ExecuteTime": {
     "end_time": "2024-06-11T09:54:11.753720Z",
     "start_time": "2024-06-11T09:54:11.537398Z"
    }
   },
   "cell_type": "code",
   "source": [
    "class Employee:\n",
    "    def __init__(self, name, email, password):\n",
    "        self.name = name\n",
    "        self.email = email\n",
    "        self.password = password\n",
    "    \n",
    "    # override \n",
    "    def __str__(self):\n",
    "        pass \n",
    "\n",
    "emp = Employee('<NAME>', '<EMAIL>', '<PASSWORD>')\n",
    "print(emp.__dict__)\n",
    "print(emp)"
   ],
   "id": "9ec302d5ce1618b7",
   "outputs": [
    {
     "name": "stdout",
     "output_type": "stream",
     "text": [
      "{'name': '<NAME>', 'email': '<EMAIL>', 'password': '<PASSWORD>'}\n"
     ]
    },
    {
     "ename": "TypeError",
     "evalue": "__str__ returned non-string (type NoneType)",
     "output_type": "error",
     "traceback": [
      "\u001B[0;31m---------------------------------------------------------------------------\u001B[0m",
      "\u001B[0;31mTypeError\u001B[0m                                 Traceback (most recent call last)",
      "Cell \u001B[0;32mIn[2], line 13\u001B[0m\n\u001B[1;32m     11\u001B[0m emp \u001B[38;5;241m=\u001B[39m Employee(\u001B[38;5;124m'\u001B[39m\u001B[38;5;124m<NAME>\u001B[39m\u001B[38;5;124m'\u001B[39m, \u001B[38;5;124m'\u001B[39m\u001B[38;5;124m<EMAIL>\u001B[39m\u001B[38;5;124m'\u001B[39m, \u001B[38;5;124m'\u001B[39m\u001B[38;5;124m<PASSWORD>\u001B[39m\u001B[38;5;124m'\u001B[39m)\n\u001B[1;32m     12\u001B[0m \u001B[38;5;28mprint\u001B[39m(emp\u001B[38;5;241m.\u001B[39m\u001B[38;5;18m__dict__\u001B[39m)\n\u001B[0;32m---> 13\u001B[0m \u001B[38;5;28;43mprint\u001B[39;49m\u001B[43m(\u001B[49m\u001B[43memp\u001B[49m\u001B[43m)\u001B[49m\n",
      "\u001B[0;31mTypeError\u001B[0m: __str__ returned non-string (type NoneType)"
     ]
    }
   ],
   "execution_count": 2
  },
  {
   "metadata": {
    "ExecuteTime": {
     "end_time": "2024-06-11T09:55:08.904367Z",
     "start_time": "2024-06-11T09:55:08.898054Z"
    }
   },
   "cell_type": "code",
   "source": [
    "class Employee:\n",
    "    def __init__(self, name, email, password):\n",
    "        self.name = name\n",
    "        self.email = email\n",
    "        self.password = password\n",
    "    \n",
    "    # override \n",
    "    def __str__(self): # this function must return with string \n",
    "        return f'Emp_obj:{self.name}'\n",
    "\n",
    "emp = Employee('noha', '<EMAIL>', '<PASSWORD>')\n",
    "print(emp.__dict__)\n",
    "print(emp)"
   ],
   "id": "109885e69ebf474b",
   "outputs": [
    {
     "name": "stdout",
     "output_type": "stream",
     "text": [
      "{'name': 'noha', 'email': '<EMAIL>', 'password': '<PASSWORD>'}\n",
      "Emp_obj:noha\n"
     ]
    }
   ],
   "execution_count": 4
  },
  {
   "metadata": {},
   "cell_type": "markdown",
   "source": "",
   "id": "906750c4f14352d5"
  },
  {
   "metadata": {
    "ExecuteTime": {
     "end_time": "2024-06-11T09:55:48.255607Z",
     "start_time": "2024-06-11T09:55:48.250732Z"
    }
   },
   "cell_type": "code",
   "source": [
    "l = [3,4,5,34]\n",
    "print(len(l))\n",
    "print(len('string'))"
   ],
   "id": "85b93bce130871d6",
   "outputs": [
    {
     "name": "stdout",
     "output_type": "stream",
     "text": [
      "4\n",
      "6\n"
     ]
    }
   ],
   "execution_count": 5
  },
  {
   "metadata": {
    "ExecuteTime": {
     "end_time": "2024-06-11T09:56:02.741574Z",
     "start_time": "2024-06-11T09:56:02.725443Z"
    }
   },
   "cell_type": "code",
   "source": [
    "class Employee:\n",
    "    def __init__(self, name, email, password):\n",
    "        self.name = name\n",
    "        self.email = email\n",
    "        self.password = password\n",
    "    \n",
    "    # override \n",
    "    def __str__(self):\n",
    "        pass \n",
    "\n",
    "emp = Employee('<NAME>', '<EMAIL>', '<PASSWORD>')\n",
    "print(len(emp))\n"
   ],
   "id": "2cb295a8c0a757e0",
   "outputs": [
    {
     "ename": "TypeError",
     "evalue": "object of type 'Employee' has no len()",
     "output_type": "error",
     "traceback": [
      "\u001B[0;31m---------------------------------------------------------------------------\u001B[0m",
      "\u001B[0;31mTypeError\u001B[0m                                 Traceback (most recent call last)",
      "Cell \u001B[0;32mIn[7], line 12\u001B[0m\n\u001B[1;32m      9\u001B[0m         \u001B[38;5;28;01mpass\u001B[39;00m \n\u001B[1;32m     11\u001B[0m emp \u001B[38;5;241m=\u001B[39m Employee(\u001B[38;5;124m'\u001B[39m\u001B[38;5;124m<NAME>\u001B[39m\u001B[38;5;124m'\u001B[39m, \u001B[38;5;124m'\u001B[39m\u001B[38;5;124m<EMAIL>\u001B[39m\u001B[38;5;124m'\u001B[39m, \u001B[38;5;124m'\u001B[39m\u001B[38;5;124m<PASSWORD>\u001B[39m\u001B[38;5;124m'\u001B[39m)\n\u001B[0;32m---> 12\u001B[0m \u001B[38;5;28mprint\u001B[39m(\u001B[38;5;28;43mlen\u001B[39;49m\u001B[43m(\u001B[49m\u001B[43memp\u001B[49m\u001B[43m)\u001B[49m)\n",
      "\u001B[0;31mTypeError\u001B[0m: object of type 'Employee' has no len()"
     ]
    }
   ],
   "execution_count": 7
  },
  {
   "metadata": {
    "ExecuteTime": {
     "end_time": "2024-06-11T09:58:14.385632Z",
     "start_time": "2024-06-11T09:58:14.378683Z"
    }
   },
   "cell_type": "code",
   "source": [
    "class Employee:\n",
    "    def __init__(self, name, email, password):\n",
    "        self.name = name\n",
    "        self.email = email\n",
    "        self.password = password\n",
    "    \n",
    "    # override \n",
    "    def __str__(self):\n",
    "        return f'{self.name}'\n",
    "    \n",
    "    def __len__(self): # must return with integer \n",
    "        return len(self.__dict__)\n",
    "        \n",
    "\n",
    "emp = Employee('<NAME>', '<EMAIL>', '<PASSWORD>')\n",
    "print(len(emp))\n"
   ],
   "id": "b22efad400632f9e",
   "outputs": [
    {
     "name": "stdout",
     "output_type": "stream",
     "text": [
      "3\n"
     ]
    }
   ],
   "execution_count": 10
  },
  {
   "metadata": {
    "ExecuteTime": {
     "end_time": "2024-06-11T09:58:34.811334Z",
     "start_time": "2024-06-11T09:58:34.806032Z"
    }
   },
   "cell_type": "code",
   "source": [
    "emp.city = 'New York'\n",
    "print(len(emp))"
   ],
   "id": "ae23b3dc2daad16a",
   "outputs": [
    {
     "name": "stdout",
     "output_type": "stream",
     "text": [
      "4\n"
     ]
    }
   ],
   "execution_count": 11
  },
  {
   "metadata": {
    "ExecuteTime": {
     "end_time": "2024-06-11T09:59:05.007491Z",
     "start_time": "2024-06-11T09:59:04.976480Z"
    }
   },
   "cell_type": "code",
   "source": [
    "class Employee:\n",
    "    def __init__(self, name, email, password):\n",
    "        self.name = name\n",
    "        self.email = email\n",
    "        self.password = password\n",
    "    \n",
    "    # override \n",
    "    def __str__(self):\n",
    "        pass \n",
    "\n",
    "    \n",
    "emp = Employee('<NAME>', '<EMAIL>', '<PASSWORD>')\n",
    "emp()"
   ],
   "id": "81dce29559c886ec",
   "outputs": [
    {
     "ename": "TypeError",
     "evalue": "'Employee' object is not callable",
     "output_type": "error",
     "traceback": [
      "\u001B[0;31m---------------------------------------------------------------------------\u001B[0m",
      "\u001B[0;31mTypeError\u001B[0m                                 Traceback (most recent call last)",
      "Cell \u001B[0;32mIn[12], line 12\u001B[0m\n\u001B[1;32m      9\u001B[0m         \u001B[38;5;28;01mpass\u001B[39;00m \n\u001B[1;32m     11\u001B[0m emp \u001B[38;5;241m=\u001B[39m Employee(\u001B[38;5;124m'\u001B[39m\u001B[38;5;124m<NAME>\u001B[39m\u001B[38;5;124m'\u001B[39m, \u001B[38;5;124m'\u001B[39m\u001B[38;5;124m<EMAIL>\u001B[39m\u001B[38;5;124m'\u001B[39m, \u001B[38;5;124m'\u001B[39m\u001B[38;5;124m<PASSWORD>\u001B[39m\u001B[38;5;124m'\u001B[39m)\n\u001B[0;32m---> 12\u001B[0m \u001B[43memp\u001B[49m\u001B[43m(\u001B[49m\u001B[43m)\u001B[49m\n",
      "\u001B[0;31mTypeError\u001B[0m: 'Employee' object is not callable"
     ]
    }
   ],
   "execution_count": 12
  },
  {
   "metadata": {
    "ExecuteTime": {
     "end_time": "2024-06-11T10:00:38.595096Z",
     "start_time": "2024-06-11T10:00:38.575270Z"
    }
   },
   "cell_type": "code",
   "source": [
    "class Employee:\n",
    "    def __init__(self, name, email, password):\n",
    "        self.name = name\n",
    "        self.email = email\n",
    "        self.password = password\n",
    "    \n",
    "    # override \n",
    "    def __str__(self): # this method is called when you try print object \n",
    "        return f'{self.name}'\n",
    "    \n",
    "    def __repr__(self):\n",
    "        return f'Employee(name={self.name}, email={self.email}, password={self.password})'\n",
    "    def __call__(self, *args, **kwargs):\n",
    "        print('object called')\n",
    "        print(args, kwargs)\n",
    "\n",
    "emp = Employee('<NAME>', '<EMAIL>', '<PASSWORD>')\n",
    "emp()"
   ],
   "id": "762da1082013a6f4",
   "outputs": [
    {
     "name": "stdout",
     "output_type": "stream",
     "text": [
      "object called\n",
      "() {}\n"
     ]
    }
   ],
   "execution_count": 14
  },
  {
   "metadata": {
    "ExecuteTime": {
     "end_time": "2024-06-11T10:00:49.704792Z",
     "start_time": "2024-06-11T10:00:49.701342Z"
    }
   },
   "cell_type": "code",
   "source": "emp(3,4,5, name='abc')",
   "id": "e3fb4465a5fd0372",
   "outputs": [
    {
     "name": "stdout",
     "output_type": "stream",
     "text": [
      "object called\n",
      "(3, 4, 5) {'name': 'abc'}\n"
     ]
    }
   ],
   "execution_count": 15
  },
  {
   "metadata": {},
   "cell_type": "markdown",
   "source": "# str vs repr",
   "id": "2a7cfa987af17dd0"
  },
  {
   "metadata": {
    "ExecuteTime": {
     "end_time": "2024-06-11T10:04:44.098106Z",
     "start_time": "2024-06-11T10:04:44.090738Z"
    }
   },
   "cell_type": "code",
   "source": [
    "class Employee:\n",
    "    def __init__(self, name, email, password):\n",
    "        self.name = name\n",
    "        self.email = email\n",
    "        self.password = password\n",
    "    \n",
    "    # override \n",
    "    def __str__(self): # this method is called when you try print object \n",
    "        return f'{self.name}'\n",
    "\n",
    "    def __repr__(self):\n",
    "        return f'Employee(name={self.name}, email={self.email}, password={self.password})'\n",
    "    def __call__(self, *args, **kwargs):\n",
    "        print('object called')\n",
    "        print(args, kwargs)\n",
    "        \n",
    "    def __del__(self):\n",
    "        print(\"-- this function is called while deleting the object\")\n",
    "\n",
    "emp = Employee('<NAME>', '<EMAIL>', '<PASSWORD>')\n",
    "print(emp)\n",
    "print(emp.__repr__())"
   ],
   "id": "a08a87c763066465",
   "outputs": [
    {
     "name": "stdout",
     "output_type": "stream",
     "text": [
      "<NAME>\n",
      "Employee(name=<NAME>, email=<EMAIL>, password=<PASSWORD>)\n"
     ]
    }
   ],
   "execution_count": 20
  },
  {
   "metadata": {},
   "cell_type": "markdown",
   "source": "# ********************** General tips *******************************",
   "id": "8b38bfe18fa61c2"
  },
  {
   "metadata": {},
   "cell_type": "markdown",
   "source": "swap variables ?",
   "id": "1402937f651f819a"
  },
  {
   "metadata": {
    "ExecuteTime": {
     "end_time": "2024-06-11T10:05:32.510944Z",
     "start_time": "2024-06-11T10:05:32.507733Z"
    }
   },
   "cell_type": "code",
   "source": [
    "name = 'ahmed'\n",
    "track = 'data engineering '"
   ],
   "id": "f4b961a1e75d78ec",
   "outputs": [],
   "execution_count": 21
  },
  {
   "metadata": {},
   "cell_type": "markdown",
   "source": "",
   "id": "4581b6a3f7a2c66c"
  },
  {
   "metadata": {
    "ExecuteTime": {
     "end_time": "2024-06-11T10:06:35.930614Z",
     "start_time": "2024-06-11T10:06:35.924879Z"
    }
   },
   "cell_type": "code",
   "source": [
    "# temp = name \n",
    "# name = track \n",
    "# track = temp \n",
    "name, track  = track, name\n",
    "print(name, track, sep='||')"
   ],
   "id": "ec123389836e63d9",
   "outputs": [
    {
     "name": "stdout",
     "output_type": "stream",
     "text": [
      "ahmed||data engineering \n"
     ]
    }
   ],
   "execution_count": 23
  },
  {
   "metadata": {},
   "cell_type": "markdown",
   "source": "list comprehension",
   "id": "53c253f0436b880"
  },
  {
   "metadata": {
    "ExecuteTime": {
     "end_time": "2024-06-11T10:08:03.285832Z",
     "start_time": "2024-06-11T10:08:03.282117Z"
    }
   },
   "cell_type": "code",
   "source": [
    "# generate list of numbers --> even number from  1 to 20\n",
    "\n",
    "myl  =[]\n",
    "for i  in range(1, 21):\n",
    "    if i%2 ==0:\n",
    "        myl.append(i)\n",
    "print(myl)"
   ],
   "id": "51f94fe25c2ba860",
   "outputs": [
    {
     "name": "stdout",
     "output_type": "stream",
     "text": [
      "[2, 4, 6, 8, 10, 12, 14, 16, 18, 20]\n"
     ]
    }
   ],
   "execution_count": 25
  },
  {
   "metadata": {
    "ExecuteTime": {
     "end_time": "2024-06-11T10:09:17.480199Z",
     "start_time": "2024-06-11T10:09:17.476497Z"
    }
   },
   "cell_type": "code",
   "source": [
    "newl = [ item for item in range(1,21) if item%2==0]\n",
    "print(newl)"
   ],
   "id": "c089e299dcbf8050",
   "outputs": [
    {
     "name": "stdout",
     "output_type": "stream",
     "text": [
      "[2, 4, 6, 8, 10, 12, 14, 16, 18, 20]\n"
     ]
    }
   ],
   "execution_count": 26
  },
  {
   "metadata": {},
   "cell_type": "markdown",
   "source": "all , any",
   "id": "3d5187733ab624a5"
  },
  {
   "metadata": {
    "ExecuteTime": {
     "end_time": "2024-06-11T10:09:54.263907Z",
     "start_time": "2024-06-11T10:09:54.259716Z"
    }
   },
   "cell_type": "code",
   "source": [
    "items = [3,435,'ewr',True]\n",
    "print(all(items))  # return True only if all value represent True "
   ],
   "id": "a5b589d0bbd425f8",
   "outputs": [
    {
     "name": "stdout",
     "output_type": "stream",
     "text": [
      "True\n"
     ]
    }
   ],
   "execution_count": 27
  },
  {
   "metadata": {
    "ExecuteTime": {
     "end_time": "2024-06-11T10:10:27.840149Z",
     "start_time": "2024-06-11T10:10:27.831718Z"
    }
   },
   "cell_type": "code",
   "source": [
    "items = [3,435,'ewr',True, '']\n",
    "print(all(items))"
   ],
   "id": "f5f1a10f54c22d11",
   "outputs": [
    {
     "name": "stdout",
     "output_type": "stream",
     "text": [
      "False\n"
     ]
    }
   ],
   "execution_count": 28
  },
  {
   "metadata": {
    "ExecuteTime": {
     "end_time": "2024-06-11T10:10:34.669432Z",
     "start_time": "2024-06-11T10:10:34.665799Z"
    }
   },
   "cell_type": "code",
   "source": [
    "items = [3,435,'ewr',True]\n",
    "print(any(items)) # any return True if at least one value represent True "
   ],
   "id": "7912ffad4532612",
   "outputs": [
    {
     "name": "stdout",
     "output_type": "stream",
     "text": [
      "True\n"
     ]
    }
   ],
   "execution_count": 29
  },
  {
   "metadata": {},
   "cell_type": "markdown",
   "source": "sum function ",
   "id": "1ab6826e8dff89e2"
  },
  {
   "metadata": {
    "ExecuteTime": {
     "end_time": "2024-06-11T10:11:12.203472Z",
     "start_time": "2024-06-11T10:11:12.199562Z"
    }
   },
   "cell_type": "code",
   "source": "print(sum([3,3,4,5]))",
   "id": "a443165f27e70d0e",
   "outputs": [
    {
     "name": "stdout",
     "output_type": "stream",
     "text": [
      "15\n"
     ]
    }
   ],
   "execution_count": 30
  },
  {
   "metadata": {},
   "cell_type": "markdown",
   "source": "# sequence unpacking ",
   "id": "e8034703f9ade893"
  },
  {
   "metadata": {
    "ExecuteTime": {
     "end_time": "2024-06-11T10:12:37.458448Z",
     "start_time": "2024-06-11T10:12:37.452062Z"
    }
   },
   "cell_type": "code",
   "source": [
    "myl =  [3,44,555]\n",
    "a,b,c = myl\n",
    "print(a, b, c ,sep=' || ')"
   ],
   "id": "3736640e576f346b",
   "outputs": [
    {
     "name": "stdout",
     "output_type": "stream",
     "text": [
      "3 || 44 || 555\n"
     ]
    }
   ],
   "execution_count": 31
  },
  {
   "metadata": {
    "ExecuteTime": {
     "end_time": "2024-06-11T10:13:29.258116Z",
     "start_time": "2024-06-11T10:13:29.253661Z"
    }
   },
   "cell_type": "code",
   "source": [
    "myl =  [3,44,555]\n",
    "d , *e= myl\n",
    "print(d, e, sep=' || ')"
   ],
   "id": "eddca1770fa635cb",
   "outputs": [
    {
     "name": "stdout",
     "output_type": "stream",
     "text": [
      "3 || [44, 555]\n"
     ]
    }
   ],
   "execution_count": 34
  },
  {
   "metadata": {
    "ExecuteTime": {
     "end_time": "2024-06-11T10:14:54.282660Z",
     "start_time": "2024-06-11T10:14:54.278320Z"
    }
   },
   "cell_type": "code",
   "source": [
    "myl =  [3,44,44, 555]\n",
    "d , *_, e = myl\n",
    "print(d, e, sep=' || ')"
   ],
   "id": "ac1db771006e5e9b",
   "outputs": [
    {
     "name": "stdout",
     "output_type": "stream",
     "text": [
      "3 || 555\n"
     ]
    }
   ],
   "execution_count": 38
  },
  {
   "metadata": {},
   "cell_type": "markdown",
   "source": "ternary operator ",
   "id": "c79d791ba035b834"
  },
  {
   "metadata": {
    "ExecuteTime": {
     "end_time": "2024-06-11T10:20:36.788447Z",
     "start_time": "2024-06-11T10:20:36.784929Z"
    }
   },
   "cell_type": "code",
   "source": [
    "x = 0\n",
    "res = 'positive ' if x > 0 else 'zero' if x ==0  else 'negative'"
   ],
   "id": "9373bceb19730b40",
   "outputs": [],
   "execution_count": 43
  },
  {
   "metadata": {
    "ExecuteTime": {
     "end_time": "2024-06-11T10:20:38.476336Z",
     "start_time": "2024-06-11T10:20:38.470470Z"
    }
   },
   "cell_type": "code",
   "source": "print(res)",
   "id": "f00a6accbd3de92c",
   "outputs": [
    {
     "name": "stdout",
     "output_type": "stream",
     "text": [
      "zero\n"
     ]
    }
   ],
   "execution_count": 44
  },
  {
   "metadata": {},
   "cell_type": "markdown",
   "source": [
    "\n",
    "# lambda\n",
    "    -->anonymous function \n",
    "    --> when function is need to be executed only time \n",
    "    --> action function is changeable"
   ],
   "id": "5b4ffe0738176d32"
  },
  {
   "metadata": {
    "ExecuteTime": {
     "end_time": "2024-06-11T10:24:00.925254Z",
     "start_time": "2024-06-11T10:24:00.921805Z"
    }
   },
   "cell_type": "code",
   "source": [
    "mylambda = lambda x : x+4 \n",
    "print(mylambda)\n",
    "print(mylambda(6))"
   ],
   "id": "a06a534773ff32ed",
   "outputs": [
    {
     "name": "stdout",
     "output_type": "stream",
     "text": [
      "<function <lambda> at 0x7f8c8473b600>\n",
      "10\n"
     ]
    }
   ],
   "execution_count": 46
  },
  {
   "metadata": {
    "ExecuteTime": {
     "end_time": "2024-06-11T10:25:12.432170Z",
     "start_time": "2024-06-11T10:25:12.427512Z"
    }
   },
   "cell_type": "code",
   "source": [
    "l = [3,4,5,6,7] # muliply elements by 5 \n",
    "newl = l * 5\n",
    "print(newl)\n",
    "print(['_']*4)"
   ],
   "id": "ad7990e6a0da74f2",
   "outputs": [
    {
     "name": "stdout",
     "output_type": "stream",
     "text": [
      "[3, 4, 5, 6, 7, 3, 4, 5, 6, 7, 3, 4, 5, 6, 7, 3, 4, 5, 6, 7, 3, 4, 5, 6, 7]\n",
      "['_', '_', '_', '_']\n"
     ]
    }
   ],
   "execution_count": 48
  },
  {
   "metadata": {
    "ExecuteTime": {
     "end_time": "2024-06-11T10:25:53.952198Z",
     "start_time": "2024-06-11T10:25:53.948667Z"
    }
   },
   "cell_type": "code",
   "source": [
    "newl =  []\n",
    "for item in l:\n",
    "    newl.append(item*5)\n",
    "print(l)\n",
    "print(newl)"
   ],
   "id": "a46d528970b5891",
   "outputs": [
    {
     "name": "stdout",
     "output_type": "stream",
     "text": [
      "[3, 4, 5, 6, 7]\n",
      "[15, 20, 25, 30, 35]\n"
     ]
    }
   ],
   "execution_count": 50
  },
  {
   "metadata": {
    "ExecuteTime": {
     "end_time": "2024-06-11T10:26:49.183983Z",
     "start_time": "2024-06-11T10:26:49.179258Z"
    }
   },
   "cell_type": "code",
   "source": [
    "l = [3, 4, 5, 6, 7]\n",
    "myl = map(lambda num: num*5 , l)\n",
    "print(myl) # map object \n",
    "print(list(myl))"
   ],
   "id": "2e0cee5559f140a4",
   "outputs": [
    {
     "name": "stdout",
     "output_type": "stream",
     "text": [
      "<map object at 0x7f8c84c27eb0>\n",
      "[15, 20, 25, 30, 35]\n"
     ]
    }
   ],
   "execution_count": 52
  },
  {
   "metadata": {},
   "cell_type": "markdown",
   "source": "# filter ",
   "id": "153a8f3caa1f1839"
  },
  {
   "metadata": {
    "ExecuteTime": {
     "end_time": "2024-06-11T10:27:54.230325Z",
     "start_time": "2024-06-11T10:27:54.214629Z"
    }
   },
   "cell_type": "code",
   "source": [
    "nums  = [4,5,455,34,2331,23,45,10, 1000]\n",
    "filtered = []\n",
    "for num in nums:\n",
    "    if num %5==0:\n",
    "        filtered.append(num)\n",
    "print(filtered)        "
   ],
   "id": "9f5c584e4721ea3c",
   "outputs": [
    {
     "name": "stdout",
     "output_type": "stream",
     "text": [
      "[5, 455, 45, 10, 1000]\n"
     ]
    }
   ],
   "execution_count": 54
  },
  {
   "metadata": {
    "ExecuteTime": {
     "end_time": "2024-06-11T10:28:52.629585Z",
     "start_time": "2024-06-11T10:28:52.624985Z"
    }
   },
   "cell_type": "code",
   "source": [
    "nums  = [4,5,455,34,2331,23,45,10, 1000]\n",
    "filter_nums = filter(lambda num: num%5==0, nums)\n",
    "print(filter_nums)\n",
    "print(list(filter_nums))"
   ],
   "id": "4899210b46cd8fd5",
   "outputs": [
    {
     "name": "stdout",
     "output_type": "stream",
     "text": [
      "<filter object at 0x7f8c84d06e60>\n",
      "[5, 455, 45, 10, 1000]\n"
     ]
    }
   ],
   "execution_count": 56
  },
  {
   "metadata": {},
   "cell_type": "markdown",
   "source": "# iteration ",
   "id": "2a4084f612d9c513"
  },
  {
   "metadata": {
    "ExecuteTime": {
     "end_time": "2024-06-11T10:30:15.631545Z",
     "start_time": "2024-06-11T10:30:15.627374Z"
    }
   },
   "cell_type": "code",
   "source": [
    "names = ['ahmed', 'mohamed', 'ali', 'test']\n",
    "\n",
    "# create iteration for iterable \n",
    "\n",
    "names_iter = iter(names)\n",
    "print(names_iter)"
   ],
   "id": "db03c84b5a472799",
   "outputs": [
    {
     "name": "stdout",
     "output_type": "stream",
     "text": [
      "<list_iterator object at 0x7f8c94203d30>\n"
     ]
    }
   ],
   "execution_count": 57
  },
  {
   "metadata": {
    "ExecuteTime": {
     "end_time": "2024-06-11T10:30:25.333988Z",
     "start_time": "2024-06-11T10:30:25.330131Z"
    }
   },
   "cell_type": "code",
   "source": "print(next(names_iter))",
   "id": "b1277ade822cdbf3",
   "outputs": [
    {
     "name": "stdout",
     "output_type": "stream",
     "text": [
      "ahmed\n"
     ]
    }
   ],
   "execution_count": 58
  },
  {
   "metadata": {
    "ExecuteTime": {
     "end_time": "2024-06-11T10:30:39.322527Z",
     "start_time": "2024-06-11T10:30:39.319142Z"
    }
   },
   "cell_type": "code",
   "source": "print(next(names_iter))\n",
   "id": "8c3c25aef773591e",
   "outputs": [
    {
     "name": "stdout",
     "output_type": "stream",
     "text": [
      "mohamed\n"
     ]
    }
   ],
   "execution_count": 59
  },
  {
   "metadata": {
    "ExecuteTime": {
     "end_time": "2024-06-11T10:31:13.054565Z",
     "start_time": "2024-06-11T10:31:13.039420Z"
    }
   },
   "cell_type": "code",
   "source": [
    "print(next(names_iter))\n",
    "print(next(names_iter))\n",
    "print(next(names_iter))"
   ],
   "id": "6c664aa56c476074",
   "outputs": [
    {
     "name": "stdout",
     "output_type": "stream",
     "text": [
      "ali\n",
      "test\n"
     ]
    },
    {
     "ename": "StopIteration",
     "evalue": "",
     "output_type": "error",
     "traceback": [
      "\u001B[0;31m---------------------------------------------------------------------------\u001B[0m",
      "\u001B[0;31mStopIteration\u001B[0m                             Traceback (most recent call last)",
      "Cell \u001B[0;32mIn[60], line 3\u001B[0m\n\u001B[1;32m      1\u001B[0m \u001B[38;5;28mprint\u001B[39m(\u001B[38;5;28mnext\u001B[39m(names_iter))\n\u001B[1;32m      2\u001B[0m \u001B[38;5;28mprint\u001B[39m(\u001B[38;5;28mnext\u001B[39m(names_iter))\n\u001B[0;32m----> 3\u001B[0m \u001B[38;5;28mprint\u001B[39m(\u001B[38;5;28;43mnext\u001B[39;49m\u001B[43m(\u001B[49m\u001B[43mnames_iter\u001B[49m\u001B[43m)\u001B[49m)\n",
      "\u001B[0;31mStopIteration\u001B[0m: "
     ]
    }
   ],
   "execution_count": 60
  },
  {
   "metadata": {},
   "cell_type": "markdown",
   "source": "# Generator ",
   "id": "7ca9739c20c97caf"
  },
  {
   "metadata": {},
   "cell_type": "code",
   "outputs": [],
   "execution_count": null,
   "source": [
    "def generate_nums():\n",
    "    l= []\n",
    "    for i in range(100000000):\n",
    "        l.append(i)\n",
    "        \n",
    "    return l \n",
    "\n"
   ],
   "id": "162642038d345b0"
  },
  {
   "metadata": {},
   "cell_type": "markdown",
   "source": "# generate value when I need it",
   "id": "83b0b8719c02adc7"
  },
  {
   "metadata": {
    "ExecuteTime": {
     "end_time": "2024-06-11T10:37:45.312929Z",
     "start_time": "2024-06-11T10:37:45.308999Z"
    }
   },
   "cell_type": "code",
   "source": [
    "def generate_number():\n",
    "    for i in range(100000000000):\n",
    "        yield  i  # generate one value at item "
   ],
   "id": "7153b59b54edf224",
   "outputs": [],
   "execution_count": 61
  },
  {
   "metadata": {
    "ExecuteTime": {
     "end_time": "2024-06-11T10:37:59.407383Z",
     "start_time": "2024-06-11T10:37:59.403465Z"
    }
   },
   "cell_type": "code",
   "source": [
    "generator_ = generate_number()\n",
    "print(generator_)"
   ],
   "id": "44b2b339b48846a6",
   "outputs": [
    {
     "name": "stdout",
     "output_type": "stream",
     "text": [
      "<generator object generate_number at 0x7f8c85fd2f60>\n"
     ]
    }
   ],
   "execution_count": 62
  },
  {
   "metadata": {
    "ExecuteTime": {
     "end_time": "2024-06-11T10:38:17.870356Z",
     "start_time": "2024-06-11T10:38:17.866693Z"
    }
   },
   "cell_type": "code",
   "source": "print(next(generator_))",
   "id": "da9fc85cbec75684",
   "outputs": [
    {
     "name": "stdout",
     "output_type": "stream",
     "text": [
      "0\n"
     ]
    }
   ],
   "execution_count": 63
  },
  {
   "metadata": {
    "ExecuteTime": {
     "end_time": "2024-06-11T10:38:34.264521Z",
     "start_time": "2024-06-11T10:38:34.259598Z"
    }
   },
   "cell_type": "code",
   "source": [
    "print(next(generator_))\n",
    "print(next(generator_))\n",
    "print(next(generator_))\n",
    "print(next(generator_))\n",
    "print(next(generator_))\n",
    "print(next(generator_))\n",
    "print(next(generator_))\n",
    "print(next(generator_))\n",
    "print(next(generator_))\n",
    "print(next(generator_))\n",
    "print(next(generator_))\n",
    "print(next(generator_))\n"
   ],
   "id": "4a4f6a36bb0affac",
   "outputs": [
    {
     "name": "stdout",
     "output_type": "stream",
     "text": [
      "1\n",
      "2\n",
      "3\n",
      "4\n",
      "5\n",
      "6\n",
      "7\n",
      "8\n",
      "9\n",
      "10\n",
      "11\n",
      "12\n"
     ]
    }
   ],
   "execution_count": 64
  },
  {
   "metadata": {},
   "cell_type": "code",
   "outputs": [],
   "execution_count": null,
   "source": "",
   "id": "7e06f3ee5825fc49"
  }
 ],
 "metadata": {
  "kernelspec": {
   "display_name": "Python 3",
   "language": "python",
   "name": "python3"
  },
  "language_info": {
   "codemirror_mode": {
    "name": "ipython",
    "version": 2
   },
   "file_extension": ".py",
   "mimetype": "text/x-python",
   "name": "python",
   "nbconvert_exporter": "python",
   "pygments_lexer": "ipython2",
   "version": "2.7.6"
  }
 },
 "nbformat": 4,
 "nbformat_minor": 5
}
