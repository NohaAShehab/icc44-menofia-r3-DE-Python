{
 "cells": [
  {
   "metadata": {},
   "cell_type": "raw",
   "source": [
    "# hang man \n",
    "# 7 times\n",
    "# guesses \n",
    "# win / lost the game "
   ],
   "id": "e2fd1941e2468eaa"
  },
  {
   "cell_type": "code",
   "execution_count": null,
   "id": "initial_id",
   "metadata": {
    "collapsed": true
   },
   "outputs": [],
   "source": [
    "def hangman():\n",
    "    while True:\n",
    "        choice = input(\"Please enter p for play, e for exit\")\n",
    "        if choice == \"p\":\n",
    "            name = input(\"Please enter your name\")\n",
    "            print(f\"**** welcome {name} to our hangman game\")\n",
    "        elif choice == \"e\":\n",
    "            exit()\n",
    "        else:\n",
    "            print(\"--- try enter pleaee enter p for play, e for exit\")\n",
    "        "
   ]
  }
 ],
 "metadata": {
  "kernelspec": {
   "display_name": "Python 3",
   "language": "python",
   "name": "python3"
  },
  "language_info": {
   "codemirror_mode": {
    "name": "ipython",
    "version": 2
   },
   "file_extension": ".py",
   "mimetype": "text/x-python",
   "name": "python",
   "nbconvert_exporter": "python",
   "pygments_lexer": "ipython2",
   "version": "2.7.6"
  }
 },
 "nbformat": 4,
 "nbformat_minor": 5
}
