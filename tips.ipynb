{
 "cells": [
  {
   "cell_type": "code",
   "id": "initial_id",
   "metadata": {
    "collapsed": true,
    "ExecuteTime": {
     "end_time": "2024-06-07T08:02:24.987893Z",
     "start_time": "2024-06-07T08:02:24.979377Z"
    }
   },
   "source": [
    "for i in range(4):\n",
    "    print(f\"i = {i}\")"
   ],
   "outputs": [
    {
     "name": "stdout",
     "output_type": "stream",
     "text": [
      "i = 0\n",
      "i = 1\n",
      "i = 2\n",
      "i = 3\n"
     ]
    }
   ],
   "execution_count": 1
  },
  {
   "metadata": {
    "ExecuteTime": {
     "end_time": "2024-06-07T08:03:10.774535Z",
     "start_time": "2024-06-07T08:03:10.765662Z"
    }
   },
   "cell_type": "code",
   "source": [
    "for i in range(10):\n",
    "    if i==4:\n",
    "        print(\"found\")\n",
    "        break  # break loop\n",
    "    print(f\"i = {i}\")"
   ],
   "id": "c842b4ea09df2161",
   "outputs": [
    {
     "name": "stdout",
     "output_type": "stream",
     "text": [
      "i = 0\n",
      "i = 1\n",
      "i = 2\n",
      "i = 3\n",
      "found\n"
     ]
    }
   ],
   "execution_count": 2
  },
  {
   "metadata": {
    "ExecuteTime": {
     "end_time": "2024-06-07T08:03:54.837767Z",
     "start_time": "2024-06-07T08:03:54.831621Z"
    }
   },
   "cell_type": "code",
   "source": [
    "for i in range(10):\n",
    "    if i==4:\n",
    "        print(\"found\")\n",
    "        continue  # continue the  loop\n",
    "    print(f\"i = {i}\")"
   ],
   "id": "bce0f6cca51b9521",
   "outputs": [
    {
     "name": "stdout",
     "output_type": "stream",
     "text": [
      "i = 0\n",
      "i = 1\n",
      "i = 2\n",
      "i = 3\n",
      "found\n",
      "i = 5\n",
      "i = 6\n",
      "i = 7\n",
      "i = 8\n",
      "i = 9\n"
     ]
    }
   ],
   "execution_count": 3
  },
  {
   "metadata": {
    "ExecuteTime": {
     "end_time": "2024-06-07T08:06:14.931510Z",
     "start_time": "2024-06-07T08:06:14.927803Z"
    }
   },
   "cell_type": "code",
   "source": [
    "for i in range(4):\n",
    "    print(f\"i= {i}\")\n",
    "print(\"=== loop ended \")\n"
   ],
   "id": "571860ca7c084aaa",
   "outputs": [
    {
     "name": "stdout",
     "output_type": "stream",
     "text": [
      "i= 0\n",
      "i= 1\n",
      "i= 2\n",
      "i= 3\n",
      "=== loop ended \n"
     ]
    }
   ],
   "execution_count": 5
  },
  {
   "metadata": {
    "ExecuteTime": {
     "end_time": "2024-06-07T08:06:29.940963Z",
     "start_time": "2024-06-07T08:06:29.937102Z"
    }
   },
   "cell_type": "code",
   "source": [
    "for i in range(4):\n",
    "    if i==2:\n",
    "        break\n",
    "    print(f\"i= {i}\")\n",
    "print(\"=== loop ended \")"
   ],
   "id": "f561cdce193f3768",
   "outputs": [
    {
     "name": "stdout",
     "output_type": "stream",
     "text": [
      "i= 0\n",
      "i= 1\n",
      "=== loop ended \n"
     ]
    }
   ],
   "execution_count": 6
  },
  {
   "metadata": {
    "ExecuteTime": {
     "end_time": "2024-06-07T08:07:40.364920Z",
     "start_time": "2024-06-07T08:07:40.359502Z"
    }
   },
   "cell_type": "code",
   "source": [
    "for i in range(4):\n",
    "    if i==3:\n",
    "        continue\n",
    "    print(f\"i= {i}\")\n",
    "print(\"=== loop ended \")"
   ],
   "id": "3565b9d6f55d9f9e",
   "outputs": [
    {
     "name": "stdout",
     "output_type": "stream",
     "text": [
      "i= 0\n",
      "i= 1\n",
      "i= 2\n",
      "=== loop ended \n"
     ]
    }
   ],
   "execution_count": 7
  },
  {
   "metadata": {
    "ExecuteTime": {
     "end_time": "2024-06-07T08:09:09.681397Z",
     "start_time": "2024-06-07T08:09:09.674001Z"
    }
   },
   "cell_type": "code",
   "source": [
    "for i in range(4):\n",
    "    print(f\"i {i}\")\n",
    "    \n",
    "else:\n",
    "    print(\"--- loop ended smoothly\")"
   ],
   "id": "a494acb644952b91",
   "outputs": [
    {
     "name": "stdout",
     "output_type": "stream",
     "text": [
      "i 0\n",
      "i 1\n",
      "i 2\n",
      "i 3\n",
      "--- loop ended smoothly\n"
     ]
    }
   ],
   "execution_count": 8
  },
  {
   "metadata": {
    "ExecuteTime": {
     "end_time": "2024-06-07T08:09:26.525174Z",
     "start_time": "2024-06-07T08:09:26.520464Z"
    }
   },
   "cell_type": "code",
   "source": [
    "for i in range(4):\n",
    "    if i ==2:\n",
    "        break\n",
    "    print(f\"i {i}\")\n",
    "    \n",
    "else:\n",
    "    print(\"--- loop ended smoothly\")"
   ],
   "id": "e296973ce1c06c16",
   "outputs": [
    {
     "name": "stdout",
     "output_type": "stream",
     "text": [
      "i 0\n",
      "i 1\n"
     ]
    }
   ],
   "execution_count": 9
  },
  {
   "metadata": {
    "ExecuteTime": {
     "end_time": "2024-06-07T08:11:54.166216Z",
     "start_time": "2024-06-07T08:11:45.441439Z"
    }
   },
   "cell_type": "code",
   "source": [
    "while True:\n",
    "    num = input(\"please enter a number: \")\n",
    "    if num.isdigit():\n",
    "        print(f\"number = {int(num)}\")\n",
    "        break\n",
    "    print(\"---- not valid number please try again\")"
   ],
   "id": "8544d7e194e801e4",
   "outputs": [
    {
     "name": "stdout",
     "output_type": "stream",
     "text": [
      "---- not valid number please try again\n",
      "---- not valid number please try again\n",
      "---- not valid number please try again\n",
      "---- not valid number please try again\n",
      "---- not valid number please try again\n",
      "---- not valid number please try again\n",
      "number = 10\n"
     ]
    }
   ],
   "execution_count": 10
  },
  {
   "metadata": {
    "ExecuteTime": {
     "end_time": "2024-06-07T08:13:43.750651Z",
     "start_time": "2024-06-07T08:13:43.746840Z"
    }
   },
   "cell_type": "code",
   "source": [
    "num = 0\n",
    "while num < 5:\n",
    "    print(f'num = {num}')\n",
    "    num +=1\n"
   ],
   "id": "858b3604e753aeb2",
   "outputs": [
    {
     "name": "stdout",
     "output_type": "stream",
     "text": [
      "num = 0\n",
      "num = 1\n",
      "num = 2\n",
      "num = 3\n",
      "num = 4\n"
     ]
    }
   ],
   "execution_count": 11
  },
  {
   "metadata": {
    "ExecuteTime": {
     "end_time": "2024-06-07T08:15:10.512486Z",
     "start_time": "2024-06-07T08:15:10.506198Z"
    }
   },
   "cell_type": "code",
   "source": [
    "### if(name=='ahmed'){}\n",
    "\n",
    "name= 'noha'\n",
    "if name=='noha':\n",
    "    pass # null operation\n",
    "    \n",
    "print(\"---------------\")"
   ],
   "id": "5b23b49083b004ae",
   "outputs": [
    {
     "ename": "IndentationError",
     "evalue": "expected an indented block after 'if' statement on line 4 (3915913359.py, line 6)",
     "output_type": "error",
     "traceback": [
      "\u001B[0;36m  Cell \u001B[0;32mIn[12], line 6\u001B[0;36m\u001B[0m\n\u001B[0;31m    print(\"---------------\")\u001B[0m\n\u001B[0m    ^\u001B[0m\n\u001B[0;31mIndentationError\u001B[0m\u001B[0;31m:\u001B[0m expected an indented block after 'if' statement on line 4\n"
     ]
    }
   ],
   "execution_count": 12
  },
  {
   "metadata": {},
   "cell_type": "code",
   "outputs": [],
   "execution_count": null,
   "source": "",
   "id": "2db8cc30b98378e8"
  }
 ],
 "metadata": {
  "kernelspec": {
   "display_name": "Python 3",
   "language": "python",
   "name": "python3"
  },
  "language_info": {
   "codemirror_mode": {
    "name": "ipython",
    "version": 2
   },
   "file_extension": ".py",
   "mimetype": "text/x-python",
   "name": "python",
   "nbconvert_exporter": "python",
   "pygments_lexer": "ipython2",
   "version": "2.7.6"
  }
 },
 "nbformat": 4,
 "nbformat_minor": 5
}
