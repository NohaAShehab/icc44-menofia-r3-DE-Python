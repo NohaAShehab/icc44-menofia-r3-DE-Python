{
 "cells": [
  {
   "metadata": {},
   "cell_type": "markdown",
   "source": "# inheritance",
   "id": "aa97cb3c2f10d9ae"
  },
  {
   "metadata": {},
   "cell_type": "markdown",
   "source": "1- define basic inheritance ",
   "id": "cee73d2470847303"
  },
  {
   "cell_type": "code",
   "id": "initial_id",
   "metadata": {
    "collapsed": true,
    "ExecuteTime": {
     "end_time": "2024-06-10T08:22:16.875868Z",
     "start_time": "2024-06-10T08:22:16.866937Z"
    }
   },
   "source": [
    "class Parent:\n",
    "    pass \n",
    "\n",
    "class Child(Parent):\n",
    "    pass "
   ],
   "outputs": [],
   "execution_count": 1
  },
  {
   "metadata": {
    "ExecuteTime": {
     "end_time": "2024-06-10T08:24:27.530778Z",
     "start_time": "2024-06-10T08:24:27.526675Z"
    }
   },
   "cell_type": "code",
   "source": [
    "c = Child()\n",
    "print(isinstance(c, Child))"
   ],
   "id": "bc1ec0f7bc95fb39",
   "outputs": [
    {
     "name": "stdout",
     "output_type": "stream",
     "text": [
      "True\n"
     ]
    }
   ],
   "execution_count": 2
  },
  {
   "metadata": {
    "ExecuteTime": {
     "end_time": "2024-06-10T08:24:32.828515Z",
     "start_time": "2024-06-10T08:24:32.821578Z"
    }
   },
   "cell_type": "code",
   "source": "print(isinstance(c, Parent))",
   "id": "6c82bd3b1dd2aeb5",
   "outputs": [
    {
     "name": "stdout",
     "output_type": "stream",
     "text": [
      "True\n"
     ]
    }
   ],
   "execution_count": 3
  },
  {
   "metadata": {},
   "cell_type": "markdown",
   "source": "2- check this ",
   "id": "3d827db360204fb8"
  },
  {
   "metadata": {
    "ExecuteTime": {
     "end_time": "2024-06-10T08:25:58.531334Z",
     "start_time": "2024-06-10T08:25:58.516291Z"
    }
   },
   "cell_type": "code",
   "source": [
    "class Person:\n",
    "    def __init__(self, name):\n",
    "        self.name = name\n",
    "    def display(self):\n",
    "        print(f'Person(name={self.name})')\n",
    "        \n",
    "class Employee(Person):\n",
    "    pass "
   ],
   "id": "1cfa47daa0b89916",
   "outputs": [],
   "execution_count": 4
  },
  {
   "metadata": {
    "ExecuteTime": {
     "end_time": "2024-06-10T08:26:36.854855Z",
     "start_time": "2024-06-10T08:26:36.658198Z"
    }
   },
   "cell_type": "code",
   "source": "emp = Employee()# will call parent constructor ",
   "id": "7b6cc2ce652bee95",
   "outputs": [
    {
     "ename": "TypeError",
     "evalue": "Person.__init__() missing 1 required positional argument: 'name'",
     "output_type": "error",
     "traceback": [
      "\u001B[0;31m---------------------------------------------------------------------------\u001B[0m",
      "\u001B[0;31mTypeError\u001B[0m                                 Traceback (most recent call last)",
      "Cell \u001B[0;32mIn[5], line 1\u001B[0m\n\u001B[0;32m----> 1\u001B[0m emp \u001B[38;5;241m=\u001B[39m \u001B[43mEmployee\u001B[49m\u001B[43m(\u001B[49m\u001B[43m)\u001B[49m\n",
      "\u001B[0;31mTypeError\u001B[0m: Person.__init__() missing 1 required positional argument: 'name'"
     ]
    }
   ],
   "execution_count": 5
  },
  {
   "metadata": {
    "ExecuteTime": {
     "end_time": "2024-06-10T08:28:43.607492Z",
     "start_time": "2024-06-10T08:28:43.604139Z"
    }
   },
   "cell_type": "code",
   "source": "emp=  Employee(\"ahmed\")",
   "id": "768c0b474b60af29",
   "outputs": [],
   "execution_count": 6
  },
  {
   "metadata": {
    "ExecuteTime": {
     "end_time": "2024-06-10T08:29:18.241550Z",
     "start_time": "2024-06-10T08:29:18.237401Z"
    }
   },
   "cell_type": "code",
   "source": "emp.display()",
   "id": "fadc397da888d68c",
   "outputs": [
    {
     "name": "stdout",
     "output_type": "stream",
     "text": [
      "Person(name=ahmed)\n"
     ]
    }
   ],
   "execution_count": 7
  },
  {
   "metadata": {},
   "cell_type": "markdown",
   "source": "check this scenario",
   "id": "202b4af8ebb3fe15"
  },
  {
   "metadata": {
    "ExecuteTime": {
     "end_time": "2024-06-10T08:30:19.946780Z",
     "start_time": "2024-06-10T08:30:19.926427Z"
    }
   },
   "cell_type": "code",
   "source": [
    "class Person:\n",
    "    def __init__(self, name):\n",
    "        self.name = name\n",
    "    def display(self):\n",
    "        print(f'Person(name={self.name})')\n",
    "        \n",
    "class Employee(Person):\n",
    "    def __init__(self, email):\n",
    "        self.email = email\n",
    "\n",
    "emp = Employee(\"noha\")"
   ],
   "id": "5d1c7246ab079077",
   "outputs": [],
   "execution_count": 9
  },
  {
   "metadata": {
    "ExecuteTime": {
     "end_time": "2024-06-10T08:30:26.404560Z",
     "start_time": "2024-06-10T08:30:26.378527Z"
    }
   },
   "cell_type": "code",
   "source": "emp.display()",
   "id": "5d29c7f2790ba0ba",
   "outputs": [
    {
     "ename": "AttributeError",
     "evalue": "'Employee' object has no attribute 'name'",
     "output_type": "error",
     "traceback": [
      "\u001B[0;31m---------------------------------------------------------------------------\u001B[0m",
      "\u001B[0;31mAttributeError\u001B[0m                            Traceback (most recent call last)",
      "Cell \u001B[0;32mIn[10], line 1\u001B[0m\n\u001B[0;32m----> 1\u001B[0m \u001B[43memp\u001B[49m\u001B[38;5;241;43m.\u001B[39;49m\u001B[43mdisplay\u001B[49m\u001B[43m(\u001B[49m\u001B[43m)\u001B[49m\n",
      "Cell \u001B[0;32mIn[9], line 5\u001B[0m, in \u001B[0;36mPerson.display\u001B[0;34m(self)\u001B[0m\n\u001B[1;32m      4\u001B[0m \u001B[38;5;28;01mdef\u001B[39;00m \u001B[38;5;21mdisplay\u001B[39m(\u001B[38;5;28mself\u001B[39m):\n\u001B[0;32m----> 5\u001B[0m     \u001B[38;5;28mprint\u001B[39m(\u001B[38;5;124mf\u001B[39m\u001B[38;5;124m'\u001B[39m\u001B[38;5;124mPerson(name=\u001B[39m\u001B[38;5;132;01m{\u001B[39;00m\u001B[38;5;28;43mself\u001B[39;49m\u001B[38;5;241;43m.\u001B[39;49m\u001B[43mname\u001B[49m\u001B[38;5;132;01m}\u001B[39;00m\u001B[38;5;124m)\u001B[39m\u001B[38;5;124m'\u001B[39m)\n",
      "\u001B[0;31mAttributeError\u001B[0m: 'Employee' object has no attribute 'name'"
     ]
    }
   ],
   "execution_count": 10
  },
  {
   "metadata": {
    "ExecuteTime": {
     "end_time": "2024-06-10T08:31:00.888885Z",
     "start_time": "2024-06-10T08:31:00.878142Z"
    }
   },
   "cell_type": "code",
   "source": "print(emp.__dict__)",
   "id": "d34755185057c2f1",
   "outputs": [
    {
     "name": "stdout",
     "output_type": "stream",
     "text": [
      "{'email': 'noha'}\n"
     ]
    }
   ],
   "execution_count": 11
  },
  {
   "metadata": {},
   "cell_type": "markdown",
   "source": "to solve this issue , simple call parent constructor inside the child constructor ",
   "id": "4c0e968a72a71955"
  },
  {
   "metadata": {
    "ExecuteTime": {
     "end_time": "2024-06-10T08:40:03.816702Z",
     "start_time": "2024-06-10T08:40:03.809995Z"
    }
   },
   "cell_type": "code",
   "source": [
    "class Person:\n",
    "    def __init__(self, name, city):\n",
    "        self.name = name\n",
    "        self.city = city\n",
    "    def display(self):\n",
    "        print(f'Person(name={self.name})')\n",
    "        \n",
    "class Employee(Person):\n",
    "    def __init__(self, name ,email):\n",
    "        super().__init__(name, 'menofia')\n",
    "        self.email = email\n"
   ],
   "id": "8337e1491bf75455",
   "outputs": [],
   "execution_count": 19
  },
  {
   "metadata": {
    "ExecuteTime": {
     "end_time": "2024-06-10T08:40:05.905111Z",
     "start_time": "2024-06-10T08:40:05.899522Z"
    }
   },
   "cell_type": "code",
   "source": [
    "emp = Employee(\"ahmed\", 'ahmed@gmail.com')\n",
    "print(emp.__dict__)"
   ],
   "id": "f0da8d55ad2e44d3",
   "outputs": [
    {
     "name": "stdout",
     "output_type": "stream",
     "text": [
      "{'name': 'ahmed', 'city': 'menofia', 'email': 'ahmed@gmail.com'}\n"
     ]
    }
   ],
   "execution_count": 20
  },
  {
   "metadata": {
    "ExecuteTime": {
     "end_time": "2024-06-10T08:41:31.486909Z",
     "start_time": "2024-06-10T08:41:31.478481Z"
    }
   },
   "cell_type": "code",
   "source": "emp.display()",
   "id": "9186c96d38605815",
   "outputs": [
    {
     "name": "stdout",
     "output_type": "stream",
     "text": [
      "Person(name=ahmed)\n"
     ]
    }
   ],
   "execution_count": 21
  },
  {
   "metadata": {},
   "cell_type": "markdown",
   "source": [
    " # overriding  \n",
    "    --> 2 classes have inheritance relation \n",
    "    --> both contains the same method with same name \n",
    "    --> behaviour of the first function in the parent  differs behaviour of the second function in the child \n",
    "    --> this one of the polymorphism forms \n",
    "\n"
   ],
   "id": "e1c23e7b55557a99"
  },
  {
   "metadata": {
    "ExecuteTime": {
     "end_time": "2024-06-10T08:43:13.532578Z",
     "start_time": "2024-06-10T08:43:13.526063Z"
    }
   },
   "cell_type": "code",
   "source": [
    "class Person:\n",
    "    def __init__(self, name, city):\n",
    "        self.name = name\n",
    "        self.city = city\n",
    "    def display(self):\n",
    "        print(f'Person(name={self.name})')\n",
    "        \n",
    "class Employee(Person):\n",
    "    def __init__(self, name ,email):\n",
    "        super().__init__(name, 'menofia')\n",
    "        self.email = email\n",
    "        \n",
    "    def display(self):\n",
    "        print(f\"Employee( email = {self.email}, name = {self.name})\")\n",
    "        "
   ],
   "id": "7ff8b5380cc60399",
   "outputs": [],
   "execution_count": 25
  },
  {
   "metadata": {
    "ExecuteTime": {
     "end_time": "2024-06-10T08:43:14.882735Z",
     "start_time": "2024-06-10T08:43:14.879310Z"
    }
   },
   "cell_type": "code",
   "source": "emp = Employee('noha', 'noha@gmail.com')",
   "id": "5cdb1d8a496d90ec",
   "outputs": [],
   "execution_count": 26
  },
  {
   "metadata": {
    "ExecuteTime": {
     "end_time": "2024-06-10T08:43:16.413070Z",
     "start_time": "2024-06-10T08:43:16.403854Z"
    }
   },
   "cell_type": "code",
   "source": "emp.display()",
   "id": "b6ca3d1992aac6ef",
   "outputs": [
    {
     "name": "stdout",
     "output_type": "stream",
     "text": [
      "Employee( email = noha@gmail.com, name = noha)\n"
     ]
    }
   ],
   "execution_count": 27
  },
  {
   "metadata": {},
   "cell_type": "markdown",
   "source": "another solution ",
   "id": "1882e55e427c9769"
  },
  {
   "metadata": {
    "ExecuteTime": {
     "end_time": "2024-06-10T08:44:14.733794Z",
     "start_time": "2024-06-10T08:44:14.726504Z"
    }
   },
   "cell_type": "code",
   "source": [
    "class Person:\n",
    "    def __init__(self, name, city):\n",
    "        self.name = name\n",
    "        self.city = city\n",
    "    def display(self):\n",
    "        print(f'Person(name={self.name})')\n",
    "        \n",
    "class Employee(Person):\n",
    "    def __init__(self, name ,email):\n",
    "        super().__init__(name, 'menofia')\n",
    "        self.email = email\n",
    "        \n",
    "    def display(self):\n",
    "        super().display()\n",
    "        print(f\"Employee( email = {self.email})\")"
   ],
   "id": "b0a090297ae5787c",
   "outputs": [],
   "execution_count": 28
  },
  {
   "metadata": {
    "ExecuteTime": {
     "end_time": "2024-06-10T08:44:21.525074Z",
     "start_time": "2024-06-10T08:44:21.520913Z"
    }
   },
   "cell_type": "code",
   "source": [
    "emp = Employee('noha', 'noha@gmail.com')\n",
    "emp.display()"
   ],
   "id": "6182711c25eda814",
   "outputs": [
    {
     "name": "stdout",
     "output_type": "stream",
     "text": [
      "Person(name=noha)\n",
      "Employee( email = noha@gmail.com)\n"
     ]
    }
   ],
   "execution_count": 29
  },
  {
   "metadata": {
    "ExecuteTime": {
     "end_time": "2024-06-10T08:47:55.772058Z",
     "start_time": "2024-06-10T08:47:55.768167Z"
    }
   },
   "cell_type": "code",
   "source": [
    "class Shape:\n",
    "    def __init__(self, dims:[]):\n",
    "        self.dims = dims\n",
    "\n",
    "    def cal_circum(self):\n",
    "        cir = 0\n",
    "        for dim in self.dims:\n",
    "            cir += dim\n",
    "        print(cir)\n",
    "            "
   ],
   "id": "226dd6d7854b0827",
   "outputs": [],
   "execution_count": 30
  },
  {
   "metadata": {
    "ExecuteTime": {
     "end_time": "2024-06-10T08:50:27.930285Z",
     "start_time": "2024-06-10T08:50:27.926640Z"
    }
   },
   "cell_type": "code",
   "source": [
    "class Square(Shape):\n",
    "    def cal_circum(self):\n",
    "        print(self.dims[0]*4)\n",
    "    "
   ],
   "id": "668e0b93171bc4d5",
   "outputs": [],
   "execution_count": 31
  },
  {
   "metadata": {
    "ExecuteTime": {
     "end_time": "2024-06-10T08:50:46.498625Z",
     "start_time": "2024-06-10T08:50:46.493162Z"
    }
   },
   "cell_type": "code",
   "source": "square = Square([4])",
   "id": "d260060b6e164092",
   "outputs": [],
   "execution_count": 33
  },
  {
   "metadata": {
    "ExecuteTime": {
     "end_time": "2024-06-10T08:50:51.192571Z",
     "start_time": "2024-06-10T08:50:51.188467Z"
    }
   },
   "cell_type": "code",
   "source": "square.cal_circum()",
   "id": "37c3a805e9ac613",
   "outputs": [
    {
     "name": "stdout",
     "output_type": "stream",
     "text": [
      "16\n"
     ]
    }
   ],
   "execution_count": 34
  },
  {
   "metadata": {},
   "cell_type": "raw",
   "source": [
    "Default behaviour for class without constructor \n",
    "is creating only address for the object (self )"
   ],
   "id": "d3bfb179fb07cb72"
  },
  {
   "metadata": {
    "ExecuteTime": {
     "end_time": "2024-06-10T08:54:42.204487Z",
     "start_time": "2024-06-10T08:54:42.200746Z"
    }
   },
   "cell_type": "code",
   "source": [
    "class Exam:\n",
    "    pass\n",
    "\n",
    "e = Exam() \n",
    "#\n",
    "print(e)"
   ],
   "id": "d8e7ba85634f0a2f",
   "outputs": [
    {
     "name": "stdout",
     "output_type": "stream",
     "text": [
      "<__main__.Exam object at 0x73c6d91edb90>\n"
     ]
    }
   ],
   "execution_count": 35
  },
  {
   "metadata": {
    "ExecuteTime": {
     "end_time": "2024-06-10T08:54:57.245701Z",
     "start_time": "2024-06-10T08:54:57.242091Z"
    }
   },
   "cell_type": "code",
   "source": [
    "class Exam:\n",
    "    def __init__(self):\n",
    "        print(self)\n",
    "\n",
    "e = Exam() \n",
    "#\n",
    "print(e)\n",
    "e.duration = 4"
   ],
   "id": "31d8cdcb81e789fa",
   "outputs": [
    {
     "name": "stdout",
     "output_type": "stream",
     "text": [
      "<__main__.Exam object at 0x73c6d91edf90>\n",
      "<__main__.Exam object at 0x73c6d91edf90>\n"
     ]
    }
   ],
   "execution_count": 36
  },
  {
   "metadata": {},
   "cell_type": "code",
   "outputs": [],
   "execution_count": null,
   "source": "",
   "id": "2d846a1db4e8d629"
  }
 ],
 "metadata": {
  "kernelspec": {
   "display_name": "Python 3",
   "language": "python",
   "name": "python3"
  },
  "language_info": {
   "codemirror_mode": {
    "name": "ipython",
    "version": 2
   },
   "file_extension": ".py",
   "mimetype": "text/x-python",
   "name": "python",
   "nbconvert_exporter": "python",
   "pygments_lexer": "ipython2",
   "version": "2.7.6"
  }
 },
 "nbformat": 4,
 "nbformat_minor": 5
}
