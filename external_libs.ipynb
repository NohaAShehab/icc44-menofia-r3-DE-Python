{
 "cells": [
  {
   "metadata": {},
   "cell_type": "markdown",
   "source": "# use external package tabulate to display data in table\n",
   "id": "d6190da3a0c2a12e"
  },
  {
   "metadata": {
    "ExecuteTime": {
     "end_time": "2024-06-09T08:25:09.440303Z",
     "start_time": "2024-06-09T08:25:09.433864Z"
    }
   },
   "cell_type": "code",
   "source": [
    "sample_data=[\n",
    "    ['id', 'name', 'age'],\n",
    "    [1, 'John', 23],\n",
    "    [2, 'andrew', 23],\n",
    "    [3,'test', 25]\n",
    "]"
   ],
   "id": "160d8d69f8564a53",
   "outputs": [],
   "execution_count": 2
  },
  {
   "cell_type": "code",
   "id": "initial_id",
   "metadata": {
    "collapsed": true,
    "ExecuteTime": {
     "end_time": "2024-06-09T08:25:10.710518Z",
     "start_time": "2024-06-09T08:25:10.700431Z"
    }
   },
   "source": [
    "from tabulate import tabulate\n",
    "print(tabulate(sample_data))"
   ],
   "outputs": [
    {
     "name": "stdout",
     "output_type": "stream",
     "text": [
      "--  ------  ---\n",
      "id  name    age\n",
      "1   John    23\n",
      "2   andrew  23\n",
      "3   test    25\n",
      "--  ------  ---\n"
     ]
    }
   ],
   "execution_count": 3
  },
  {
   "metadata": {
    "ExecuteTime": {
     "end_time": "2024-06-09T08:25:46.328151Z",
     "start_time": "2024-06-09T08:25:46.323286Z"
    }
   },
   "cell_type": "code",
   "source": [
    "from tabulate import tabulate\n",
    "print(tabulate(sample_data, headers='firstrow'))"
   ],
   "id": "ca583ffd734ebd9b",
   "outputs": [
    {
     "name": "stdout",
     "output_type": "stream",
     "text": [
      "  id  name      age\n",
      "----  ------  -----\n",
      "   1  John       23\n",
      "   2  andrew     23\n",
      "   3  test       25\n"
     ]
    }
   ],
   "execution_count": 4
  },
  {
   "metadata": {
    "ExecuteTime": {
     "end_time": "2024-06-09T08:26:06.800548Z",
     "start_time": "2024-06-09T08:26:06.792302Z"
    }
   },
   "cell_type": "code",
   "source": [
    "from tabulate import tabulate\n",
    "print(tabulate(sample_data, headers='firstrow', tablefmt='fancy_grid'))"
   ],
   "id": "444305529fca930c",
   "outputs": [
    {
     "name": "stdout",
     "output_type": "stream",
     "text": [
      "╒══════╤════════╤═══════╕\n",
      "│   id │ name   │   age │\n",
      "╞══════╪════════╪═══════╡\n",
      "│    1 │ John   │    23 │\n",
      "├──────┼────────┼───────┤\n",
      "│    2 │ andrew │    23 │\n",
      "├──────┼────────┼───────┤\n",
      "│    3 │ test   │    25 │\n",
      "╘══════╧════════╧═══════╛\n"
     ]
    }
   ],
   "execution_count": 5
  },
  {
   "metadata": {
    "ExecuteTime": {
     "end_time": "2024-06-09T08:26:22.623501Z",
     "start_time": "2024-06-09T08:26:22.618806Z"
    }
   },
   "cell_type": "code",
   "source": "print(tabulate(sample_data, headers='firstrow', tablefmt='grid'))",
   "id": "3b84e813712ba020",
   "outputs": [
    {
     "name": "stdout",
     "output_type": "stream",
     "text": [
      "+------+--------+-------+\n",
      "|   id | name   |   age |\n",
      "+======+========+=======+\n",
      "|    1 | John   |    23 |\n",
      "+------+--------+-------+\n",
      "|    2 | andrew |    23 |\n",
      "+------+--------+-------+\n",
      "|    3 | test   |    25 |\n",
      "+------+--------+-------+\n"
     ]
    }
   ],
   "execution_count": 6
  },
  {
   "metadata": {},
   "cell_type": "markdown",
   "source": "# get data from json file and display it in a table",
   "id": "f33dd7212a33594e"
  },
  {
   "metadata": {
    "ExecuteTime": {
     "end_time": "2024-06-09T08:34:08.033841Z",
     "start_time": "2024-06-09T08:34:08.027889Z"
    }
   },
   "cell_type": "code",
   "source": [
    "import json\n",
    "from tabulate import tabulate\n",
    "with open('students.json', 'r') as stdfile:\n",
    "    students_data = json.load(stdfile)\n",
    "    print(tabulate(students_data,headers='keys', tablefmt='fancy_grid', showindex='always'))\n",
    "    "
   ],
   "id": "384c723136d8062c",
   "outputs": [
    {
     "name": "stdout",
     "output_type": "stream",
     "text": [
      "╒════╤══════╤═════════╤═════════╕\n",
      "│    │   id │ name    │ track   │\n",
      "╞════╪══════╪═════════╪═════════╡\n",
      "│  0 │    1 │ ahmed   │ Cloud   │\n",
      "├────┼──────┼─────────┼─────────┤\n",
      "│  1 │    2 │ ali     │ Cloud   │\n",
      "├────┼──────┼─────────┼─────────┤\n",
      "│  2 │    3 │ mohamed │ Cloud   │\n",
      "├────┼──────┼─────────┼─────────┤\n",
      "│  3 │  100 │ abbass  │ de      │\n",
      "├────┼──────┼─────────┼─────────┤\n",
      "│  4 │  100 │ abbass  │ de      │\n",
      "├────┼──────┼─────────┼─────────┤\n",
      "│  5 │  200 │ test    │ DE      │\n",
      "╘════╧══════╧═════════╧═════════╛\n"
     ]
    }
   ],
   "execution_count": 11
  },
  {
   "metadata": {},
   "cell_type": "code",
   "outputs": [],
   "execution_count": null,
   "source": "",
   "id": "5fb04ad88e56459b"
  }
 ],
 "metadata": {
  "kernelspec": {
   "display_name": "Python 3",
   "language": "python",
   "name": "python3"
  },
  "language_info": {
   "codemirror_mode": {
    "name": "ipython",
    "version": 2
   },
   "file_extension": ".py",
   "mimetype": "text/x-python",
   "name": "python",
   "nbconvert_exporter": "python",
   "pygments_lexer": "ipython2",
   "version": "2.7.6"
  }
 },
 "nbformat": 4,
 "nbformat_minor": 5
}
