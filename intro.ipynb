{
 "cells": [
  {
   "metadata": {},
   "cell_type": "markdown",
   "source": "Type conversion",
   "id": "4ac918849a8e555d"
  },
  {
   "metadata": {
    "ExecuteTime": {
     "end_time": "2024-06-05T08:53:32.266612Z",
     "start_time": "2024-06-05T08:53:32.255179Z"
    }
   },
   "cell_type": "code",
   "source": [
    "name ='ahmed'\n",
    "print(type(name))"
   ],
   "id": "6e0785cd988d4c5f",
   "outputs": [
    {
     "name": "stdout",
     "output_type": "stream",
     "text": [
      "<class 'str'>\n"
     ]
    }
   ],
   "execution_count": 1
  },
  {
   "cell_type": "code",
   "id": "initial_id",
   "metadata": {
    "collapsed": true,
    "ExecuteTime": {
     "end_time": "2024-06-05T08:53:56.079775Z",
     "start_time": "2024-06-05T08:53:56.075013Z"
    }
   },
   "source": [
    "num = 10 \n",
    "print(num, type(num))   "
   ],
   "outputs": [
    {
     "name": "stdout",
     "output_type": "stream",
     "text": [
      "10 <class 'int'>\n"
     ]
    }
   ],
   "execution_count": 3
  },
  {
   "metadata": {},
   "cell_type": "markdown",
   "source": "convert num to string ",
   "id": "6321826eb8b58e2d"
  },
  {
   "metadata": {
    "ExecuteTime": {
     "end_time": "2024-06-05T08:54:30.430497Z",
     "start_time": "2024-06-05T08:54:30.421237Z"
    }
   },
   "cell_type": "code",
   "source": [
    "num = str(num)\n",
    "print(num, type(num))"
   ],
   "id": "b4e515ef666405a0",
   "outputs": [
    {
     "name": "stdout",
     "output_type": "stream",
     "text": [
      "10 <class 'str'>\n"
     ]
    }
   ],
   "execution_count": 4
  },
  {
   "metadata": {
    "ExecuteTime": {
     "end_time": "2024-06-05T08:55:09.137046Z",
     "start_time": "2024-06-05T08:55:09.131244Z"
    }
   },
   "cell_type": "code",
   "source": [
    "mybool = True \n",
    "print(mybool, type(mybool))"
   ],
   "id": "afe09b883f3c629c",
   "outputs": [
    {
     "name": "stdout",
     "output_type": "stream",
     "text": [
      "True <class 'bool'>\n"
     ]
    }
   ],
   "execution_count": 5
  },
  {
   "metadata": {
    "ExecuteTime": {
     "end_time": "2024-06-05T08:55:32.027494Z",
     "start_time": "2024-06-05T08:55:32.021707Z"
    }
   },
   "cell_type": "code",
   "source": [
    "mybool = str(mybool)\n",
    "print(mybool, type(mybool))"
   ],
   "id": "55339f963a93fb90",
   "outputs": [
    {
     "name": "stdout",
     "output_type": "stream",
     "text": [
      "True <class 'str'>\n"
     ]
    }
   ],
   "execution_count": 6
  },
  {
   "metadata": {
    "ExecuteTime": {
     "end_time": "2024-06-05T08:56:13.008040Z",
     "start_time": "2024-06-05T08:56:12.999406Z"
    }
   },
   "cell_type": "code",
   "source": [
    "name= 'noha'\n",
    "print(type(name),name)\n",
    "name = bool(name)\n",
    "print(type(name),name)"
   ],
   "id": "44ce40b591f8a0f3",
   "outputs": [
    {
     "name": "stdout",
     "output_type": "stream",
     "text": [
      "<class 'str'> noha\n",
      "<class 'bool'> True\n"
     ]
    }
   ],
   "execution_count": 7
  },
  {
   "metadata": {
    "ExecuteTime": {
     "end_time": "2024-06-05T08:56:59.242559Z",
     "start_time": "2024-06-05T08:56:59.234727Z"
    }
   },
   "cell_type": "code",
   "source": [
    "num = 0 \n",
    "print(num, type(num))\n",
    "num  = bool(num)\n",
    "print(num, type(num))"
   ],
   "id": "957ab0a974e5dfb",
   "outputs": [
    {
     "name": "stdout",
     "output_type": "stream",
     "text": [
      "0 <class 'int'>\n",
      "False <class 'bool'>\n"
     ]
    }
   ],
   "execution_count": 8
  },
  {
   "metadata": {},
   "cell_type": "markdown",
   "source": "convert string to int ",
   "id": "52ef30bdb63d58b5"
  },
  {
   "metadata": {
    "ExecuteTime": {
     "end_time": "2024-06-05T09:06:25.188365Z",
     "start_time": "2024-06-05T09:06:25.182267Z"
    }
   },
   "cell_type": "code",
   "source": [
    "year = \"2024\"\n",
    "print(year, type(year))\n",
    "year = int(year)\n",
    "print(year, type(year))"
   ],
   "id": "966707bf8e9f5648",
   "outputs": [
    {
     "name": "stdout",
     "output_type": "stream",
     "text": [
      "2024 <class 'str'>\n",
      "2024 <class 'int'>\n"
     ]
    }
   ],
   "execution_count": 9
  },
  {
   "metadata": {
    "ExecuteTime": {
     "end_time": "2024-06-05T09:07:23.297032Z",
     "start_time": "2024-06-05T09:07:22.955447Z"
    }
   },
   "cell_type": "code",
   "source": [
    "name = 'noha'\n",
    "print(type(name),name)\n",
    "name = int(name)\n",
    "print(name, type(name))"
   ],
   "id": "4359ee6e98eff4b4",
   "outputs": [
    {
     "name": "stdout",
     "output_type": "stream",
     "text": [
      "<class 'str'> noha\n"
     ]
    },
    {
     "ename": "ValueError",
     "evalue": "invalid literal for int() with base 10: 'noha'",
     "output_type": "error",
     "traceback": [
      "\u001B[0;31m---------------------------------------------------------------------------\u001B[0m",
      "\u001B[0;31mValueError\u001B[0m                                Traceback (most recent call last)",
      "Cell \u001B[0;32mIn[10], line 3\u001B[0m\n\u001B[1;32m      1\u001B[0m name \u001B[38;5;241m=\u001B[39m \u001B[38;5;124m'\u001B[39m\u001B[38;5;124mnoha\u001B[39m\u001B[38;5;124m'\u001B[39m\n\u001B[1;32m      2\u001B[0m \u001B[38;5;28mprint\u001B[39m(\u001B[38;5;28mtype\u001B[39m(name),name)\n\u001B[0;32m----> 3\u001B[0m name \u001B[38;5;241m=\u001B[39m \u001B[38;5;28;43mint\u001B[39;49m\u001B[43m(\u001B[49m\u001B[43mname\u001B[49m\u001B[43m)\u001B[49m\n\u001B[1;32m      4\u001B[0m \u001B[38;5;28mprint\u001B[39m(name, \u001B[38;5;28mtype\u001B[39m(name))\n",
      "\u001B[0;31mValueError\u001B[0m: invalid literal for int() with base 10: 'noha'"
     ]
    }
   ],
   "execution_count": 10
  },
  {
   "metadata": {},
   "cell_type": "markdown",
   "source": [
    "when I need to convert from string to int ,,, ---> conversion is convenient\n",
    "if string contains only numbers otherwise it will raise errors "
   ],
   "id": "d862ba846848c3ba"
  },
  {
   "metadata": {},
   "cell_type": "markdown",
   "source": "arthimetic operators",
   "id": "a926502f94e17a34"
  },
  {
   "metadata": {},
   "cell_type": "code",
   "outputs": [],
   "execution_count": null,
   "source": [
    "num1 = 10\n",
    "num2= 100"
   ],
   "id": "7de52d79f8cdf208"
  },
  {
   "metadata": {},
   "cell_type": "raw",
   "source": "and return True only if all the expression parts represent True ",
   "id": "8369919db89b20ca"
  },
  {
   "metadata": {
    "ExecuteTime": {
     "end_time": "2024-06-05T09:17:51.361669Z",
     "start_time": "2024-06-05T09:17:51.350206Z"
    }
   },
   "cell_type": "code",
   "source": "print(100 and 10 and 'test' and 66)  # 66 represent True ",
   "id": "4256e4f2e8219ce5",
   "outputs": [
    {
     "name": "stdout",
     "output_type": "stream",
     "text": [
      "66\n"
     ]
    }
   ],
   "execution_count": 17
  },
  {
   "metadata": {},
   "cell_type": "markdown",
   "source": "at least one of the expression parts represent True --> return True ",
   "id": "32947304d3b2d3bd"
  },
  {
   "metadata": {
    "ExecuteTime": {
     "end_time": "2024-06-05T09:15:28.497697Z",
     "start_time": "2024-06-05T09:15:28.491447Z"
    }
   },
   "cell_type": "code",
   "source": "print(100 or 10 or 200 )",
   "id": "61c80565e80bff3a",
   "outputs": [
    {
     "name": "stdout",
     "output_type": "stream",
     "text": [
      "100\n"
     ]
    }
   ],
   "execution_count": 12
  },
  {
   "metadata": {
    "ExecuteTime": {
     "end_time": "2024-06-05T09:15:52.105569Z",
     "start_time": "2024-06-05T09:15:52.099982Z"
    }
   },
   "cell_type": "code",
   "source": "print(-100 or 'iti' )",
   "id": "638e8ff7f27bf292",
   "outputs": [
    {
     "name": "stdout",
     "output_type": "stream",
     "text": [
      "-100\n"
     ]
    }
   ],
   "execution_count": 13
  },
  {
   "metadata": {
    "ExecuteTime": {
     "end_time": "2024-06-05T09:16:19.196792Z",
     "start_time": "2024-06-05T09:16:19.191066Z"
    }
   },
   "cell_type": "code",
   "source": "print('iti' and False and 'noha' and 33)",
   "id": "c240fa66702a5468",
   "outputs": [
    {
     "name": "stdout",
     "output_type": "stream",
     "text": [
      "False\n"
     ]
    }
   ],
   "execution_count": 14
  },
  {
   "metadata": {},
   "cell_type": "markdown",
   "source": "if -condition",
   "id": "ac0450f19bfc7f5f"
  },
  {
   "metadata": {
    "ExecuteTime": {
     "end_time": "2024-06-05T09:24:15.290173Z",
     "start_time": "2024-06-05T09:24:15.285558Z"
    }
   },
   "cell_type": "code",
   "source": [
    "num = 10 \n",
    "if num > 10:\n",
    "    print(\"---- greater than \")\n",
    "else:\n",
    "    print(\" given number is less than 10 \")"
   ],
   "id": "fff3baa3300e77ba",
   "outputs": [
    {
     "name": "stdout",
     "output_type": "stream",
     "text": [
      " given number is less than 10 \n"
     ]
    }
   ],
   "execution_count": 19
  },
  {
   "metadata": {
    "ExecuteTime": {
     "end_time": "2024-06-05T09:26:03.547857Z",
     "start_time": "2024-06-05T09:26:03.529627Z"
    }
   },
   "cell_type": "code",
   "source": [
    "num2 = 5\n",
    "if num2 %3 == 0:\n",
    "    print(\"divisible by 3\")\n",
    "elif num2 % 2 == 0:\n",
    "    print(\"divisible by 2\")\n",
    "elif num2 %5 == 0:\n",
    "    print(\"divisible by 5\")\n",
    "else:\n",
    "    print(\"divisible by 1\")\n"
   ],
   "id": "da8e7787da9e2d00",
   "outputs": [
    {
     "name": "stdout",
     "output_type": "stream",
     "text": [
      "divisible by 5\n"
     ]
    }
   ],
   "execution_count": 22
  },
  {
   "metadata": {},
   "cell_type": "code",
   "outputs": [],
   "execution_count": null,
   "source": "",
   "id": "60519bd25749d607"
  }
 ],
 "metadata": {
  "kernelspec": {
   "display_name": "Python 3",
   "language": "python",
   "name": "python3"
  },
  "language_info": {
   "codemirror_mode": {
    "name": "ipython",
    "version": 2
   },
   "file_extension": ".py",
   "mimetype": "text/x-python",
   "name": "python",
   "nbconvert_exporter": "python",
   "pygments_lexer": "ipython2",
   "version": "2.7.6"
  }
 },
 "nbformat": 4,
 "nbformat_minor": 5
}
