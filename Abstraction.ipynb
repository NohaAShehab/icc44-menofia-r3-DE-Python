{
 "cells": [
  {
   "metadata": {},
   "cell_type": "markdown",
   "source": [
    "\n",
    "# abstraction\n",
    "    --> abstract class --> class cannot take object from\n",
    "    --> define general architecture --> but I am care about implementation\n",
    "    "
   ],
   "id": "3bf9dfc897d77a99"
  },
  {
   "metadata": {},
   "cell_type": "markdown",
   "source": [
    "# to apply abstraction\n",
    "    --> 1- extend class from ABC class (Abstract base class)\n",
    "    --> 2- define abstract method "
   ],
   "id": "8e756713f6de35d9"
  },
  {
   "cell_type": "code",
   "id": "initial_id",
   "metadata": {
    "collapsed": true,
    "ExecuteTime": {
     "end_time": "2024-06-11T06:58:28.545044Z",
     "start_time": "2024-06-11T06:58:28.539934Z"
    }
   },
   "source": [
    "from abc import ABC, abstractmethod\n",
    "class Student(ABC):\n",
    "    @abstractmethod\n",
    "    def info(self):\n",
    "        pass \n",
    "# student class is an abstract class "
   ],
   "outputs": [],
   "execution_count": 4
  },
  {
   "metadata": {
    "ExecuteTime": {
     "end_time": "2024-06-11T06:58:30.797477Z",
     "start_time": "2024-06-11T06:58:30.769611Z"
    }
   },
   "cell_type": "code",
   "source": "s =  Student()",
   "id": "2afb676c6ebfee14",
   "outputs": [
    {
     "ename": "TypeError",
     "evalue": "Can't instantiate abstract class Student with abstract method info",
     "output_type": "error",
     "traceback": [
      "\u001B[0;31m---------------------------------------------------------------------------\u001B[0m",
      "\u001B[0;31mTypeError\u001B[0m                                 Traceback (most recent call last)",
      "Cell \u001B[0;32mIn[5], line 1\u001B[0m\n\u001B[0;32m----> 1\u001B[0m s \u001B[38;5;241m=\u001B[39m  \u001B[43mStudent\u001B[49m\u001B[43m(\u001B[49m\u001B[43m)\u001B[49m\n",
      "\u001B[0;31mTypeError\u001B[0m: Can't instantiate abstract class Student with abstract method info"
     ]
    }
   ],
   "execution_count": 5
  },
  {
   "metadata": {
    "ExecuteTime": {
     "end_time": "2024-06-11T09:42:38.009938Z",
     "start_time": "2024-06-11T09:42:37.989786Z"
    }
   },
   "cell_type": "code",
   "source": [
    "class Engineer(Student):\n",
    "    pass  \n",
    "\n",
    "e = Engineer()"
   ],
   "id": "e522530b8e68765e",
   "outputs": [
    {
     "ename": "TypeError",
     "evalue": "Can't instantiate abstract class Engineer with abstract method info",
     "output_type": "error",
     "traceback": [
      "\u001B[0;31m---------------------------------------------------------------------------\u001B[0m",
      "\u001B[0;31mTypeError\u001B[0m                                 Traceback (most recent call last)",
      "Cell \u001B[0;32mIn[6], line 4\u001B[0m\n\u001B[1;32m      1\u001B[0m \u001B[38;5;28;01mclass\u001B[39;00m \u001B[38;5;21;01mEngineer\u001B[39;00m(Student):\n\u001B[1;32m      2\u001B[0m     \u001B[38;5;28;01mpass\u001B[39;00m \n\u001B[0;32m----> 4\u001B[0m e \u001B[38;5;241m=\u001B[39m \u001B[43mEngineer\u001B[49m\u001B[43m(\u001B[49m\u001B[43m)\u001B[49m\n",
      "\u001B[0;31mTypeError\u001B[0m: Can't instantiate abstract class Engineer with abstract method info"
     ]
    }
   ],
   "execution_count": 6
  },
  {
   "metadata": {
    "ExecuteTime": {
     "end_time": "2024-06-11T09:44:19.876118Z",
     "start_time": "2024-06-11T09:44:19.871934Z"
    }
   },
   "cell_type": "code",
   "source": [
    "class Engineer(Student):\n",
    "    def info(self):\n",
    "        pass\n",
    "\n",
    "e = Engineer()"
   ],
   "id": "6a59709cebcac5a4",
   "outputs": [],
   "execution_count": 7
  },
  {
   "metadata": {},
   "cell_type": "markdown",
   "source": "# check this",
   "id": "44a48b798594c468"
  },
  {
   "metadata": {
    "ExecuteTime": {
     "end_time": "2024-06-11T09:45:17.156106Z",
     "start_time": "2024-06-11T09:45:17.152388Z"
    }
   },
   "cell_type": "code",
   "source": [
    "class Employee(ABC):\n",
    "    pass \n",
    "\n",
    "emp = Employee()"
   ],
   "id": "70559e32f68e3117",
   "outputs": [],
   "execution_count": 8
  },
  {
   "metadata": {},
   "cell_type": "markdown",
   "source": "to create abstract class you must extend from ABC and have at least one abstract method ",
   "id": "1f3eb70d1585d99"
  },
  {
   "metadata": {
    "ExecuteTime": {
     "end_time": "2024-06-11T09:46:13.320203Z",
     "start_time": "2024-06-11T09:46:13.315881Z"
    }
   },
   "cell_type": "code",
   "source": [
    "class Employee():\n",
    "    @abstractmethod\n",
    "    def test(self):\n",
    "        pass \n",
    "\n",
    "emp = Employee()"
   ],
   "id": "301e4ba445733cb",
   "outputs": [],
   "execution_count": 9
  },
  {
   "metadata": {},
   "cell_type": "markdown",
   "source": "# all classes in python implicitly inherits from base class object ",
   "id": "67c55f44f4141fe4"
  },
  {
   "metadata": {
    "ExecuteTime": {
     "end_time": "2024-06-11T09:48:25.006959Z",
     "start_time": "2024-06-11T09:48:25.002679Z"
    }
   },
   "cell_type": "code",
   "source": [
    "class Book:\n",
    "    pass \n",
    "\n",
    "b = Book()  \n",
    "print(b)\n",
    "print(isinstance(b, object))\n"
   ],
   "id": "8804fb0e00f621d",
   "outputs": [
    {
     "name": "stdout",
     "output_type": "stream",
     "text": [
      "<__main__.Book object at 0x75acc7f99490>\n",
      "True\n"
     ]
    }
   ],
   "execution_count": 11
  },
  {
   "metadata": {
    "ExecuteTime": {
     "end_time": "2024-06-11T09:49:01.517363Z",
     "start_time": "2024-06-11T09:49:01.513372Z"
    }
   },
   "cell_type": "code",
   "source": "print(isinstance('iti', object))",
   "id": "38a6b30ca13286c5",
   "outputs": [
    {
     "name": "stdout",
     "output_type": "stream",
     "text": [
      "True\n"
     ]
    }
   ],
   "execution_count": 12
  },
  {
   "metadata": {
    "ExecuteTime": {
     "end_time": "2024-06-11T09:49:44.432432Z",
     "start_time": "2024-06-11T09:49:44.428749Z"
    }
   },
   "cell_type": "code",
   "source": "print(type('iti'))",
   "id": "b0a63660cfb44bf9",
   "outputs": [
    {
     "name": "stdout",
     "output_type": "stream",
     "text": [
      "<class 'str'>\n"
     ]
    }
   ],
   "execution_count": 13
  },
  {
   "metadata": {
    "ExecuteTime": {
     "end_time": "2024-06-11T09:50:02.391417Z",
     "start_time": "2024-06-11T09:50:02.387532Z"
    }
   },
   "cell_type": "code",
   "source": [
    "res = type('iti')\n",
    "print(res)"
   ],
   "id": "bb277fbb5306b57a",
   "outputs": [
    {
     "name": "stdout",
     "output_type": "stream",
     "text": [
      "<class 'str'>\n"
     ]
    }
   ],
   "execution_count": 14
  },
  {
   "metadata": {
    "ExecuteTime": {
     "end_time": "2024-06-11T09:50:15.782214Z",
     "start_time": "2024-06-11T09:50:15.775544Z"
    }
   },
   "cell_type": "code",
   "source": "type(res)",
   "id": "1be2f8d29d0f9f39",
   "outputs": [
    {
     "data": {
      "text/plain": [
       "type"
      ]
     },
     "execution_count": 15,
     "metadata": {},
     "output_type": "execute_result"
    }
   ],
   "execution_count": 15
  },
  {
   "metadata": {},
   "cell_type": "code",
   "outputs": [],
   "execution_count": null,
   "source": "",
   "id": "b85289c53276ddfc"
  }
 ],
 "metadata": {
  "kernelspec": {
   "display_name": "Python 3",
   "language": "python",
   "name": "python3"
  },
  "language_info": {
   "codemirror_mode": {
    "name": "ipython",
    "version": 2
   },
   "file_extension": ".py",
   "mimetype": "text/x-python",
   "name": "python",
   "nbconvert_exporter": "python",
   "pygments_lexer": "ipython2",
   "version": "2.7.6"
  }
 },
 "nbformat": 4,
 "nbformat_minor": 5
}
