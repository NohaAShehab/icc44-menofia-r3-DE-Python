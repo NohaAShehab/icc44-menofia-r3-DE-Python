{
 "cells": [
  {
   "metadata": {},
   "cell_type": "markdown",
   "source": [
    "\n",
    "# abstraction\n",
    "    --> abstract class --> class cannot take object from\n",
    "    --> define general architecture --> but I am care about implementation\n",
    "    "
   ],
   "id": "3bf9dfc897d77a99"
  },
  {
   "metadata": {},
   "cell_type": "markdown",
   "source": [
    "# to apply abstraction\n",
    "    --> 1- extend class from ABC class (Abstract base class)\n",
    "    --> 2- define abstract method "
   ],
   "id": "8e756713f6de35d9"
  },
  {
   "cell_type": "code",
   "id": "initial_id",
   "metadata": {
    "collapsed": true,
    "ExecuteTime": {
     "end_time": "2024-06-11T06:58:28.545044Z",
     "start_time": "2024-06-11T06:58:28.539934Z"
    }
   },
   "source": [
    "from abc import ABC, abstractmethod\n",
    "class Student(ABC):\n",
    "    @abstractmethod\n",
    "    def info(self):\n",
    "        pass "
   ],
   "outputs": [],
   "execution_count": 4
  },
  {
   "metadata": {
    "ExecuteTime": {
     "end_time": "2024-06-11T06:58:30.797477Z",
     "start_time": "2024-06-11T06:58:30.769611Z"
    }
   },
   "cell_type": "code",
   "source": "s =  Student()",
   "id": "2afb676c6ebfee14",
   "outputs": [
    {
     "ename": "TypeError",
     "evalue": "Can't instantiate abstract class Student with abstract method info",
     "output_type": "error",
     "traceback": [
      "\u001B[0;31m---------------------------------------------------------------------------\u001B[0m",
      "\u001B[0;31mTypeError\u001B[0m                                 Traceback (most recent call last)",
      "Cell \u001B[0;32mIn[5], line 1\u001B[0m\n\u001B[0;32m----> 1\u001B[0m s \u001B[38;5;241m=\u001B[39m  \u001B[43mStudent\u001B[49m\u001B[43m(\u001B[49m\u001B[43m)\u001B[49m\n",
      "\u001B[0;31mTypeError\u001B[0m: Can't instantiate abstract class Student with abstract method info"
     ]
    }
   ],
   "execution_count": 5
  },
  {
   "metadata": {},
   "cell_type": "code",
   "outputs": [],
   "execution_count": null,
   "source": "",
   "id": "e522530b8e68765e"
  }
 ],
 "metadata": {
  "kernelspec": {
   "display_name": "Python 3",
   "language": "python",
   "name": "python3"
  },
  "language_info": {
   "codemirror_mode": {
    "name": "ipython",
    "version": 2
   },
   "file_extension": ".py",
   "mimetype": "text/x-python",
   "name": "python",
   "nbconvert_exporter": "python",
   "pygments_lexer": "ipython2",
   "version": "2.7.6"
  }
 },
 "nbformat": 4,
 "nbformat_minor": 5
}
