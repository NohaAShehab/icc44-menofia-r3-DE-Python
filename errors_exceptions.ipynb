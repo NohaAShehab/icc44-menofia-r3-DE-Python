{
 "cells": [
  {
   "metadata": {},
   "cell_type": "markdown",
   "source": "# Syntax error",
   "id": "8cd433b7bab43863"
  },
  {
   "cell_type": "code",
   "id": "initial_id",
   "metadata": {
    "collapsed": true,
    "ExecuteTime": {
     "end_time": "2024-06-08T08:07:01.723600Z",
     "start_time": "2024-06-08T08:07:01.714135Z"
    }
   },
   "source": [
    "num =10\n",
    "print(num)\n",
    "print('iti'\n",
    "print(\"----------------\")"
   ],
   "outputs": [
    {
     "ename": "SyntaxError",
     "evalue": "'(' was never closed (1457118107.py, line 3)",
     "output_type": "error",
     "traceback": [
      "\u001B[0;36m  Cell \u001B[0;32mIn[4], line 3\u001B[0;36m\u001B[0m\n\u001B[0;31m    print('iti'\u001B[0m\n\u001B[0m         ^\u001B[0m\n\u001B[0;31mSyntaxError\u001B[0m\u001B[0;31m:\u001B[0m '(' was never closed\n"
     ]
    }
   ],
   "execution_count": 4
  },
  {
   "metadata": {},
   "cell_type": "markdown",
   "source": "# Runtime error",
   "id": "c49ad0e30d8bbc5b"
  },
  {
   "metadata": {
    "ExecuteTime": {
     "end_time": "2024-06-08T08:07:53.342619Z",
     "start_time": "2024-06-08T08:07:53.324576Z"
    }
   },
   "cell_type": "code",
   "source": [
    "print(\"---------------------\")\n",
    "print(1/0)\n",
    "print(\"test\")\n"
   ],
   "id": "7acdf1260175c9d9",
   "outputs": [
    {
     "name": "stdout",
     "output_type": "stream",
     "text": [
      "---------------------\n"
     ]
    },
    {
     "ename": "ZeroDivisionError",
     "evalue": "division by zero",
     "output_type": "error",
     "traceback": [
      "\u001B[0;31m---------------------------------------------------------------------------\u001B[0m",
      "\u001B[0;31mZeroDivisionError\u001B[0m                         Traceback (most recent call last)",
      "Cell \u001B[0;32mIn[5], line 2\u001B[0m\n\u001B[1;32m      1\u001B[0m \u001B[38;5;28mprint\u001B[39m(\u001B[38;5;124m\"\u001B[39m\u001B[38;5;124m---------------------\u001B[39m\u001B[38;5;124m\"\u001B[39m)\n\u001B[0;32m----> 2\u001B[0m \u001B[38;5;28mprint\u001B[39m(\u001B[38;5;241;43m1\u001B[39;49m\u001B[38;5;241;43m/\u001B[39;49m\u001B[38;5;241;43m0\u001B[39;49m)\n\u001B[1;32m      3\u001B[0m \u001B[38;5;28mprint\u001B[39m(\u001B[38;5;124m\"\u001B[39m\u001B[38;5;124mtest\u001B[39m\u001B[38;5;124m\"\u001B[39m)\n",
      "\u001B[0;31mZeroDivisionError\u001B[0m: division by zero"
     ]
    }
   ],
   "execution_count": 5
  },
  {
   "metadata": {},
   "cell_type": "markdown",
   "source": "# Logical error ",
   "id": "66b70573fa9a98f4"
  },
  {
   "metadata": {
    "ExecuteTime": {
     "end_time": "2024-06-08T08:08:44.708580Z",
     "start_time": "2024-06-08T08:08:44.704581Z"
    }
   },
   "cell_type": "code",
   "source": [
    "def sumnum(num1, num2):\n",
    "    res = num1 * num2\n",
    "    print(res)"
   ],
   "id": "3380179c037d18fa",
   "outputs": [],
   "execution_count": 6
  },
  {
   "metadata": {
    "ExecuteTime": {
     "end_time": "2024-06-08T08:08:55.841650Z",
     "start_time": "2024-06-08T08:08:55.838348Z"
    }
   },
   "cell_type": "code",
   "source": "sumnum(2,2)",
   "id": "5904caa1536b4c24",
   "outputs": [
    {
     "name": "stdout",
     "output_type": "stream",
     "text": [
      "4\n"
     ]
    }
   ],
   "execution_count": 7
  },
  {
   "metadata": {
    "ExecuteTime": {
     "end_time": "2024-06-08T08:09:00.370172Z",
     "start_time": "2024-06-08T08:09:00.364478Z"
    }
   },
   "cell_type": "code",
   "source": "sumnum(3,3)",
   "id": "c02773a58ba1f9c0",
   "outputs": [
    {
     "name": "stdout",
     "output_type": "stream",
     "text": [
      "9\n"
     ]
    }
   ],
   "execution_count": 8
  },
  {
   "metadata": {},
   "cell_type": "markdown",
   "source": "# Exception handling ",
   "id": "f198800813adb332"
  },
  {
   "metadata": {
    "ExecuteTime": {
     "end_time": "2024-06-08T08:11:15.644637Z",
     "start_time": "2024-06-08T08:11:14.072209Z"
    }
   },
   "cell_type": "code",
   "source": "num = int(input(\"Enter a number: \"))",
   "id": "9a3283cd6f04c1",
   "outputs": [
    {
     "ename": "ValueError",
     "evalue": "invalid literal for int() with base 10: 'dddd'",
     "output_type": "error",
     "traceback": [
      "\u001B[0;31m---------------------------------------------------------------------------\u001B[0m",
      "\u001B[0;31mValueError\u001B[0m                                Traceback (most recent call last)",
      "Cell \u001B[0;32mIn[9], line 1\u001B[0m\n\u001B[0;32m----> 1\u001B[0m num \u001B[38;5;241m=\u001B[39m \u001B[38;5;28;43mint\u001B[39;49m\u001B[43m(\u001B[49m\u001B[38;5;28;43minput\u001B[39;49m\u001B[43m(\u001B[49m\u001B[38;5;124;43m\"\u001B[39;49m\u001B[38;5;124;43mEnter a number: \u001B[39;49m\u001B[38;5;124;43m\"\u001B[39;49m\u001B[43m)\u001B[49m\u001B[43m)\u001B[49m\n",
      "\u001B[0;31mValueError\u001B[0m: invalid literal for int() with base 10: 'dddd'"
     ]
    }
   ],
   "execution_count": 9
  },
  {
   "metadata": {
    "ExecuteTime": {
     "end_time": "2024-06-08T08:12:02.162561Z",
     "start_time": "2024-06-08T08:12:00.365584Z"
    }
   },
   "cell_type": "code",
   "source": [
    "try:\n",
    "    num = int(input(\"Enter a number: \"))\n",
    "    print(num)\n",
    "except :\n",
    "    print(\"--- invalid number ---\")\n",
    "print(\"=== after the conversion \")"
   ],
   "id": "791cfc221d8fcf36",
   "outputs": [
    {
     "name": "stdout",
     "output_type": "stream",
     "text": [
      "--- invalid number ---\n",
      "=== after the conversion \n"
     ]
    }
   ],
   "execution_count": 13
  },
  {
   "metadata": {
    "ExecuteTime": {
     "end_time": "2024-06-08T08:14:04.191312Z",
     "start_time": "2024-06-08T08:14:04.187173Z"
    }
   },
   "cell_type": "code",
   "source": [
    "try:\n",
    "    num  = 10/0\n",
    "except :\n",
    "    print(\"--- invalid number ---\")\n",
    "print(\"=== after the conversion \")"
   ],
   "id": "ab316bfbd487176a",
   "outputs": [
    {
     "name": "stdout",
     "output_type": "stream",
     "text": [
      "--- invalid number ---\n",
      "=== after the conversion \n"
     ]
    }
   ],
   "execution_count": 14
  },
  {
   "metadata": {
    "ExecuteTime": {
     "end_time": "2024-06-08T08:14:48.934857Z",
     "start_time": "2024-06-08T08:14:47.553707Z"
    }
   },
   "cell_type": "code",
   "source": [
    "try:\n",
    "    num  = int(input(\"Enter a number: \"))\n",
    "    res = 10/num\n",
    "except :\n",
    "    print(\"--- invalid number ---\")\n",
    "print(\"=== after the conversion \")"
   ],
   "id": "bd83ad258ded38ee",
   "outputs": [
    {
     "name": "stdout",
     "output_type": "stream",
     "text": [
      "--- invalid number ---\n",
      "=== after the conversion \n"
     ]
    }
   ],
   "execution_count": 16
  },
  {
   "metadata": {},
   "cell_type": "markdown",
   "source": "detect type of exception ",
   "id": "400945fa3ace3d57"
  },
  {
   "metadata": {
    "ExecuteTime": {
     "end_time": "2024-06-08T08:16:11.838323Z",
     "start_time": "2024-06-08T08:16:10.630879Z"
    }
   },
   "cell_type": "code",
   "source": [
    "try:\n",
    "    num  = int(input(\"Enter a number: \"))\n",
    "    res = 10/num\n",
    "except Exception as e:\n",
    "    print(f\"--- invalid number {e} ---\")\n",
    "    num =1\n",
    "    res = 10\n",
    "print(\"=== after the conversion \")"
   ],
   "id": "864983a0ca6013fe",
   "outputs": [
    {
     "name": "stdout",
     "output_type": "stream",
     "text": [
      "--- invalid number division by zero ---\n",
      "=== after the conversion \n"
     ]
    }
   ],
   "execution_count": 19
  },
  {
   "metadata": {
    "ExecuteTime": {
     "end_time": "2024-06-08T08:17:52.200707Z",
     "start_time": "2024-06-08T08:17:50.161919Z"
    }
   },
   "cell_type": "code",
   "source": [
    "try:\n",
    "    num  = int(input(\"Enter a number: \"))\n",
    "    res = 10/num\n",
    "except :\n",
    "    print(\"--- invalid number ---\")\n",
    "    exit()\n",
    "print(\"=== after the conversion \")"
   ],
   "id": "a2b38718e0536b70",
   "outputs": [
    {
     "name": "stdout",
     "output_type": "stream",
     "text": [
      "--- invalid number ---\n",
      "=== after the conversion \n"
     ]
    }
   ],
   "execution_count": 20
  },
  {
   "metadata": {},
   "cell_type": "markdown",
   "source": "# customize handling based on exception ?",
   "id": "798ab38761708860"
  },
  {
   "metadata": {
    "ExecuteTime": {
     "end_time": "2024-06-08T08:23:20.571355Z",
     "start_time": "2024-06-08T08:23:17.967196Z"
    }
   },
   "cell_type": "code",
   "source": [
    "try:\n",
    "    num  = int(input(\"Enter a number: \"))\n",
    "    res = 10/num\n",
    "except ZeroDivisionError as ze :\n",
    "    print(f\"--- Num is zero --> {ze}\")\n",
    "    res  = 'infinity'\n",
    "except ValueError as ve:\n",
    "    print(f\"input cannot be converted to int {ve}\")\n",
    "    num =1\n",
    "    res= 10/num\n",
    "except Exception as e:\n",
    "    print(f\"Error --->{e}\")\n",
    "print(f\"=== after the conversion num={num}, res={res}\", )"
   ],
   "id": "9088126142e723a",
   "outputs": [
    {
     "name": "stdout",
     "output_type": "stream",
     "text": [
      "--- Num is zero --> division by zero\n",
      "=== after the conversion num=0, res=infinity\n"
     ]
    }
   ],
   "execution_count": 4
  },
  {
   "metadata": {},
   "cell_type": "markdown",
   "source": "# add block that represnet what will we do if there is no problem",
   "id": "61d2a71fe736f440"
  },
  {
   "metadata": {
    "ExecuteTime": {
     "end_time": "2024-06-08T08:26:49.475914Z",
     "start_time": "2024-06-08T08:26:47.998701Z"
    }
   },
   "cell_type": "code",
   "source": [
    "try:\n",
    "    num1 = int(input(\"Enter a number01: \"))\n",
    "    num2 = int(input(\"Enter a number02: \"))\n",
    "except ValueError as ve:\n",
    "    print(f\"input cannot be converted to int {ve}\")\n",
    "else:\n",
    "    # this block will be reached if there is no exception\n",
    "    res = num1 + num2\n",
    "    print(res)\n",
    "    "
   ],
   "id": "ec92e2fc9637e8cf",
   "outputs": [
    {
     "name": "stdout",
     "output_type": "stream",
     "text": [
      "input cannot be converted to int invalid literal for int() with base 10: 'kkk'\n"
     ]
    }
   ],
   "execution_count": 7
  },
  {
   "metadata": {},
   "cell_type": "markdown",
   "source": "# finally block ",
   "id": "791f2a7d452c4124"
  },
  {
   "metadata": {
    "ExecuteTime": {
     "end_time": "2024-06-08T08:28:21.101581Z",
     "start_time": "2024-06-08T08:28:16.785750Z"
    }
   },
   "cell_type": "code",
   "source": [
    "try:\n",
    "    num1 = int(input(\"Enter a number01: \"))\n",
    "    num2 = int(input(\"Enter a number02: \"))\n",
    "except ValueError as ve:\n",
    "    print(f\"input cannot be converted to int {ve}\")\n",
    "else:\n",
    "    # this block will be reached if there is no exception\n",
    "    res = num1 + num2\n",
    "    print(res)\n",
    "finally:\n",
    "    print(\"---> operation ended ----\")"
   ],
   "id": "675cc148c342f35b",
   "outputs": [
    {
     "name": "stdout",
     "output_type": "stream",
     "text": [
      "input cannot be converted to int invalid literal for int() with base 10: '33dd'\n",
      "---> operation ended ----\n"
     ]
    }
   ],
   "execution_count": 9
  },
  {
   "metadata": {
    "ExecuteTime": {
     "end_time": "2024-06-08T08:28:53.224661Z",
     "start_time": "2024-06-08T08:28:51.479624Z"
    }
   },
   "cell_type": "code",
   "source": [
    "try:\n",
    "    num1 = int(input(\"Enter a number01: \"))\n",
    "    num2 = int(input(\"Enter a number02: \"))\n",
    "except ValueError as ve:\n",
    "    print(f\"input cannot be converted to int {ve}\")\n",
    "else:\n",
    "    # this block will be reached if there is no exception\n",
    "    res = num1 + num2\n",
    "    print(res)\n",
    "finally:\n",
    "    print(\"---> operation ended ----\")\n",
    "print(\"****************THE END******************\")"
   ],
   "id": "8df941a43fb3dc68",
   "outputs": [
    {
     "name": "stdout",
     "output_type": "stream",
     "text": [
      "66\n",
      "---> operation ended ----\n",
      "****************THE END******************\n"
     ]
    }
   ],
   "execution_count": 11
  },
  {
   "metadata": {
    "ExecuteTime": {
     "end_time": "2024-06-08T08:38:58.264543Z",
     "start_time": "2024-06-08T08:38:58.248639Z"
    }
   },
   "cell_type": "code",
   "source": [
    "def sumnum():\n",
    "    try:\n",
    "        num1 = int(input(\"Enter a number01: \"))\n",
    "        num2 = int(input(\"Enter a number02: \"))\n",
    "    except ValueError as ve:\n",
    "        print(f\"input cannot be converted to int {ve}\")\n",
    "        return False\n",
    "    else:\n",
    "        # this block will be reached if there is no exception\n",
    "        res = num1 + num2\n",
    "        print(f\"-- inside else {res}\")\n",
    "        return num1 + num2\n",
    "    finally:\n",
    "        # finally execution inside the function preceed return\n",
    "        num1 = 100\n",
    "        num2 = 200\n",
    "    \n",
    "        print(\"---> operation ended  ----\")\n",
    "        return  num1 * num2\n",
    "    print(\"------------------- function ended ------------------\")"
   ],
   "id": "7474742f71e2fd2",
   "outputs": [],
   "execution_count": 23
  },
  {
   "metadata": {
    "ExecuteTime": {
     "end_time": "2024-06-08T08:39:03.380134Z",
     "start_time": "2024-06-08T08:38:59.437016Z"
    }
   },
   "cell_type": "code",
   "source": "sumnum()",
   "id": "2fb53aa7c36ec90d",
   "outputs": [
    {
     "name": "stdout",
     "output_type": "stream",
     "text": [
      "-- inside else 7\n",
      "---> operation ended  ----\n"
     ]
    },
    {
     "data": {
      "text/plain": [
       "20000"
      ]
     },
     "execution_count": 24,
     "metadata": {},
     "output_type": "execute_result"
    }
   ],
   "execution_count": 24
  },
  {
   "metadata": {},
   "cell_type": "markdown",
   "source": "# Raising the exception ",
   "id": "11b6ec26af35424"
  },
  {
   "metadata": {
    "ExecuteTime": {
     "end_time": "2024-06-08T08:44:50.100433Z",
     "start_time": "2024-06-08T08:44:47.462837Z"
    }
   },
   "cell_type": "code",
   "source": [
    "def divnums():\n",
    "    num1 = input(\"Enter a number01: \")\n",
    "    if num1.isdigit():\n",
    "        num1 = int(num1)\n",
    "    num2 = input(\"Enter a number02: \") # string \n",
    "    if num2 =='0':\n",
    "        raise ZeroDivisionError(\"num2 cannot be zero\")\n",
    "    if num2.isdigit():\n",
    "        num2 = int(num2)\n",
    "    print(f\"num1 = {num1}, num2 = {num2}\")\n",
    "    if isinstance(num1, int) and isinstance(num2, int):\n",
    "        res = num1 / num2\n",
    "        print(f\"-- inside the function {res}\")\n",
    "    else:\n",
    "        print(\"num1 and num2 are not int\")\n",
    "    \n",
    "divnums()\n",
    "            \n",
    "    "
   ],
   "id": "5a00d86691157bc8",
   "outputs": [
    {
     "ename": "ZeroDivisionError",
     "evalue": "num2 cannot be zero",
     "output_type": "error",
     "traceback": [
      "\u001B[0;31m---------------------------------------------------------------------------\u001B[0m",
      "\u001B[0;31mZeroDivisionError\u001B[0m                         Traceback (most recent call last)",
      "Cell \u001B[0;32mIn[28], line 17\u001B[0m\n\u001B[1;32m     14\u001B[0m     \u001B[38;5;28;01melse\u001B[39;00m:\n\u001B[1;32m     15\u001B[0m         \u001B[38;5;28mprint\u001B[39m(\u001B[38;5;124m\"\u001B[39m\u001B[38;5;124mnum1 and num2 are not int\u001B[39m\u001B[38;5;124m\"\u001B[39m)\n\u001B[0;32m---> 17\u001B[0m \u001B[43mdivnums\u001B[49m\u001B[43m(\u001B[49m\u001B[43m)\u001B[49m\n",
      "Cell \u001B[0;32mIn[28], line 7\u001B[0m, in \u001B[0;36mdivnums\u001B[0;34m()\u001B[0m\n\u001B[1;32m      5\u001B[0m num2 \u001B[38;5;241m=\u001B[39m \u001B[38;5;28minput\u001B[39m(\u001B[38;5;124m\"\u001B[39m\u001B[38;5;124mEnter a number02: \u001B[39m\u001B[38;5;124m\"\u001B[39m)\n\u001B[1;32m      6\u001B[0m \u001B[38;5;28;01mif\u001B[39;00m num2 \u001B[38;5;241m==\u001B[39m\u001B[38;5;124m'\u001B[39m\u001B[38;5;124m0\u001B[39m\u001B[38;5;124m'\u001B[39m:\n\u001B[0;32m----> 7\u001B[0m     \u001B[38;5;28;01mraise\u001B[39;00m \u001B[38;5;167;01mZeroDivisionError\u001B[39;00m(\u001B[38;5;124m\"\u001B[39m\u001B[38;5;124mnum2 cannot be zero\u001B[39m\u001B[38;5;124m\"\u001B[39m)\n\u001B[1;32m      8\u001B[0m \u001B[38;5;28;01mif\u001B[39;00m num2\u001B[38;5;241m.\u001B[39misdigit():\n\u001B[1;32m      9\u001B[0m     num2 \u001B[38;5;241m=\u001B[39m \u001B[38;5;28mint\u001B[39m(num2)\n",
      "\u001B[0;31mZeroDivisionError\u001B[0m: num2 cannot be zero"
     ]
    }
   ],
   "execution_count": 28
  },
  {
   "metadata": {},
   "cell_type": "code",
   "outputs": [],
   "execution_count": null,
   "source": "",
   "id": "199897d02bb4a111"
  }
 ],
 "metadata": {
  "kernelspec": {
   "display_name": "Python 3",
   "language": "python",
   "name": "python3"
  },
  "language_info": {
   "codemirror_mode": {
    "name": "ipython",
    "version": 2
   },
   "file_extension": ".py",
   "mimetype": "text/x-python",
   "name": "python",
   "nbconvert_exporter": "python",
   "pygments_lexer": "ipython2",
   "version": "2.7.6"
  }
 },
 "nbformat": 4,
 "nbformat_minor": 5
}
