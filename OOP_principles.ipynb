{
 "cells": [
  {
   "metadata": {},
   "cell_type": "markdown",
   "source": "# classes ",
   "id": "7bb03fb802105263"
  },
  {
   "cell_type": "code",
   "id": "initial_id",
   "metadata": {
    "collapsed": true
   },
   "source": [
    "class Employee:\n",
    "    def __init__(self,id, name ,salary):\n",
    "        # id , name , salary --> instance variables \n",
    "        self.id = id \n",
    "        self.name = name\n",
    "        self.salary = salary\n",
    "    \n",
    "    def display(self): # instance methods \n",
    "        print(f\"Employee ID: {self.id}, Name: {self.name}, Salary: {self.salary}\")\n",
    "    \n",
    "\n",
    "    "
   ],
   "outputs": [],
   "execution_count": null
  },
  {
   "metadata": {},
   "cell_type": "code",
   "source": [
    "emp1=  Employee(1,\"John\",5000)\n",
    "emp2  =Employee(2,\"Jack\",6000)\n",
    "emp3 = Employee(3,\"Abc\",9000)"
   ],
   "id": "2edaa2aed2afbdba",
   "outputs": [],
   "execution_count": null
  },
  {
   "metadata": {},
   "cell_type": "markdown",
   "source": "access instance variables using variable name / reference",
   "id": "a8c6ca51571cbd8"
  },
  {
   "metadata": {},
   "cell_type": "code",
   "source": "print(emp1.salary)\n",
   "id": "7672521cbac5e363",
   "outputs": [],
   "execution_count": null
  },
  {
   "metadata": {},
   "cell_type": "code",
   "source": "emp1.salary = 346346",
   "id": "c7a6f54ec41becdb",
   "outputs": [],
   "execution_count": null
  },
  {
   "metadata": {},
   "cell_type": "code",
   "source": "print(emp2.salary)",
   "id": "f708f07503b99210",
   "outputs": [],
   "execution_count": null
  },
  {
   "metadata": {},
   "cell_type": "code",
   "source": "print(emp2.name)",
   "id": "408951bbd9eeca22",
   "outputs": [],
   "execution_count": null
  },
  {
   "metadata": {},
   "cell_type": "markdown",
   "source": "emp1.display()",
   "id": "81e1efc2d409abca"
  },
  {
   "metadata": {},
   "cell_type": "code",
   "source": [
    "emp2.display()\n",
    "print(emp3.__dict__)  "
   ],
   "id": "c5a7fa763ba755ed",
   "outputs": [],
   "execution_count": null
  },
  {
   "metadata": {},
   "cell_type": "markdown",
   "source": "# count no of objects created from the class ",
   "id": "bd3b193faea20c8a"
  },
  {
   "metadata": {},
   "cell_type": "code",
   "source": [
    "class Employee:\n",
    "    def __init__(self,id, name ,salary):\n",
    "        # id , name , salary --> instance variables \n",
    "        self.id = id \n",
    "        self.name = name\n",
    "        self.salary = salary\n",
    "        self.count = 0\n",
    "        self.count +=1 \n",
    "    \n",
    "    def display(self): # instance methods \n",
    "        print(f\"Employee ID: {self.id}, Name: {self.name}, Salary: {self.salary}\")"
   ],
   "id": "648aae5b1c5e5a48",
   "outputs": [],
   "execution_count": null
  },
  {
   "metadata": {},
   "cell_type": "code",
   "source": [
    "emp1=  Employee(1,\"John\",5000)\n",
    "emp2  =Employee(2,\"Jack\",6000)\n",
    "emp3 = Employee(3,\"Abc\",9000)"
   ],
   "id": "894a261c79a529ab",
   "outputs": [],
   "execution_count": null
  },
  {
   "metadata": {},
   "cell_type": "code",
   "source": "print(emp3.count)",
   "id": "e105aba407c7cc8b",
   "outputs": [],
   "execution_count": null
  },
  {
   "metadata": {},
   "cell_type": "markdown",
   "source": "check this ",
   "id": "17bea6b3f0d7b483"
  },
  {
   "metadata": {},
   "cell_type": "code",
   "source": [
    "counter = 0  # global variable\n",
    "class Employee:\n",
    "    def __init__(self,id, name ,salary):\n",
    "        # id , name , salary --> instance variables \n",
    "        self.id = id \n",
    "        self.name = name\n",
    "        self.salary = salary\n",
    "        global counter\n",
    "        counter +=1\n",
    "    \n",
    "    def display(self): # instance methods \n",
    "        print(f\"Employee ID: {self.id}, Name: {self.name}, Salary: {self.salary}\")"
   ],
   "id": "3e1f6903d30450ac",
   "outputs": [],
   "execution_count": null
  },
  {
   "metadata": {},
   "cell_type": "code",
   "source": [
    "emp1=  Employee(1,\"John\",5000)\n",
    "emp2  =Employee(2,\"Jack\",6000)\n",
    "emp3 = Employee(3,\"Abc\",9000)"
   ],
   "id": "64cddab6b0ce7f95",
   "outputs": [],
   "execution_count": null
  },
  {
   "metadata": {},
   "cell_type": "code",
   "source": "print(counter)",
   "id": "77359f3f708791ab",
   "outputs": [],
   "execution_count": null
  },
  {
   "metadata": {},
   "cell_type": "markdown",
   "source": "# define destructor ",
   "id": "30dac752f5f4559"
  },
  {
   "metadata": {},
   "cell_type": "code",
   "source": [
    "counter = 0  # global variable\n",
    "class Employee:\n",
    "    def __init__(self,id, name ,salary):\n",
    "        # id , name , salary --> instance variables \n",
    "        self.id = id \n",
    "        self.name = name\n",
    "        self.salary = salary\n",
    "        global counter\n",
    "        counter +=1\n",
    "    \n",
    "    def display(self): # instance methods \n",
    "        print(f\"Employee ID: {self.id}, Name: {self.name}, Salary: {self.salary}\")\n",
    "        \n",
    "    # destructor\n",
    "    def __del__(self):\n",
    "        print(\"---- this function is called when object is deleted----\")\n",
    "        global counter\n",
    "        counter -= 1 "
   ],
   "id": "9b78829439dd721c",
   "outputs": [],
   "execution_count": null
  },
  {
   "metadata": {
    "ExecuteTime": {
     "end_time": "2024-06-10T06:33:13.567661Z",
     "start_time": "2024-06-10T06:33:13.564142Z"
    }
   },
   "cell_type": "code",
   "source": [
    "print(counter)\n",
    "emp1=  Employee(1,\"John\",5000)\n",
    "emp2  =Employee(2,\"Jack\",6000)\n",
    "emp3 = Employee(3,\"Abc\",9000)\n",
    "print(counter)\n"
   ],
   "id": "2f4dbf2e16258736",
   "outputs": [
    {
     "name": "stdout",
     "output_type": "stream",
     "text": [
      "0\n",
      "---- this function is called when object is deleted----\n",
      "---- this function is called when object is deleted----\n",
      "1\n"
     ]
    }
   ],
   "execution_count": 30
  },
  {
   "metadata": {
    "ExecuteTime": {
     "end_time": "2024-06-10T06:33:19.673256Z",
     "start_time": "2024-06-10T06:33:19.669866Z"
    }
   },
   "cell_type": "code",
   "source": "del emp1",
   "id": "d0eb2ec777a63051",
   "outputs": [
    {
     "name": "stdout",
     "output_type": "stream",
     "text": [
      "---- this function is called when object is deleted----\n"
     ]
    }
   ],
   "execution_count": 31
  },
  {
   "metadata": {
    "ExecuteTime": {
     "end_time": "2024-06-10T06:33:22.361568Z",
     "start_time": "2024-06-10T06:33:22.357911Z"
    }
   },
   "cell_type": "code",
   "source": "print(counter)",
   "id": "352eb794c30505e7",
   "outputs": [
    {
     "name": "stdout",
     "output_type": "stream",
     "text": [
      "0\n"
     ]
    }
   ],
   "execution_count": 32
  },
  {
   "metadata": {},
   "cell_type": "markdown",
   "source": "# define class variable --> variable refer to class property //  doesn't depend on any instance ",
   "id": "7eeeed9d8b7a48db"
  },
  {
   "metadata": {
    "ExecuteTime": {
     "end_time": "2024-06-10T06:39:07.221880Z",
     "start_time": "2024-06-10T06:39:07.216579Z"
    }
   },
   "cell_type": "code",
   "source": [
    "class Employee:\n",
    "    empcount = 0 #class variable \n",
    "    def __init__(self, id, name, salary):\n",
    "        self.id = id\n",
    "        self.name = name\n",
    "        self.salary = salary\n",
    "        Employee.empcount +=1\n",
    "        \n",
    "\n",
    "    def display(self):  # instance methods\n",
    "        print(f\"Employee ID: {self.id}, Name: {self.name}, Salary: {self.salary}\")\n",
    "\n",
    "    # destructor\n",
    "    def __del__(self):\n",
    "        print(\"---- this function is called when object is deleted----\")\n",
    "        Employee.empcount -= 1\n"
   ],
   "id": "4e44982753b3c93f",
   "outputs": [],
   "execution_count": 33
  },
  {
   "metadata": {
    "ExecuteTime": {
     "end_time": "2024-06-10T06:39:23.268743Z",
     "start_time": "2024-06-10T06:39:23.265080Z"
    }
   },
   "cell_type": "code",
   "source": "print(Employee.empcount)",
   "id": "8f9468aa17c82b27",
   "outputs": [
    {
     "name": "stdout",
     "output_type": "stream",
     "text": [
      "0\n"
     ]
    }
   ],
   "execution_count": 34
  },
  {
   "metadata": {
    "ExecuteTime": {
     "end_time": "2024-06-10T06:40:03.008410Z",
     "start_time": "2024-06-10T06:40:02.992175Z"
    }
   },
   "cell_type": "code",
   "source": [
    "emp2= Employee(1,'Ahmed', 89323)\n",
    "print(Employee.empcount)"
   ],
   "id": "8b11ca045ad0224d",
   "outputs": [
    {
     "name": "stdout",
     "output_type": "stream",
     "text": [
      "---- this function is called when object is deleted----\n",
      "1\n"
     ]
    }
   ],
   "execution_count": 36
  },
  {
   "metadata": {
    "ExecuteTime": {
     "end_time": "2024-06-10T06:42:47.214675Z",
     "start_time": "2024-06-10T06:42:47.211040Z"
    }
   },
   "cell_type": "code",
   "source": "print(emp2.empcount)",
   "id": "5c264d8e5c06dcab",
   "outputs": [
    {
     "name": "stdout",
     "output_type": "stream",
     "text": [
      "1\n"
     ]
    }
   ],
   "execution_count": 37
  },
  {
   "metadata": {
    "ExecuteTime": {
     "end_time": "2024-06-10T06:43:03.394152Z",
     "start_time": "2024-06-10T06:43:03.389691Z"
    }
   },
   "cell_type": "code",
   "source": "print(emp2.__dict__)",
   "id": "39cb78eb6a159a10",
   "outputs": [
    {
     "name": "stdout",
     "output_type": "stream",
     "text": [
      "{'id': 1, 'name': 'Ahmed', 'salary': 89323}\n"
     ]
    }
   ],
   "execution_count": 38
  },
  {
   "metadata": {},
   "cell_type": "markdown",
   "source": [
    "# class variable \n",
    "    --> shared property between all instance from the class\n",
    "    --> this variable represent class property --> doesn't depend on any instance\n",
    "    --> can be access by either classname or instance name "
   ],
   "id": "28fc9b9019358b71"
  },
  {
   "metadata": {
    "ExecuteTime": {
     "end_time": "2024-06-10T06:48:49.460736Z",
     "start_time": "2024-06-10T06:48:49.457895Z"
    }
   },
   "cell_type": "code",
   "source": "Employee.city = 'Egypt'",
   "id": "c41e58f0af34abc2",
   "outputs": [],
   "execution_count": 39
  },
  {
   "metadata": {},
   "cell_type": "code",
   "outputs": [],
   "execution_count": null,
   "source": "",
   "id": "92709bc138838977"
  }
 ],
 "metadata": {
  "kernelspec": {
   "display_name": "Python 3",
   "language": "python",
   "name": "python3"
  },
  "language_info": {
   "codemirror_mode": {
    "name": "ipython",
    "version": 2
   },
   "file_extension": ".py",
   "mimetype": "text/x-python",
   "name": "python",
   "nbconvert_exporter": "python",
   "pygments_lexer": "ipython2",
   "version": "2.7.6"
  }
 },
 "nbformat": 4,
 "nbformat_minor": 5
}
