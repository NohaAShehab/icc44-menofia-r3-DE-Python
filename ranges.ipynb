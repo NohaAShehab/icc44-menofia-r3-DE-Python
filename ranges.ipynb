{
 "cells": [
  {
   "cell_type": "code",
   "execution_count": null,
   "id": "initial_id",
   "metadata": {
    "collapsed": true
   },
   "outputs": [],
   "source": "nums = [1,2,3,4,5,6,7,8,9,10]"
  },
  {
   "metadata": {
    "ExecuteTime": {
     "end_time": "2024-06-06T09:25:52.855578Z",
     "start_time": "2024-06-06T09:25:52.845879Z"
    }
   },
   "cell_type": "code",
   "source": [
    "myr = range(10)\n",
    "print(myr)"
   ],
   "id": "f44c5ea6c0842d",
   "outputs": [
    {
     "name": "stdout",
     "output_type": "stream",
     "text": [
      "range(0, 10)\n"
     ]
    }
   ],
   "execution_count": 1
  },
  {
   "metadata": {
    "ExecuteTime": {
     "end_time": "2024-06-06T09:26:12.246514Z",
     "start_time": "2024-06-06T09:26:12.242426Z"
    }
   },
   "cell_type": "code",
   "source": "print(list(myr))",
   "id": "29d9b13b2e0758ba",
   "outputs": [
    {
     "name": "stdout",
     "output_type": "stream",
     "text": [
      "[0, 1, 2, 3, 4, 5, 6, 7, 8, 9]\n"
     ]
    }
   ],
   "execution_count": 2
  },
  {
   "metadata": {
    "ExecuteTime": {
     "end_time": "2024-06-06T09:26:35.593092Z",
     "start_time": "2024-06-06T09:26:35.589427Z"
    }
   },
   "cell_type": "code",
   "source": [
    "myr = range(1,11)\n",
    "print(myr)"
   ],
   "id": "e1c05295ed5cfe26",
   "outputs": [
    {
     "name": "stdout",
     "output_type": "stream",
     "text": [
      "range(1, 11)\n"
     ]
    }
   ],
   "execution_count": 3
  },
  {
   "metadata": {
    "ExecuteTime": {
     "end_time": "2024-06-06T09:26:41.142700Z",
     "start_time": "2024-06-06T09:26:41.138099Z"
    }
   },
   "cell_type": "code",
   "source": "print(list(myr))",
   "id": "4b363f65168a682b",
   "outputs": [
    {
     "name": "stdout",
     "output_type": "stream",
     "text": [
      "[1, 2, 3, 4, 5, 6, 7, 8, 9, 10]\n"
     ]
    }
   ],
   "execution_count": 4
  },
  {
   "metadata": {
    "ExecuteTime": {
     "end_time": "2024-06-06T09:26:51.759185Z",
     "start_time": "2024-06-06T09:26:51.756037Z"
    }
   },
   "cell_type": "code",
   "source": [
    "for num in myr:\n",
    "    print(num)"
   ],
   "id": "10d219e09d219029",
   "outputs": [
    {
     "name": "stdout",
     "output_type": "stream",
     "text": [
      "1\n",
      "2\n",
      "3\n",
      "4\n",
      "5\n",
      "6\n",
      "7\n",
      "8\n",
      "9\n",
      "10\n"
     ]
    }
   ],
   "execution_count": 5
  },
  {
   "metadata": {
    "ExecuteTime": {
     "end_time": "2024-06-06T09:27:33.092156Z",
     "start_time": "2024-06-06T09:27:33.088448Z"
    }
   },
   "cell_type": "code",
   "source": [
    "r = range(10 , 1, -1)\n",
    "print(list(r))"
   ],
   "id": "d48822e433545564",
   "outputs": [
    {
     "name": "stdout",
     "output_type": "stream",
     "text": [
      "[10, 9, 8, 7, 6, 5, 4, 3, 2]\n"
     ]
    }
   ],
   "execution_count": 6
  },
  {
   "metadata": {},
   "cell_type": "markdown",
   "source": "",
   "id": "768ed0a18073ccce"
  },
  {
   "metadata": {},
   "cell_type": "code",
   "outputs": [],
   "execution_count": null,
   "source": "",
   "id": "cf434c5c17968334"
  }
 ],
 "metadata": {
  "kernelspec": {
   "display_name": "Python 3",
   "language": "python",
   "name": "python3"
  },
  "language_info": {
   "codemirror_mode": {
    "name": "ipython",
    "version": 2
   },
   "file_extension": ".py",
   "mimetype": "text/x-python",
   "name": "python",
   "nbconvert_exporter": "python",
   "pygments_lexer": "ipython2",
   "version": "2.7.6"
  }
 },
 "nbformat": 4,
 "nbformat_minor": 5
}
