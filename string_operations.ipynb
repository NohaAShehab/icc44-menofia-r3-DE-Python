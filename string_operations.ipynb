{
 "cells": [
  {
   "metadata": {},
   "cell_type": "raw",
   "source": [
    "\n",
    "String is immutable datatype\n",
    "1- to define a string "
   ],
   "id": "cbd60fa9f673266f"
  },
  {
   "cell_type": "code",
   "id": "initial_id",
   "metadata": {
    "collapsed": true,
    "ExecuteTime": {
     "end_time": "2024-06-06T07:13:38.431422Z",
     "start_time": "2024-06-06T07:13:38.419780Z"
    }
   },
   "source": [
    "name = 'noha'\n",
    "track = 'data engineering'\n",
    "iti = 'information technology institute'\n",
    "emptystr = ''\n"
   ],
   "outputs": [],
   "execution_count": 1
  },
  {
   "metadata": {},
   "cell_type": "markdown",
   "source": "1- get len of string ",
   "id": "629bfd85f9066e1d"
  },
  {
   "metadata": {
    "ExecuteTime": {
     "end_time": "2024-06-06T07:14:01.457362Z",
     "start_time": "2024-06-06T07:14:01.449597Z"
    }
   },
   "cell_type": "code",
   "source": "print(len(name), len(iti))",
   "id": "db6b4e95d69066e4",
   "outputs": [
    {
     "name": "stdout",
     "output_type": "stream",
     "text": [
      "4 32\n"
     ]
    }
   ],
   "execution_count": 2
  },
  {
   "metadata": {},
   "cell_type": "markdown",
   "source": "2- count char occurence in the string ? ",
   "id": "88cb7d989a67f428"
  },
  {
   "metadata": {
    "ExecuteTime": {
     "end_time": "2024-06-06T07:14:41.560417Z",
     "start_time": "2024-06-06T07:14:41.548916Z"
    }
   },
   "cell_type": "code",
   "source": "print(iti.count('i'))",
   "id": "b6475bd404128af7",
   "outputs": [
    {
     "name": "stdout",
     "output_type": "stream",
     "text": [
      "4\n"
     ]
    }
   ],
   "execution_count": 3
  },
  {
   "metadata": {},
   "cell_type": "markdown",
   "source": "check if char exists in string or not ?\n",
   "id": "3177709ea822f9d9"
  },
  {
   "metadata": {
    "ExecuteTime": {
     "end_time": "2024-06-06T07:15:51.774849Z",
     "start_time": "2024-06-06T07:15:51.770918Z"
    }
   },
   "cell_type": "code",
   "source": "print('n' in iti)",
   "id": "5394baec15114b16",
   "outputs": [
    {
     "name": "stdout",
     "output_type": "stream",
     "text": [
      "True\n"
     ]
    }
   ],
   "execution_count": 4
  },
  {
   "metadata": {},
   "cell_type": "raw",
   "source": [
    "access chars using index ??? start from zero >>> \n",
    "iti = 'information technology institute'"
   ],
   "id": "b269dae98908a91c"
  },
  {
   "metadata": {
    "ExecuteTime": {
     "end_time": "2024-06-06T07:17:06.835720Z",
     "start_time": "2024-06-06T07:17:06.830552Z"
    }
   },
   "cell_type": "code",
   "source": "print(iti[3])",
   "id": "e8e61a0f0131dbaf",
   "outputs": [
    {
     "name": "stdout",
     "output_type": "stream",
     "text": [
      "o\n"
     ]
    }
   ],
   "execution_count": 5
  },
  {
   "metadata": {},
   "cell_type": "markdown",
   "source": "slicing the string ",
   "id": "1b86e625bddad442"
  },
  {
   "metadata": {
    "ExecuteTime": {
     "end_time": "2024-06-06T07:17:24.145512Z",
     "start_time": "2024-06-06T07:17:24.141216Z"
    }
   },
   "cell_type": "code",
   "source": "print(iti[3:])",
   "id": "1af95c8930d3c22",
   "outputs": [
    {
     "name": "stdout",
     "output_type": "stream",
     "text": [
      "ormation technology institute\n"
     ]
    }
   ],
   "execution_count": 6
  },
  {
   "metadata": {
    "ExecuteTime": {
     "end_time": "2024-06-06T07:17:51.504211Z",
     "start_time": "2024-06-06T07:17:51.500795Z"
    }
   },
   "cell_type": "code",
   "source": "print(iti[4:7])  # exclude char at the index 7 ",
   "id": "86555fd7c8c0db72",
   "outputs": [
    {
     "name": "stdout",
     "output_type": "stream",
     "text": [
      "rma\n"
     ]
    }
   ],
   "execution_count": 7
  },
  {
   "metadata": {
    "ExecuteTime": {
     "end_time": "2024-06-06T07:18:48.516471Z",
     "start_time": "2024-06-06T07:18:48.512733Z"
    }
   },
   "cell_type": "code",
   "source": "print(iti[::])",
   "id": "e3a7cfd474ecf7af",
   "outputs": [
    {
     "name": "stdout",
     "output_type": "stream",
     "text": [
      "information technology institute\n"
     ]
    }
   ],
   "execution_count": 8
  },
  {
   "metadata": {
    "ExecuteTime": {
     "end_time": "2024-06-06T07:19:32.427658Z",
     "start_time": "2024-06-06T07:19:32.423643Z"
    }
   },
   "cell_type": "code",
   "source": "print(iti[::-1])",
   "id": "d522415d9d478112",
   "outputs": [
    {
     "name": "stdout",
     "output_type": "stream",
     "text": [
      "etutitsni ygolonhcet noitamrofni\n"
     ]
    }
   ],
   "execution_count": 9
  },
  {
   "metadata": {},
   "cell_type": "markdown",
   "source": "",
   "id": "a765934de21b1d"
  },
  {
   "metadata": {
    "ExecuteTime": {
     "end_time": "2024-06-06T08:20:25.252103Z",
     "start_time": "2024-06-06T08:20:25.245627Z"
    }
   },
   "cell_type": "code",
   "source": [
    "print(iti)\n",
    "print(iti[::2])\n",
    "print(iti)\n",
    "print(iti[::-2])"
   ],
   "id": "499cdcb42e2d615c",
   "outputs": [
    {
     "name": "stdout",
     "output_type": "stream",
     "text": [
      "information technology institute\n",
      "ifraintcnlg nttt\n",
      "information technology institute\n",
      "euisiyoohe otmon\n"
     ]
    }
   ],
   "execution_count": 73
  },
  {
   "metadata": {},
   "cell_type": "markdown",
   "source": "concat string ?",
   "id": "a71b17d01e3658dd"
  },
  {
   "metadata": {
    "ExecuteTime": {
     "end_time": "2024-06-06T07:21:46.445577Z",
     "start_time": "2024-06-06T07:21:46.442356Z"
    }
   },
   "cell_type": "code",
   "source": [
    "fname = 'noha'\n",
    "midname = 'abdelhady'\n",
    "lname = 'shehab'"
   ],
   "id": "de48a8a24bdee797",
   "outputs": [],
   "execution_count": 10
  },
  {
   "metadata": {
    "ExecuteTime": {
     "end_time": "2024-06-06T07:23:34.923994Z",
     "start_time": "2024-06-06T07:23:34.919746Z"
    }
   },
   "cell_type": "code",
   "source": [
    "fullname= fname + \" \"+midname +\" \"+ midname+ \" \" +lname\n",
    "print(fullname)"
   ],
   "id": "7f94d4b9e22b9438",
   "outputs": [
    {
     "name": "stdout",
     "output_type": "stream",
     "text": [
      "noha abdelhady abdelhady shehab\n"
     ]
    }
   ],
   "execution_count": 14
  },
  {
   "metadata": {},
   "cell_type": "markdown",
   "source": "string interpolation",
   "id": "c3a795bd98013e"
  },
  {
   "metadata": {
    "ExecuteTime": {
     "end_time": "2024-06-06T07:24:08.005958Z",
     "start_time": "2024-06-06T07:24:08.001179Z"
    }
   },
   "cell_type": "code",
   "source": [
    "fullname2= fname + midname*2 + lname\n",
    "print(fullname2)"
   ],
   "id": "a3b84d0d2f30d333",
   "outputs": [
    {
     "name": "stdout",
     "output_type": "stream",
     "text": [
      "nohaabdelhadyabdelhadyshehab\n"
     ]
    }
   ],
   "execution_count": 15
  },
  {
   "metadata": {},
   "cell_type": "markdown",
   "source": "check this example",
   "id": "20f1096c6329ba6a"
  },
  {
   "metadata": {
    "ExecuteTime": {
     "end_time": "2024-06-06T07:25:43.034475Z",
     "start_time": "2024-06-06T07:25:43.011151Z"
    }
   },
   "cell_type": "code",
   "source": [
    "no_of_students = 25\n",
    "coursename = 'python'\n",
    "msg = \"We have\" + no_of_students +'student' + \"in\" + coursename +\"course\"\n",
    "print(msg)"
   ],
   "id": "eac7c6c512881873",
   "outputs": [
    {
     "ename": "TypeError",
     "evalue": "can only concatenate str (not \"int\") to str",
     "output_type": "error",
     "traceback": [
      "\u001B[0;31m---------------------------------------------------------------------------\u001B[0m",
      "\u001B[0;31mTypeError\u001B[0m                                 Traceback (most recent call last)",
      "Cell \u001B[0;32mIn[16], line 3\u001B[0m\n\u001B[1;32m      1\u001B[0m no_of_students \u001B[38;5;241m=\u001B[39m \u001B[38;5;241m25\u001B[39m\n\u001B[1;32m      2\u001B[0m coursename \u001B[38;5;241m=\u001B[39m \u001B[38;5;124m'\u001B[39m\u001B[38;5;124mpython\u001B[39m\u001B[38;5;124m'\u001B[39m\n\u001B[0;32m----> 3\u001B[0m msg \u001B[38;5;241m=\u001B[39m \u001B[38;5;124;43m\"\u001B[39;49m\u001B[38;5;124;43mWe have\u001B[39;49m\u001B[38;5;124;43m\"\u001B[39;49m\u001B[43m \u001B[49m\u001B[38;5;241;43m+\u001B[39;49m\u001B[43m \u001B[49m\u001B[43mno_of_students\u001B[49m \u001B[38;5;241m+\u001B[39m\u001B[38;5;124m'\u001B[39m\u001B[38;5;124mstudent\u001B[39m\u001B[38;5;124m'\u001B[39m \u001B[38;5;241m+\u001B[39m \u001B[38;5;124m\"\u001B[39m\u001B[38;5;124min\u001B[39m\u001B[38;5;124m\"\u001B[39m \u001B[38;5;241m+\u001B[39m coursename \u001B[38;5;241m+\u001B[39m\u001B[38;5;124m\"\u001B[39m\u001B[38;5;124mcourse\u001B[39m\u001B[38;5;124m\"\u001B[39m\n\u001B[1;32m      4\u001B[0m \u001B[38;5;28mprint\u001B[39m(msg)\n",
      "\u001B[0;31mTypeError\u001B[0m: can only concatenate str (not \"int\") to str"
     ]
    }
   ],
   "execution_count": 16
  },
  {
   "metadata": {
    "ExecuteTime": {
     "end_time": "2024-06-06T07:26:53.623886Z",
     "start_time": "2024-06-06T07:26:53.618458Z"
    }
   },
   "cell_type": "code",
   "source": [
    "no_of_students = 25\n",
    "coursename = 'python'\n",
    "msg = \"We have \" + str(no_of_students) +' student ' + \"in \" + coursename +\" course\"\n",
    "print(msg)"
   ],
   "id": "700fbfa4c999839a",
   "outputs": [
    {
     "name": "stdout",
     "output_type": "stream",
     "text": [
      "We have 25 student in python course\n"
     ]
    }
   ],
   "execution_count": 19
  },
  {
   "metadata": {},
   "cell_type": "markdown",
   "source": "Formatting string ",
   "id": "fc085f77ca5996ee"
  },
  {
   "metadata": {
    "ExecuteTime": {
     "end_time": "2024-06-06T07:28:04.257603Z",
     "start_time": "2024-06-06T07:28:04.254144Z"
    }
   },
   "cell_type": "code",
   "source": [
    "mystr= 'We have {0} student in {1} course'\n",
    "print(mystr)\n"
   ],
   "id": "62d4c5806621eb9a",
   "outputs": [
    {
     "name": "stdout",
     "output_type": "stream",
     "text": [
      "We have {0} student in {1} course\n"
     ]
    }
   ],
   "execution_count": 20
  },
  {
   "metadata": {},
   "cell_type": "markdown",
   "source": "use template with format function",
   "id": "3b42ad1fe8255225"
  },
  {
   "metadata": {
    "ExecuteTime": {
     "end_time": "2024-06-06T07:28:54.148587Z",
     "start_time": "2024-06-06T07:28:54.145548Z"
    }
   },
   "cell_type": "code",
   "source": [
    "res = mystr.format(no_of_students,coursename) # format return with new string \n",
    "print(res)"
   ],
   "id": "fd73958c04429594",
   "outputs": [
    {
     "name": "stdout",
     "output_type": "stream",
     "text": [
      "We have 25 student in python course\n"
     ]
    }
   ],
   "execution_count": 21
  },
  {
   "metadata": {
    "ExecuteTime": {
     "end_time": "2024-06-06T07:30:03.915798Z",
     "start_time": "2024-06-06T07:30:03.910937Z"
    }
   },
   "cell_type": "code",
   "source": "print(mystr.format(\"test\",\"fjks\"))",
   "id": "93ac5a4a84c3d56",
   "outputs": [
    {
     "name": "stdout",
     "output_type": "stream",
     "text": [
      "We have test student in fjks course\n"
     ]
    }
   ],
   "execution_count": 22
  },
  {
   "metadata": {
    "ExecuteTime": {
     "end_time": "2024-06-06T07:30:45.809057Z",
     "start_time": "2024-06-06T07:30:45.805788Z"
    }
   },
   "cell_type": "code",
   "source": "print(mystr.format(coursename, no_of_students))",
   "id": "b3b0affdef9e0418",
   "outputs": [
    {
     "name": "stdout",
     "output_type": "stream",
     "text": [
      "We have python student in 25 course\n"
     ]
    }
   ],
   "execution_count": 23
  },
  {
   "metadata": {},
   "cell_type": "markdown",
   "source": "define string template using keyword",
   "id": "c36296e31277a4a7"
  },
  {
   "metadata": {
    "ExecuteTime": {
     "end_time": "2024-06-06T07:32:12.118342Z",
     "start_time": "2024-06-06T07:32:12.111980Z"
    }
   },
   "cell_type": "code",
   "source": [
    "newstring = 'we have {stdnums} student in {crsname} course'\n",
    "print(newstring)"
   ],
   "id": "165b9d71b9420e8b",
   "outputs": [
    {
     "name": "stdout",
     "output_type": "stream",
     "text": [
      "we have {stdnums} student in {crsname} course\n"
     ]
    }
   ],
   "execution_count": 25
  },
  {
   "metadata": {
    "ExecuteTime": {
     "end_time": "2024-06-06T07:32:41.080185Z",
     "start_time": "2024-06-06T07:32:41.076789Z"
    }
   },
   "cell_type": "code",
   "source": "print(newstring.format(crsname=coursename, stdnums=no_of_students))",
   "id": "cdb2435ecec15df7",
   "outputs": [
    {
     "name": "stdout",
     "output_type": "stream",
     "text": [
      "we have 25 student in python course\n"
     ]
    }
   ],
   "execution_count": 26
  },
  {
   "metadata": {},
   "cell_type": "markdown",
   "source": [
    "format string using f-format option?\n",
    "format string dependant on existing variables"
   ],
   "id": "d13a16c907be79bb"
  },
  {
   "metadata": {},
   "cell_type": "markdown",
   "source": "",
   "id": "3bd4f192030c4059"
  },
  {
   "metadata": {
    "ExecuteTime": {
     "end_time": "2024-06-06T07:35:19.936019Z",
     "start_time": "2024-06-06T07:35:19.932154Z"
    }
   },
   "cell_type": "code",
   "source": [
    "mystr3 = f'we have {no_of_students} students in {coursename} course'\n",
    "print(mystr3)"
   ],
   "id": "d9097b15b446ceb6",
   "outputs": [
    {
     "name": "stdout",
     "output_type": "stream",
     "text": [
      "we have 25 students in python course\n"
     ]
    }
   ],
   "execution_count": 27
  },
  {
   "metadata": {
    "ExecuteTime": {
     "end_time": "2024-06-06T07:36:37.900593Z",
     "start_time": "2024-06-06T07:36:37.880482Z"
    }
   },
   "cell_type": "code",
   "source": "bio = f'My name is {myname}'",
   "id": "93e23d35da4ed44d",
   "outputs": [
    {
     "ename": "NameError",
     "evalue": "name 'myname' is not defined",
     "output_type": "error",
     "traceback": [
      "\u001B[0;31m---------------------------------------------------------------------------\u001B[0m",
      "\u001B[0;31mNameError\u001B[0m                                 Traceback (most recent call last)",
      "Cell \u001B[0;32mIn[28], line 1\u001B[0m\n\u001B[0;32m----> 1\u001B[0m bio \u001B[38;5;241m=\u001B[39m \u001B[38;5;124mf\u001B[39m\u001B[38;5;124m'\u001B[39m\u001B[38;5;124mMy name is \u001B[39m\u001B[38;5;132;01m{\u001B[39;00m\u001B[43mmyname\u001B[49m\u001B[38;5;132;01m}\u001B[39;00m\u001B[38;5;124m'\u001B[39m\n",
      "\u001B[0;31mNameError\u001B[0m: name 'myname' is not defined"
     ]
    }
   ],
   "execution_count": 28
  },
  {
   "metadata": {
    "ExecuteTime": {
     "end_time": "2024-06-06T07:37:55.272951Z",
     "start_time": "2024-06-06T07:37:55.269145Z"
    }
   },
   "cell_type": "code",
   "source": [
    "myname = 'noha'\n",
    "bio = f'My name is {myname}'\n",
    "print(bio)"
   ],
   "id": "595a4fd80009ac29",
   "outputs": [
    {
     "name": "stdout",
     "output_type": "stream",
     "text": [
      "My name is noha\n"
     ]
    }
   ],
   "execution_count": 29
  },
  {
   "metadata": {
    "ExecuteTime": {
     "end_time": "2024-06-06T07:38:08.110962Z",
     "start_time": "2024-06-06T07:38:08.107232Z"
    }
   },
   "cell_type": "code",
   "source": [
    "myname ='ahmed'\n",
    "print(bio)"
   ],
   "id": "66fb4b8549813354",
   "outputs": [
    {
     "name": "stdout",
     "output_type": "stream",
     "text": [
      "My name is noha\n"
     ]
    }
   ],
   "execution_count": 30
  },
  {
   "metadata": {
    "ExecuteTime": {
     "end_time": "2024-06-06T07:39:38.155583Z",
     "start_time": "2024-06-06T07:39:38.152462Z"
    }
   },
   "cell_type": "code",
   "source": "print(myname)",
   "id": "51ba1bde7b749522",
   "outputs": [
    {
     "name": "stdout",
     "output_type": "stream",
     "text": [
      "ahmed\n"
     ]
    }
   ],
   "execution_count": 31
  },
  {
   "metadata": {},
   "cell_type": "raw",
   "source": "play with string ",
   "id": "af5feb2819fded7b"
  },
  {
   "metadata": {},
   "cell_type": "markdown",
   "source": "convert string to upper / lower cases ",
   "id": "cb9eb54b2eb34b96"
  },
  {
   "metadata": {
    "ExecuteTime": {
     "end_time": "2024-06-06T07:43:26.076422Z",
     "start_time": "2024-06-06T07:43:26.073191Z"
    }
   },
   "cell_type": "code",
   "source": [
    "name = 'noha shehab'\n",
    "print(name.upper()) # return new string"
   ],
   "id": "28a4ddec2a4bbd4c",
   "outputs": [
    {
     "name": "stdout",
     "output_type": "stream",
     "text": [
      "NOHA SHEHAB\n"
     ]
    }
   ],
   "execution_count": 32
  },
  {
   "metadata": {
    "ExecuteTime": {
     "end_time": "2024-06-06T07:43:39.122586Z",
     "start_time": "2024-06-06T07:43:39.118923Z"
    }
   },
   "cell_type": "code",
   "source": "print(name.lower())",
   "id": "a8be4f3a86dd25",
   "outputs": [
    {
     "name": "stdout",
     "output_type": "stream",
     "text": [
      "noha shehab\n"
     ]
    }
   ],
   "execution_count": 33
  },
  {
   "metadata": {
    "ExecuteTime": {
     "end_time": "2024-06-06T07:43:43.373368Z",
     "start_time": "2024-06-06T07:43:43.369478Z"
    }
   },
   "cell_type": "code",
   "source": "print(name.capitalize())",
   "id": "afa6ea357cf2b12f",
   "outputs": [
    {
     "name": "stdout",
     "output_type": "stream",
     "text": [
      "Noha shehab\n"
     ]
    }
   ],
   "execution_count": 34
  },
  {
   "metadata": {
    "ExecuteTime": {
     "end_time": "2024-06-06T07:44:16.717344Z",
     "start_time": "2024-06-06T07:44:16.713422Z"
    }
   },
   "cell_type": "code",
   "source": "print(name.title())",
   "id": "f8168018443e793e",
   "outputs": [
    {
     "name": "stdout",
     "output_type": "stream",
     "text": [
      "Noha Shehab\n"
     ]
    }
   ],
   "execution_count": 35
  },
  {
   "metadata": {},
   "cell_type": "markdown",
   "source": "loop over the string ",
   "id": "160f2e4994521856"
  },
  {
   "metadata": {
    "ExecuteTime": {
     "end_time": "2024-06-06T07:46:59.155611Z",
     "start_time": "2024-06-06T07:46:59.152305Z"
    }
   },
   "cell_type": "code",
   "source": [
    "for abbass in name:\n",
    "    print(f\"abbass ={abbass}\")"
   ],
   "id": "1429067d8718b857",
   "outputs": [
    {
     "name": "stdout",
     "output_type": "stream",
     "text": [
      "abbass =n\n",
      "abbass =o\n",
      "abbass =h\n",
      "abbass =a\n",
      "abbass = \n",
      "abbass =s\n",
      "abbass =h\n",
      "abbass =e\n",
      "abbass =h\n",
      "abbass =a\n",
      "abbass =b\n"
     ]
    }
   ],
   "execution_count": 36
  },
  {
   "metadata": {},
   "cell_type": "markdown",
   "source": "ask user to enter value",
   "id": "b81c40c3dbc5721a"
  },
  {
   "metadata": {
    "ExecuteTime": {
     "end_time": "2024-06-06T07:48:23.904090Z",
     "start_time": "2024-06-06T07:48:22.874258Z"
    }
   },
   "cell_type": "code",
   "source": [
    "numm =input('Enter a number: ')  # input always returns withs strint\n",
    "print(numm, type(numm))"
   ],
   "id": "91c6a6d0d3353b62",
   "outputs": [
    {
     "name": "stdout",
     "output_type": "stream",
     "text": [
      "199 <class 'str'>\n"
     ]
    }
   ],
   "execution_count": 39
  },
  {
   "metadata": {
    "ExecuteTime": {
     "end_time": "2024-06-06T07:49:03.676440Z",
     "start_time": "2024-06-06T07:49:01.169440Z"
    }
   },
   "cell_type": "code",
   "source": [
    "num1 = int(input('Enter a number: '))\n",
    "print(num1, type(num1))"
   ],
   "id": "59aa6af6116515dd",
   "outputs": [
    {
     "ename": "ValueError",
     "evalue": "invalid literal for int() with base 10: '10 10'",
     "output_type": "error",
     "traceback": [
      "\u001B[0;31m---------------------------------------------------------------------------\u001B[0m",
      "\u001B[0;31mValueError\u001B[0m                                Traceback (most recent call last)",
      "Cell \u001B[0;32mIn[41], line 1\u001B[0m\n\u001B[0;32m----> 1\u001B[0m num1 \u001B[38;5;241m=\u001B[39m \u001B[38;5;28;43mint\u001B[39;49m\u001B[43m(\u001B[49m\u001B[38;5;28;43minput\u001B[39;49m\u001B[43m(\u001B[49m\u001B[38;5;124;43m'\u001B[39;49m\u001B[38;5;124;43mEnter a number: \u001B[39;49m\u001B[38;5;124;43m'\u001B[39;49m\u001B[43m)\u001B[49m\u001B[43m)\u001B[49m\n\u001B[1;32m      2\u001B[0m \u001B[38;5;28mprint\u001B[39m(num1, \u001B[38;5;28mtype\u001B[39m(num1))\n",
      "\u001B[0;31mValueError\u001B[0m: invalid literal for int() with base 10: '10 10'"
     ]
    }
   ],
   "execution_count": 41
  },
  {
   "metadata": {},
   "cell_type": "markdown",
   "source": "check string status",
   "id": "c347dcc47963d50b"
  },
  {
   "metadata": {
    "ExecuteTime": {
     "end_time": "2024-06-06T07:54:41.438727Z",
     "start_time": "2024-06-06T07:54:38.414698Z"
    }
   },
   "cell_type": "code",
   "source": [
    "mymessage=  input(\"please leave your message\")\n",
    "print(mymessage, type(mymessage))\n",
    "\n",
    "print(f\"isdigit {mymessage.isdigit()}\") # return True id string consists only from numbers 1-9\n",
    "print(f\"isalpha {mymessage.isalpha()}\") # return true if string consists only from alphas a-z\n",
    "print(f\"isspace {mymessage.isspace()}\")\n",
    "print(f\"islower {mymessage.islower()}\")\n",
    "print(f\"istitle {mymessage.istitle()}\")"
   ],
   "id": "c708b6fc796504c",
   "outputs": [
    {
     "name": "stdout",
     "output_type": "stream",
     "text": [
      "noha shehab <class 'str'>\n",
      "isdigit False\n",
      "isalpha False\n",
      "isspace False\n",
      "islower True\n",
      "istitle False\n"
     ]
    }
   ],
   "execution_count": 42
  },
  {
   "metadata": {},
   "cell_type": "markdown",
   "source": "example",
   "id": "f1356b800aad9f23"
  },
  {
   "metadata": {
    "ExecuteTime": {
     "end_time": "2024-06-06T07:59:04.798175Z",
     "start_time": "2024-06-06T07:59:02.835462Z"
    }
   },
   "cell_type": "code",
   "source": [
    "salary  =  input(\"please enter your salary\")\n",
    "if salary.isdigit():\n",
    "    salary =  int(salary)\n",
    "    print(salary, type(salary))\n",
    "else:\n",
    "    print(\"cannot convert this string to int \")\n",
    "    "
   ],
   "id": "f3de16445e1ec17",
   "outputs": [
    {
     "name": "stdout",
     "output_type": "stream",
     "text": [
      "cannot convert this string to int \n"
     ]
    }
   ],
   "execution_count": 46
  },
  {
   "metadata": {
    "ExecuteTime": {
     "end_time": "2024-06-06T07:59:35.346593Z",
     "start_time": "2024-06-06T07:59:34.092683Z"
    }
   },
   "cell_type": "code",
   "source": "num =int(input(\"dsjkhdfjkhf\")) ",
   "id": "e4d0305bb052182c",
   "outputs": [
    {
     "ename": "ValueError",
     "evalue": "invalid literal for int() with base 10: 'rkwkejhr'",
     "output_type": "error",
     "traceback": [
      "\u001B[0;31m---------------------------------------------------------------------------\u001B[0m",
      "\u001B[0;31mValueError\u001B[0m                                Traceback (most recent call last)",
      "Cell \u001B[0;32mIn[47], line 1\u001B[0m\n\u001B[0;32m----> 1\u001B[0m num \u001B[38;5;241m=\u001B[39m\u001B[38;5;28;43mint\u001B[39;49m\u001B[43m(\u001B[49m\u001B[38;5;28;43minput\u001B[39;49m\u001B[43m(\u001B[49m\u001B[38;5;124;43m\"\u001B[39;49m\u001B[38;5;124;43mdsjkhdfjkhf\u001B[39;49m\u001B[38;5;124;43m\"\u001B[39;49m\u001B[43m)\u001B[49m\u001B[43m)\u001B[49m \n",
      "\u001B[0;31mValueError\u001B[0m: invalid literal for int() with base 10: 'rkwkejhr'"
     ]
    }
   ],
   "execution_count": 47
  },
  {
   "metadata": {},
   "cell_type": "markdown",
   "source": "",
   "id": "9729798011bc9e80"
  },
  {
   "metadata": {
    "ExecuteTime": {
     "end_time": "2024-06-06T08:02:39.635424Z",
     "start_time": "2024-06-06T08:02:34.389328Z"
    }
   },
   "cell_type": "code",
   "source": [
    "message = input(\"---- Please enter message -----\")\n",
    "print(message.isspace())"
   ],
   "id": "1032ab2cfaab81fb",
   "outputs": [
    {
     "name": "stdout",
     "output_type": "stream",
     "text": [
      "False\n"
     ]
    }
   ],
   "execution_count": 50
  },
  {
   "metadata": {},
   "cell_type": "markdown",
   "source": "replace string parts ",
   "id": "37bc50ad9bad69e6"
  },
  {
   "metadata": {
    "ExecuteTime": {
     "end_time": "2024-06-06T08:05:04.248600Z",
     "start_time": "2024-06-06T08:05:04.244639Z"
    }
   },
   "cell_type": "code",
   "source": "print(track)",
   "id": "91647c7fc77c8f1",
   "outputs": [
    {
     "name": "stdout",
     "output_type": "stream",
     "text": [
      "data engineering\n"
     ]
    }
   ],
   "execution_count": 51
  },
  {
   "metadata": {
    "ExecuteTime": {
     "end_time": "2024-06-06T08:07:08.899270Z",
     "start_time": "2024-06-06T08:07:08.894753Z"
    }
   },
   "cell_type": "code",
   "source": [
    "track  = \"data engineering  a  a a a a\"\n",
    "newtrack  =track.replace('a', '@')  # return new string\n",
    "print(newtrack)"
   ],
   "id": "da95935fee867a5d",
   "outputs": [
    {
     "name": "stdout",
     "output_type": "stream",
     "text": [
      "d@t@ engineering  @  @ @ @ @\n"
     ]
    }
   ],
   "execution_count": 54
  },
  {
   "metadata": {
    "ExecuteTime": {
     "end_time": "2024-06-06T08:06:04.526511Z",
     "start_time": "2024-06-06T08:06:04.523325Z"
    }
   },
   "cell_type": "code",
   "source": "print(track)",
   "id": "ff4c3842ffb0fe8c",
   "outputs": [
    {
     "name": "stdout",
     "output_type": "stream",
     "text": [
      "data engineering\n"
     ]
    }
   ],
   "execution_count": 53
  },
  {
   "metadata": {
    "ExecuteTime": {
     "end_time": "2024-06-06T08:17:54.614082Z",
     "start_time": "2024-06-06T08:17:54.606980Z"
    }
   },
   "cell_type": "code",
   "source": [
    "newtrack  =track.replace('a', '@', 3)  # return new string\n",
    "print(newtrack)"
   ],
   "id": "b31a275e40e80840",
   "outputs": [
    {
     "name": "stdout",
     "output_type": "stream",
     "text": [
      "d@t@ engineering  @  a a a a\n"
     ]
    }
   ],
   "execution_count": 67
  },
  {
   "metadata": {},
   "cell_type": "markdown",
   "source": "strip string",
   "id": "9c8caa9aa884baf5"
  },
  {
   "metadata": {
    "ExecuteTime": {
     "end_time": "2024-06-06T08:09:59.955005Z",
     "start_time": "2024-06-06T08:09:59.951797Z"
    }
   },
   "cell_type": "code",
   "source": [
    "msg = '           we love python very my much                   '\n",
    "print(msg, len(msg))"
   ],
   "id": "393dfdbadad490be",
   "outputs": [
    {
     "name": "stdout",
     "output_type": "stream",
     "text": [
      "           we love python very my much                    57\n"
     ]
    }
   ],
   "execution_count": 56
  },
  {
   "metadata": {},
   "cell_type": "markdown",
   "source": "strip white spaces ",
   "id": "62e8147a0ba6e635"
  },
  {
   "metadata": {
    "ExecuteTime": {
     "end_time": "2024-06-06T08:11:00.426075Z",
     "start_time": "2024-06-06T08:11:00.423014Z"
    }
   },
   "cell_type": "code",
   "source": [
    "stripped_Str = msg.strip() #strip spaces from the beginning and the end of the string \n",
    "print(stripped_Str, len(stripped_Str))"
   ],
   "id": "7a189ed94e670eca",
   "outputs": [
    {
     "name": "stdout",
     "output_type": "stream",
     "text": [
      "we love python very my much 27\n"
     ]
    }
   ],
   "execution_count": 57
  },
  {
   "metadata": {
    "ExecuteTime": {
     "end_time": "2024-06-06T08:11:44.681001Z",
     "start_time": "2024-06-06T08:11:44.677458Z"
    }
   },
   "cell_type": "code",
   "source": [
    "stripped_Str = msg.lstrip() #strip spaces from the beginning  of the string \n",
    "print(stripped_Str, len(stripped_Str))"
   ],
   "id": "7e4ea0c8b2645a65",
   "outputs": [
    {
     "name": "stdout",
     "output_type": "stream",
     "text": [
      "we love python very my much                    46\n"
     ]
    }
   ],
   "execution_count": 58
  },
  {
   "metadata": {
    "ExecuteTime": {
     "end_time": "2024-06-06T08:11:57.220375Z",
     "start_time": "2024-06-06T08:11:57.216530Z"
    }
   },
   "cell_type": "code",
   "source": [
    "stripped_Str = msg.rstrip() #strip spaces from the end  of the string \n",
    "print(stripped_Str, len(stripped_Str))"
   ],
   "id": "ea75395d053661be",
   "outputs": [
    {
     "name": "stdout",
     "output_type": "stream",
     "text": [
      "           we love python very my much 38\n"
     ]
    }
   ],
   "execution_count": 59
  },
  {
   "metadata": {},
   "cell_type": "markdown",
   "source": "strip these chars ?",
   "id": "1d313dc2184c4783"
  },
  {
   "metadata": {
    "ExecuteTime": {
     "end_time": "2024-06-06T08:16:34.826723Z",
     "start_time": "2024-06-06T08:16:34.823493Z"
    }
   },
   "cell_type": "code",
   "source": [
    "message = '& #@we support ghaza &'\n",
    "print(message.strip('a #@$z'))"
   ],
   "id": "8a512fc3c7aa5674",
   "outputs": [
    {
     "name": "stdout",
     "output_type": "stream",
     "text": [
      "& #@we support ghaza &\n"
     ]
    }
   ],
   "execution_count": 64
  },
  {
   "metadata": {
    "ExecuteTime": {
     "end_time": "2024-06-06T08:17:15.983139Z",
     "start_time": "2024-06-06T08:17:15.979225Z"
    }
   },
   "cell_type": "code",
   "source": "print(message.lstrip('&a #@$z'))\n",
   "id": "e885c21d97199994",
   "outputs": [
    {
     "name": "stdout",
     "output_type": "stream",
     "text": [
      "we support ghaza &\n"
     ]
    }
   ],
   "execution_count": 65
  },
  {
   "metadata": {},
   "cell_type": "raw",
   "source": "Numbers",
   "id": "3af770ee52cc950e"
  },
  {
   "metadata": {},
   "cell_type": "markdown",
   "source": "get index of char ",
   "id": "d1849170963d4fbc"
  },
  {
   "metadata": {
    "ExecuteTime": {
     "end_time": "2024-06-06T08:24:05.133307Z",
     "start_time": "2024-06-06T08:24:05.130067Z"
    }
   },
   "cell_type": "code",
   "source": [
    "print(iti)\n",
    "print(iti.index('i'))\n",
    "\n",
    "\n",
    "        "
   ],
   "id": "14e8df9346a1a146",
   "outputs": [
    {
     "name": "stdout",
     "output_type": "stream",
     "text": [
      "information technology institute\n",
      "0\n"
     ]
    }
   ],
   "execution_count": 76
  },
  {
   "metadata": {
    "ExecuteTime": {
     "end_time": "2024-06-06T08:25:55.504640Z",
     "start_time": "2024-06-06T08:25:55.500315Z"
    }
   },
   "cell_type": "code",
   "source": [
    "counter = 0\n",
    "for char in iti:\n",
    "    # print(f\"char,{char}, {counter}\")\n",
    "    if char=='i':\n",
    "        print(counter)\n",
    "    counter +=1\n",
    "   "
   ],
   "id": "a5b88a2afd53f5c",
   "outputs": [
    {
     "name": "stdout",
     "output_type": "stream",
     "text": [
      "0\n",
      "8\n",
      "23\n",
      "27\n"
     ]
    }
   ],
   "execution_count": 78
  },
  {
   "metadata": {
    "ExecuteTime": {
     "end_time": "2024-06-06T08:22:02.875650Z",
     "start_time": "2024-06-06T08:22:02.869694Z"
    }
   },
   "cell_type": "code",
   "source": [
    "num = 4+5j \n",
    "print(num, type(num))"
   ],
   "id": "b210454a98660406",
   "outputs": [
    {
     "name": "stdout",
     "output_type": "stream",
     "text": [
      "(4+5j) <class 'complex'>\n"
     ]
    }
   ],
   "execution_count": 74
  },
  {
   "metadata": {},
   "cell_type": "code",
   "outputs": [],
   "execution_count": null,
   "source": "",
   "id": "cd37bf3e86263a96"
  }
 ],
 "metadata": {
  "kernelspec": {
   "display_name": "Python 3",
   "language": "python",
   "name": "python3"
  },
  "language_info": {
   "codemirror_mode": {
    "name": "ipython",
    "version": 2
   },
   "file_extension": ".py",
   "mimetype": "text/x-python",
   "name": "python",
   "nbconvert_exporter": "python",
   "pygments_lexer": "ipython2",
   "version": "2.7.6"
  }
 },
 "nbformat": 4,
 "nbformat_minor": 5
}
