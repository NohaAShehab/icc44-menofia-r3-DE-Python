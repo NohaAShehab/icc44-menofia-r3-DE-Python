{
 "cells": [
  {
   "metadata": {},
   "cell_type": "markdown",
   "source": "# dealing with libraries / builtin / external  in python",
   "id": "41f4d397b5ddd251"
  },
  {
   "cell_type": "code",
   "id": "initial_id",
   "metadata": {
    "collapsed": true,
    "ExecuteTime": {
     "end_time": "2024-06-09T06:31:10.287462Z",
     "start_time": "2024-06-09T06:31:10.271767Z"
    }
   },
   "source": [
    "import math\n",
    "print(math.factorial(5))"
   ],
   "outputs": [
    {
     "name": "stdout",
     "output_type": "stream",
     "text": [
      "120\n"
     ]
    }
   ],
   "execution_count": 1
  },
  {
   "metadata": {
    "ExecuteTime": {
     "end_time": "2024-06-09T06:31:21.591084Z",
     "start_time": "2024-06-09T06:31:21.584092Z"
    }
   },
   "cell_type": "code",
   "source": "print(math.pi)",
   "id": "144e3f823704cd34",
   "outputs": [
    {
     "name": "stdout",
     "output_type": "stream",
     "text": [
      "3.141592653589793\n"
     ]
    }
   ],
   "execution_count": 2
  },
  {
   "metadata": {
    "ExecuteTime": {
     "end_time": "2024-06-09T06:31:43.095229Z",
     "start_time": "2024-06-09T06:31:43.088126Z"
    }
   },
   "cell_type": "code",
   "source": "print(math.ceil(3.14))",
   "id": "d7fbdbefdc5312a1",
   "outputs": [
    {
     "name": "stdout",
     "output_type": "stream",
     "text": [
      "4\n"
     ]
    }
   ],
   "execution_count": 3
  },
  {
   "metadata": {},
   "cell_type": "markdown",
   "source": "# time module",
   "id": "fad9f683409da43b"
  },
  {
   "metadata": {
    "ExecuteTime": {
     "end_time": "2024-06-09T06:32:31.409242Z",
     "start_time": "2024-06-09T06:32:31.403831Z"
    }
   },
   "cell_type": "code",
   "source": [
    "import time \n",
    "print(time.time()) # current timestamp "
   ],
   "id": "408effe6b2ab23e8",
   "outputs": [
    {
     "name": "stdout",
     "output_type": "stream",
     "text": [
      "1717914751.405726\n"
     ]
    }
   ],
   "execution_count": 4
  },
  {
   "metadata": {
    "ExecuteTime": {
     "end_time": "2024-06-09T06:38:42.918453Z",
     "start_time": "2024-06-09T06:38:42.913119Z"
    }
   },
   "cell_type": "code",
   "source": [
    "def generate_random_id():\n",
    "    id = round(time.time())\n",
    "    return id "
   ],
   "id": "6b4616a849e0ddaa",
   "outputs": [],
   "execution_count": 5
  },
  {
   "metadata": {
    "ExecuteTime": {
     "end_time": "2024-06-09T06:38:58.565954Z",
     "start_time": "2024-06-09T06:38:58.560899Z"
    }
   },
   "cell_type": "code",
   "source": [
    "id = generate_random_id()\n",
    "print(id)"
   ],
   "id": "23c47024a388070e",
   "outputs": [
    {
     "name": "stdout",
     "output_type": "stream",
     "text": [
      "1717915139\n"
     ]
    }
   ],
   "execution_count": 11
  },
  {
   "metadata": {},
   "cell_type": "markdown",
   "source": "# Data time ",
   "id": "87089c858c1ada97"
  },
  {
   "metadata": {
    "ExecuteTime": {
     "end_time": "2024-06-09T06:45:30.076654Z",
     "start_time": "2024-06-09T06:45:30.070758Z"
    }
   },
   "cell_type": "code",
   "source": [
    "import datetime\n",
    "# get current data\n",
    "current_time = datetime.datetime.now()\n",
    "print(current_time)"
   ],
   "id": "43429480e401e994",
   "outputs": [
    {
     "name": "stdout",
     "output_type": "stream",
     "text": [
      "2024-06-09 09:45:30.072892\n"
     ]
    }
   ],
   "execution_count": 13
  },
  {
   "metadata": {
    "ExecuteTime": {
     "end_time": "2024-06-09T06:45:46.143674Z",
     "start_time": "2024-06-09T06:45:46.136956Z"
    }
   },
   "cell_type": "code",
   "source": [
    "current_day = datetime.date.today()\n",
    "print(current_day)"
   ],
   "id": "a76f055d01bfec6d",
   "outputs": [
    {
     "name": "stdout",
     "output_type": "stream",
     "text": [
      "2024-06-09\n"
     ]
    }
   ],
   "execution_count": 14
  },
  {
   "metadata": {
    "ExecuteTime": {
     "end_time": "2024-06-09T06:46:36.864903Z",
     "start_time": "2024-06-09T06:46:36.859040Z"
    }
   },
   "cell_type": "code",
   "source": [
    "# format data object \n",
    "d = datetime.date(2024,12,25)\n",
    "print(d, type(d))"
   ],
   "id": "bbbfa68dc2e1b9da",
   "outputs": [
    {
     "name": "stdout",
     "output_type": "stream",
     "text": [
      "2024-12-25 <class 'datetime.date'>\n"
     ]
    }
   ],
   "execution_count": 16
  },
  {
   "metadata": {
    "ExecuteTime": {
     "end_time": "2024-06-09T06:52:15.580650Z",
     "start_time": "2024-06-09T06:52:03.903051Z"
    }
   },
   "cell_type": "code",
   "source": [
    "datee = input('please enter start date YYYY-MM-DD')\n",
    "try:\n",
    "    valid = datetime.date.fromisoformat(datee)\n",
    "    print(valid, 'valid date')\n",
    "except Exception as e:\n",
    "    print(e)"
   ],
   "id": "34b1dde05712b03e",
   "outputs": [
    {
     "name": "stdout",
     "output_type": "stream",
     "text": [
      "day is out of range for month\n"
     ]
    }
   ],
   "execution_count": 23
  },
  {
   "metadata": {},
   "cell_type": "markdown",
   "source": "# regular expressions",
   "id": "226b0bc72bd39993"
  },
  {
   "metadata": {
    "ExecuteTime": {
     "end_time": "2024-06-09T06:55:20.736606Z",
     "start_time": "2024-06-09T06:55:17.523443Z"
    }
   },
   "cell_type": "code",
   "source": [
    "import re \n",
    "email = input('please enter your email address')\n",
    "# check if email valid or not \n",
    "pattern = r'\\b[A-Za-z0-9._%+-]+@[A-Za-z0-9.-]+\\.[A-Z|a-z]{2,7}\\b'\n",
    "valid=re.match(pattern, email)\n",
    "print(valid)\n",
    "if valid:\n",
    "    print(\"Email is valid\")\n",
    "else:\n",
    "    print(\"----Not valid Email\")"
   ],
   "id": "fc14838c83fb9283",
   "outputs": [
    {
     "name": "stdout",
     "output_type": "stream",
     "text": [
      "<re.Match object; span=(0, 14), match='noha@gmail.com'>\n",
      "Email is valid\n"
     ]
    }
   ],
   "execution_count": 27
  },
  {
   "metadata": {
    "ExecuteTime": {
     "end_time": "2024-06-09T06:59:25.179378Z",
     "start_time": "2024-06-09T06:59:18.929592Z"
    }
   },
   "cell_type": "code",
   "source": [
    "email = input('please enter your email address')\n",
    "# check if email valid or not \n",
    "pattern = r'\\b[A-Za-z0-9._%+-]+@[A-Za-z0-9.-]+\\.[A-Z|a-z]{2,7}\\b'\n",
    "valid=re.match(pattern, email)\n",
    "print(valid)\n",
    "print(email)\n",
    "if valid:\n",
    "    print(\"Email is valid\")\n",
    "else:\n",
    "    print(\"----Not valid Email\")"
   ],
   "id": "e06028174bdd3052",
   "outputs": [
    {
     "name": "stdout",
     "output_type": "stream",
     "text": [
      "<re.Match object; span=(0, 14), match='noha@gmail.com'>\n",
      "noha@gmail.com@iti.com\n",
      "Email is valid\n"
     ]
    }
   ],
   "execution_count": 29
  },
  {
   "metadata": {},
   "cell_type": "markdown",
   "source": [
    "# match function \n",
    "match function return  match object if the first part of the string matches patten "
   ],
   "id": "d160e2bbdf2d6b27"
  },
  {
   "metadata": {},
   "cell_type": "markdown",
   "source": [
    "# fullmatch \n",
    "this function will solve the problem "
   ],
   "id": "c5154b30590dbea5"
  },
  {
   "metadata": {
    "ExecuteTime": {
     "end_time": "2024-06-09T07:01:31.851692Z",
     "start_time": "2024-06-09T07:01:21.929225Z"
    }
   },
   "cell_type": "code",
   "source": [
    "email = input('please enter your email address')\n",
    "# check if email valid or not \n",
    "pattern = r'\\b[A-Za-z0-9._%+-]+@[A-Za-z0-9.-]+\\.[A-Z|a-z]{2,7}\\b'\n",
    "valid=re.fullmatch(pattern, email)\n",
    "print(valid)\n",
    "print(email)\n",
    "if valid:\n",
    "    print(\"Email is valid\")\n",
    "else:\n",
    "    print(\"----Not valid Email\")"
   ],
   "id": "c76d27dbbde3ffde",
   "outputs": [
    {
     "name": "stdout",
     "output_type": "stream",
     "text": [
      "None\n",
      "noha@gmail.com@iti.com@ndf\n",
      "----Not valid Email\n"
     ]
    }
   ],
   "execution_count": 32
  },
  {
   "metadata": {},
   "cell_type": "markdown",
   "source": "# Dealing with JSON",
   "id": "9a5bf77a8be19156"
  },
  {
   "metadata": {},
   "cell_type": "markdown",
   "source": "1- convert dict // list to json ",
   "id": "a1d4c69d99eb2bce"
  },
  {
   "metadata": {
    "ExecuteTime": {
     "end_time": "2024-06-09T07:12:58.575553Z",
     "start_time": "2024-06-09T07:12:58.553568Z"
    }
   },
   "cell_type": "code",
   "source": [
    "courses = ['python', 'sql']\n",
    "print(courses)\n",
    "print(str(courses))\n",
    "import json \n",
    "# I need to convert list to json string \n",
    "json_courses=json.dumps(courses)\n",
    "print(json_courses, type(json_courses))\n"
   ],
   "id": "d2162cb73c9fe14b",
   "outputs": [
    {
     "name": "stdout",
     "output_type": "stream",
     "text": [
      "['python', 'sql']\n",
      "['python', 'sql']\n",
      "[\"python\", \"sql\"] <class 'str'>\n"
     ]
    }
   ],
   "execution_count": 35
  },
  {
   "metadata": {},
   "cell_type": "markdown",
   "source": "# with open ",
   "id": "c388779a6ec1af0"
  },
  {
   "metadata": {
    "ExecuteTime": {
     "end_time": "2024-06-09T07:15:32.022954Z",
     "start_time": "2024-06-09T07:15:32.018968Z"
    }
   },
   "cell_type": "code",
   "source": [
    "with open('courses.json', 'a') as outfile:\n",
    "    json.dump(courses, outfile)\n",
    "    # no need to close file \n",
    "    "
   ],
   "id": "7de116cf6293e5b2",
   "outputs": [],
   "execution_count": 37
  },
  {
   "metadata": {},
   "cell_type": "markdown",
   "source": "# read data from json file ",
   "id": "aef58f4e700c5ed0"
  },
  {
   "metadata": {
    "ExecuteTime": {
     "end_time": "2024-06-09T07:20:38.023674Z",
     "start_time": "2024-06-09T07:20:38.019331Z"
    }
   },
   "cell_type": "code",
   "source": [
    "with open('students.json', 'r') as stdfile:\n",
    "    data = json.load(stdfile)\n",
    "    print(data, type(data))\n",
    "    "
   ],
   "id": "7a17411a35763de2",
   "outputs": [
    {
     "name": "stdout",
     "output_type": "stream",
     "text": [
      "[{'id': 1, 'name': 'ahmed', 'track': 'Cloud'}, {'id': 2, 'name': 'ali', 'track': 'Cloud'}, {'id': 3, 'name': 'mohamed', 'track': 'Cloud'}, {'name': 'abbass', 'track': 'de', 'id': 100}] <class 'list'>\n"
     ]
    }
   ],
   "execution_count": 42
  },
  {
   "metadata": {
    "ExecuteTime": {
     "end_time": "2024-06-09T07:20:42.932890Z",
     "start_time": "2024-06-09T07:20:42.928675Z"
    }
   },
   "cell_type": "code",
   "source": [
    "data.append(\n",
    "    {'name':\"abbass\", \"track\":\"de\", \"id\":100}\n",
    ")\n",
    "print(data)"
   ],
   "id": "614a347540525b72",
   "outputs": [
    {
     "name": "stdout",
     "output_type": "stream",
     "text": [
      "[{'id': 1, 'name': 'ahmed', 'track': 'Cloud'}, {'id': 2, 'name': 'ali', 'track': 'Cloud'}, {'id': 3, 'name': 'mohamed', 'track': 'Cloud'}, {'name': 'abbass', 'track': 'de', 'id': 100}, {'name': 'abbass', 'track': 'de', 'id': 100}]\n"
     ]
    }
   ],
   "execution_count": 43
  },
  {
   "metadata": {
    "ExecuteTime": {
     "end_time": "2024-06-09T07:29:52.199798Z",
     "start_time": "2024-06-09T07:29:52.196100Z"
    }
   },
   "cell_type": "code",
   "source": [
    "with open('students.json', 'a') as outfile:\n",
    "    json.dump(data, outfile, indent=4)"
   ],
   "id": "cf46c13300dd11a3",
   "outputs": [],
   "execution_count": 49
  },
  {
   "metadata": {
    "ExecuteTime": {
     "end_time": "2024-06-09T07:25:30.261837Z",
     "start_time": "2024-06-09T07:25:30.256151Z"
    }
   },
   "cell_type": "code",
   "source": [
    "import  json \n",
    "print(json.dumps(\"data\", indent=4))"
   ],
   "id": "5d38a6eaae71080",
   "outputs": [
    {
     "name": "stdout",
     "output_type": "stream",
     "text": [
      "\"data\"\n"
     ]
    }
   ],
   "execution_count": 46
  },
  {
   "metadata": {
    "ExecuteTime": {
     "end_time": "2024-06-09T07:25:41.917367Z",
     "start_time": "2024-06-09T07:25:41.914130Z"
    }
   },
   "cell_type": "code",
   "source": "print(json.dumps(('iti', 4), indent=4))\n",
   "id": "effb15b8eb486b9e",
   "outputs": [
    {
     "name": "stdout",
     "output_type": "stream",
     "text": [
      "[\n",
      "    \"iti\",\n",
      "    4\n",
      "]\n"
     ]
    }
   ],
   "execution_count": 47
  },
  {
   "metadata": {
    "ExecuteTime": {
     "end_time": "2024-06-09T07:25:51.507470Z",
     "start_time": "2024-06-09T07:25:51.503769Z"
    }
   },
   "cell_type": "code",
   "source": "print(json.dumps(333, indent=4))\n",
   "id": "9c4e8f2522e05c1b",
   "outputs": [
    {
     "name": "stdout",
     "output_type": "stream",
     "text": [
      "333\n"
     ]
    }
   ],
   "execution_count": 48
  },
  {
   "metadata": {
    "ExecuteTime": {
     "end_time": "2024-06-09T07:31:29.289611Z",
     "start_time": "2024-06-09T07:31:29.285921Z"
    }
   },
   "cell_type": "code",
   "source": [
    "with open('students.json', 'a') as stdfile:\n",
    "    student = {'name':'test'}\n",
    "    json.dump(student, stdfile, indent=4)"
   ],
   "id": "4b5d11d0f51ea1ff",
   "outputs": [],
   "execution_count": 50
  },
  {
   "metadata": {
    "ExecuteTime": {
     "end_time": "2024-06-09T07:32:45.828413Z",
     "start_time": "2024-06-09T07:32:45.823939Z"
    }
   },
   "cell_type": "code",
   "source": [
    "# read old data\n",
    "with open('students.json', 'r') as stdfile:\n",
    "    old_data = json.load(stdfile)  # list"
   ],
   "id": "1406f9fe494e9ee6",
   "outputs": [],
   "execution_count": 52
  },
  {
   "metadata": {
    "ExecuteTime": {
     "end_time": "2024-06-09T07:32:52.321584Z",
     "start_time": "2024-06-09T07:32:52.317338Z"
    }
   },
   "cell_type": "code",
   "source": "print(old_data)",
   "id": "c724edc33ca1d246",
   "outputs": [
    {
     "name": "stdout",
     "output_type": "stream",
     "text": [
      "[{'id': 1, 'name': 'ahmed', 'track': 'Cloud'}, {'id': 2, 'name': 'ali', 'track': 'Cloud'}, {'id': 3, 'name': 'mohamed', 'track': 'Cloud'}, {'name': 'abbass', 'track': 'de', 'id': 100}, {'name': 'abbass', 'track': 'de', 'id': 100}]\n"
     ]
    }
   ],
   "execution_count": 53
  },
  {
   "metadata": {},
   "cell_type": "markdown",
   "source": "// add object to the old_data",
   "id": "5622f2ea32f6b9f5"
  },
  {
   "metadata": {
    "ExecuteTime": {
     "end_time": "2024-06-09T07:33:27.550600Z",
     "start_time": "2024-06-09T07:33:27.539371Z"
    }
   },
   "cell_type": "code",
   "source": "old_data.append({'name':'test','id':200})",
   "id": "11cee8b3b49c0719",
   "outputs": [],
   "execution_count": 54
  },
  {
   "metadata": {
    "ExecuteTime": {
     "end_time": "2024-06-09T07:34:56.126503Z",
     "start_time": "2024-06-09T07:34:56.122495Z"
    }
   },
   "cell_type": "code",
   "source": [
    "# write new array to the json file \n",
    "with open('students.json', 'w') as outfile:\n",
    "    json.dump(old_data, outfile, indent=4)"
   ],
   "id": "a0e4f89069a85eb2",
   "outputs": [],
   "execution_count": 55
  },
  {
   "metadata": {},
   "cell_type": "code",
   "outputs": [],
   "execution_count": null,
   "source": "",
   "id": "82d1d9e976912246"
  }
 ],
 "metadata": {
  "kernelspec": {
   "display_name": "Python 3",
   "language": "python",
   "name": "python3"
  },
  "language_info": {
   "codemirror_mode": {
    "name": "ipython",
    "version": 2
   },
   "file_extension": ".py",
   "mimetype": "text/x-python",
   "name": "python",
   "nbconvert_exporter": "python",
   "pygments_lexer": "ipython2",
   "version": "2.7.6"
  }
 },
 "nbformat": 4,
 "nbformat_minor": 5
}
