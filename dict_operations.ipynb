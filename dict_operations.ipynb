{
 "cells": [
  {
   "metadata": {},
   "cell_type": "markdown",
   "source": "",
   "id": "aea23917e9dd750a"
  },
  {
   "metadata": {},
   "cell_type": "markdown",
   "source": [
    "# dict is mutable datatype \n",
    "    -> comma seperate key:value pair\n",
    "    -> doesn't allow key duplication\n",
    "    -> ordered datatype from python 3.7"
   ],
   "id": "680b1ca66ef6bdbd"
  },
  {
   "cell_type": "code",
   "id": "initial_id",
   "metadata": {
    "collapsed": true,
    "ExecuteTime": {
     "end_time": "2024-06-07T07:06:26.636471Z",
     "start_time": "2024-06-07T07:06:26.629776Z"
    }
   },
   "source": "Sinfo = ['noha', 32, 'iti', 'python'] # unlabeled data",
   "outputs": [],
   "execution_count": 1
  },
  {
   "metadata": {},
   "cell_type": "markdown",
   "source": "labels --> represent data meaning ",
   "id": "a24313aafb606a87"
  },
  {
   "metadata": {
    "ExecuteTime": {
     "end_time": "2024-06-07T07:09:23.987520Z",
     "start_time": "2024-06-07T07:09:23.983310Z"
    }
   },
   "cell_type": "code",
   "source": [
    "myinfo = {\n",
    "    'name':'noha',\n",
    "    'age':32,\n",
    "    'work':'iti',\n",
    "    'course':'python',\n",
    "    'name':'Noha Shehab'\n",
    "}"
   ],
   "id": "bdff087d6d354220",
   "outputs": [],
   "execution_count": 3
  },
  {
   "metadata": {
    "ExecuteTime": {
     "end_time": "2024-06-07T07:09:28.726151Z",
     "start_time": "2024-06-07T07:09:28.722019Z"
    }
   },
   "cell_type": "code",
   "source": "print(myinfo)",
   "id": "38f091fb8c042ce5",
   "outputs": [
    {
     "name": "stdout",
     "output_type": "stream",
     "text": [
      "{'name': 'Noha Shehab', 'age': 32, 'work': 'iti', 'course': 'python'}\n"
     ]
    }
   ],
   "execution_count": 4
  },
  {
   "metadata": {},
   "cell_type": "markdown",
   "source": " -> access elements using keys",
   "id": "bb5a5f8d847e45a0"
  },
  {
   "metadata": {
    "ExecuteTime": {
     "end_time": "2024-06-07T07:13:28.633155Z",
     "start_time": "2024-06-07T07:13:28.627361Z"
    }
   },
   "cell_type": "code",
   "source": "print(myinfo['name'])",
   "id": "e10c081a1c96ef6e",
   "outputs": [
    {
     "name": "stdout",
     "output_type": "stream",
     "text": [
      "Noha Shehab\n"
     ]
    }
   ],
   "execution_count": 5
  },
  {
   "metadata": {},
   "cell_type": "markdown",
   "source": [
    "# mutable datatype \n",
    "    -> 1- updated values of exisiting keys\n",
    "    -> 2- add new key value pair"
   ],
   "id": "aa0d6f3519b00171"
  },
  {
   "metadata": {
    "ExecuteTime": {
     "end_time": "2024-06-07T07:14:01.124758Z",
     "start_time": "2024-06-07T07:14:01.109905Z"
    }
   },
   "cell_type": "code",
   "source": [
    "print(myinfo)\n",
    "myinfo['work']='Information Technology Institute'\n",
    "print(myinfo)"
   ],
   "id": "293eb7363f020ebf",
   "outputs": [
    {
     "name": "stdout",
     "output_type": "stream",
     "text": [
      "{'name': 'Noha Shehab', 'age': 32, 'work': 'iti', 'course': 'python'}\n",
      "{'name': 'Noha Shehab', 'age': 32, 'work': 'Information Technology Institute', 'course': 'python'}\n"
     ]
    }
   ],
   "execution_count": 6
  },
  {
   "metadata": {},
   "cell_type": "markdown",
   "source": "if key doesn't exists --> will add it ",
   "id": "912b094a7d0736b2"
  },
  {
   "metadata": {
    "ExecuteTime": {
     "end_time": "2024-06-07T07:15:17.654224Z",
     "start_time": "2024-06-07T07:15:17.648860Z"
    }
   },
   "cell_type": "code",
   "source": [
    "myinfo['tracks']=['ai', 'data engineering', 'open source', 'bi']\n",
    "print(myinfo)"
   ],
   "id": "d08005daeb5d239a",
   "outputs": [
    {
     "name": "stdout",
     "output_type": "stream",
     "text": [
      "{'name': 'Noha Shehab', 'age': 32, 'work': 'Information Technology Institute', 'course': 'python', 'tracks': ['ai', 'data engineering', 'open source', 'bi']}\n"
     ]
    }
   ],
   "execution_count": 7
  },
  {
   "metadata": {},
   "cell_type": "markdown",
   "source": "get len of dict ",
   "id": "a30452de26a7a6f2"
  },
  {
   "metadata": {
    "ExecuteTime": {
     "end_time": "2024-06-07T07:15:59.067213Z",
     "start_time": "2024-06-07T07:15:59.063130Z"
    }
   },
   "cell_type": "code",
   "source": "print(len(myinfo))",
   "id": "b9aa33b72276fc2a",
   "outputs": [
    {
     "name": "stdout",
     "output_type": "stream",
     "text": [
      "5\n"
     ]
    }
   ],
   "execution_count": 8
  },
  {
   "metadata": {},
   "cell_type": "markdown",
   "source": "loop over the dict ",
   "id": "3f1dd261f0e7798d"
  },
  {
   "metadata": {
    "ExecuteTime": {
     "end_time": "2024-06-07T07:16:48.570272Z",
     "start_time": "2024-06-07T07:16:48.566256Z"
    }
   },
   "cell_type": "code",
   "source": [
    "for item in myinfo:\n",
    "    print(item)"
   ],
   "id": "38b67c5c230f11c0",
   "outputs": [
    {
     "name": "stdout",
     "output_type": "stream",
     "text": [
      "name\n",
      "age\n",
      "work\n",
      "course\n",
      "tracks\n"
     ]
    }
   ],
   "execution_count": 9
  },
  {
   "metadata": {},
   "cell_type": "markdown",
   "source": "key-> value ",
   "id": "3ab931e18e67acac"
  },
  {
   "metadata": {
    "ExecuteTime": {
     "end_time": "2024-06-07T07:18:00.148350Z",
     "start_time": "2024-06-07T07:18:00.139433Z"
    }
   },
   "cell_type": "code",
   "source": "print(myinfo)",
   "id": "878583361bef2d68",
   "outputs": [
    {
     "name": "stdout",
     "output_type": "stream",
     "text": [
      "{'name': 'Noha Shehab', 'age': 32, 'work': 'Information Technology Institute', 'course': 'python', 'tracks': ['ai', 'data engineering', 'open source', 'bi']}\n"
     ]
    }
   ],
   "execution_count": 10
  },
  {
   "metadata": {
    "ExecuteTime": {
     "end_time": "2024-06-07T07:19:19.094102Z",
     "start_time": "2024-06-07T07:19:19.081718Z"
    }
   },
   "cell_type": "code",
   "source": "print(myinfo['name'] )",
   "id": "3590f94dea74548b",
   "outputs": [
    {
     "name": "stdout",
     "output_type": "stream",
     "text": [
      "Noha Shehab\n"
     ]
    }
   ],
   "execution_count": 13
  },
  {
   "metadata": {
    "ExecuteTime": {
     "end_time": "2024-06-07T07:18:30.338759Z",
     "start_time": "2024-06-07T07:18:30.334724Z"
    }
   },
   "cell_type": "code",
   "source": [
    "for item in myinfo:\n",
    "    print(f\"{item}-> {myinfo[item]}\")"
   ],
   "id": "f9ac35d43195be55",
   "outputs": [
    {
     "name": "stdout",
     "output_type": "stream",
     "text": [
      "name-> Noha Shehab\n",
      "age-> 32\n",
      "work-> Information Technology Institute\n",
      "course-> python\n",
      "tracks-> ['ai', 'data engineering', 'open source', 'bi']\n"
     ]
    }
   ],
   "execution_count": 12
  },
  {
   "metadata": {
    "ExecuteTime": {
     "end_time": "2024-06-07T07:20:25.604258Z",
     "start_time": "2024-06-07T07:20:25.600386Z"
    }
   },
   "cell_type": "code",
   "source": "print(myinfo['tracks'][1])",
   "id": "7cd0273d3be21cf",
   "outputs": [
    {
     "name": "stdout",
     "output_type": "stream",
     "text": [
      "data engineering\n"
     ]
    }
   ],
   "execution_count": 14
  },
  {
   "metadata": {},
   "cell_type": "markdown",
   "source": "in operator",
   "id": "463a4e29f70f24b0"
  },
  {
   "metadata": {
    "ExecuteTime": {
     "end_time": "2024-06-07T07:21:21.382522Z",
     "start_time": "2024-06-07T07:21:21.379422Z"
    }
   },
   "cell_type": "code",
   "source": "print('python' in myinfo) # in operator check if given value exists in keys",
   "id": "2a5a339f5fa2791e",
   "outputs": [
    {
     "name": "stdout",
     "output_type": "stream",
     "text": [
      "False\n"
     ]
    }
   ],
   "execution_count": 15
  },
  {
   "metadata": {},
   "cell_type": "markdown",
   "source": "# Get dictionary keys",
   "id": "3edb477c39d44c19"
  },
  {
   "metadata": {
    "ExecuteTime": {
     "end_time": "2024-06-07T07:24:45.185319Z",
     "start_time": "2024-06-07T07:24:45.181257Z"
    }
   },
   "cell_type": "code",
   "source": [
    "myd = myinfo.keys()\n",
    "print(myd)\n",
    "print(list(myd))\n"
   ],
   "id": "c8eca3eaf903cd1f",
   "outputs": [
    {
     "name": "stdout",
     "output_type": "stream",
     "text": [
      "dict_keys(['name', 'age', 'work', 'course', 'tracks'])\n",
      "['name', 'age', 'work', 'course', 'tracks']\n"
     ]
    }
   ],
   "execution_count": 17
  },
  {
   "metadata": {
    "ExecuteTime": {
     "end_time": "2024-06-07T07:25:24.688070Z",
     "start_time": "2024-06-07T07:25:24.684143Z"
    }
   },
   "cell_type": "code",
   "source": [
    "myvals = myinfo.values()\n",
    "print(myvals)"
   ],
   "id": "2621bc4fa5cb6974",
   "outputs": [
    {
     "name": "stdout",
     "output_type": "stream",
     "text": [
      "dict_values(['Noha Shehab', 32, 'Information Technology Institute', 'python', ['ai', 'data engineering', 'open source', 'bi']])\n"
     ]
    }
   ],
   "execution_count": 18
  },
  {
   "metadata": {},
   "cell_type": "markdown",
   "source": "pop element from dict ",
   "id": "9f7e72b36c7b789b"
  },
  {
   "metadata": {
    "ExecuteTime": {
     "end_time": "2024-06-07T07:28:03.951837Z",
     "start_time": "2024-06-07T07:28:03.946970Z"
    }
   },
   "cell_type": "code",
   "source": [
    "popped_val=myinfo.pop('tracks')\n",
    "print(popped_val)\n",
    "print(myinfo)"
   ],
   "id": "80e708f4c0a840ad",
   "outputs": [
    {
     "name": "stdout",
     "output_type": "stream",
     "text": [
      "['ai', 'data engineering', 'open source', 'bi']\n",
      "{'name': 'Noha Shehab', 'age': 32, 'work': 'Information Technology Institute', 'course': 'python'}\n"
     ]
    }
   ],
   "execution_count": 19
  },
  {
   "metadata": {},
   "cell_type": "markdown",
   "source": "get keys and values ",
   "id": "33981f432a806ee6"
  },
  {
   "metadata": {
    "ExecuteTime": {
     "end_time": "2024-06-07T07:29:38.744454Z",
     "start_time": "2024-06-07T07:29:38.739662Z"
    }
   },
   "cell_type": "code",
   "source": [
    "items = myinfo.items()\n",
    "print(items)\n",
    "print(items)"
   ],
   "id": "a61061ad18b2d0b8",
   "outputs": [
    {
     "name": "stdout",
     "output_type": "stream",
     "text": [
      "dict_items([('name', 'Noha Shehab'), ('age', 32), ('work', 'Information Technology Institute'), ('course', 'python')])\n",
      "dict_items([('name', 'Noha Shehab'), ('age', 32), ('work', 'Information Technology Institute'), ('course', 'python')])\n"
     ]
    }
   ],
   "execution_count": 20
  },
  {
   "metadata": {
    "ExecuteTime": {
     "end_time": "2024-06-07T07:31:04.243285Z",
     "start_time": "2024-06-07T07:31:04.230453Z"
    }
   },
   "cell_type": "code",
   "source": [
    "for k , v in myinfo.items():\n",
    "    print(f\"{k}: {v}\")"
   ],
   "id": "49b0e6fc68bb15ff",
   "outputs": [
    {
     "name": "stdout",
     "output_type": "stream",
     "text": [
      "name: Noha Shehab\n",
      "age: 32\n",
      "work: Information Technology Institute\n",
      "course: python\n"
     ]
    }
   ],
   "execution_count": 21
  },
  {
   "metadata": {},
   "cell_type": "markdown",
   "source": "update dict ",
   "id": "8878f6ad972b19a7"
  },
  {
   "metadata": {
    "ExecuteTime": {
     "end_time": "2024-06-07T07:33:21.019147Z",
     "start_time": "2024-06-07T07:33:21.015693Z"
    }
   },
   "cell_type": "code",
   "source": [
    "print(myinfo)\n",
    "add_info = {\"city\":\"cairo\", 'name':\"Noha Abdelhady Shehab\"}"
   ],
   "id": "7da7a4b7b191884e",
   "outputs": [
    {
     "name": "stdout",
     "output_type": "stream",
     "text": [
      "{'name': 'Noha Shehab', 'age': 32, 'work': 'Information Technology Institute', 'course': 'python'}\n"
     ]
    }
   ],
   "execution_count": 24
  },
  {
   "metadata": {
    "ExecuteTime": {
     "end_time": "2024-06-07T07:34:05.119835Z",
     "start_time": "2024-06-07T07:34:05.115916Z"
    }
   },
   "cell_type": "code",
   "source": [
    "myinfo.update(add_info)\n",
    "print(myinfo)"
   ],
   "id": "67813fb6b5f253e1",
   "outputs": [
    {
     "name": "stdout",
     "output_type": "stream",
     "text": [
      "{'name': 'Noha Abdelhady Shehab', 'age': 32, 'work': 'Information Technology Institute', 'course': 'python', 'city': 'cairo'}\n"
     ]
    }
   ],
   "execution_count": 25
  },
  {
   "metadata": {
    "ExecuteTime": {
     "end_time": "2024-06-07T07:35:22.103422Z",
     "start_time": "2024-06-07T07:35:22.100201Z"
    }
   },
   "cell_type": "code",
   "source": [
    "myinfo.clear()\n",
    "print(myinfo)"
   ],
   "id": "400a82c4850e0b0a",
   "outputs": [
    {
     "name": "stdout",
     "output_type": "stream",
     "text": [
      "{}\n"
     ]
    }
   ],
   "execution_count": 26
  },
  {
   "metadata": {},
   "cell_type": "code",
   "outputs": [],
   "execution_count": null,
   "source": "",
   "id": "b6eef8bc5d8d809e"
  }
 ],
 "metadata": {
  "kernelspec": {
   "display_name": "Python 3",
   "language": "python",
   "name": "python3"
  },
  "language_info": {
   "codemirror_mode": {
    "name": "ipython",
    "version": 2
   },
   "file_extension": ".py",
   "mimetype": "text/x-python",
   "name": "python",
   "nbconvert_exporter": "python",
   "pygments_lexer": "ipython2",
   "version": "2.7.6"
  }
 },
 "nbformat": 4,
 "nbformat_minor": 5
}
