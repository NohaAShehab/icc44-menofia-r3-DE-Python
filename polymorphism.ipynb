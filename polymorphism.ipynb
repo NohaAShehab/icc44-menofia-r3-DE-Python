{
 "cells": [
  {
   "cell_type": "code",
   "id": "initial_id",
   "metadata": {
    "collapsed": true,
    "ExecuteTime": {
     "end_time": "2024-06-11T05:41:19.093806Z",
     "start_time": "2024-06-11T05:41:19.081607Z"
    }
   },
   "source": [
    "class QueueOutOfRange(Exception):\n",
    "    pass \n",
    "\n",
    "# raise QueueOutOfRange(\"Queue length \")"
   ],
   "outputs": [],
   "execution_count": 1
  },
  {
   "metadata": {
    "ExecuteTime": {
     "end_time": "2024-06-11T05:41:59.851402Z",
     "start_time": "2024-06-11T05:41:59.846742Z"
    }
   },
   "cell_type": "code",
   "source": [
    "class Person:\n",
    "    pass\n",
    "\n",
    "class Employee(Person):\n",
    "    pass \n",
    "\n",
    "e = Employee()\n",
    "print(isinstance(e, Person)) # is-a relationship"
   ],
   "id": "3f499513ec77f067",
   "outputs": [
    {
     "name": "stdout",
     "output_type": "stream",
     "text": [
      "True\n"
     ]
    }
   ],
   "execution_count": 2
  },
  {
   "metadata": {
    "ExecuteTime": {
     "end_time": "2024-06-11T05:47:01.786212Z",
     "start_time": "2024-06-11T05:47:01.781813Z"
    }
   },
   "cell_type": "code",
   "source": [
    "class Employee:\n",
    "    # def speak(self):\n",
    "    #     print(\"--- employee\") \n",
    "    pass\n",
    "\n",
    "class Teacher:\n",
    "    def speak(self):\n",
    "        print('-- teacher ') \n",
    "\n",
    "class Instructor(Employee, Teacher):\n",
    "    pass \n",
    "\n",
    "inn = Instructor()\n",
    "inn.speak()"
   ],
   "id": "c6606225442cf100",
   "outputs": [
    {
     "name": "stdout",
     "output_type": "stream",
     "text": [
      "-- teacher \n"
     ]
    }
   ],
   "execution_count": 5
  },
  {
   "metadata": {},
   "cell_type": "markdown",
   "source": [
    "# overloading \n",
    "    --> 2 methods with the same name in the same class.\n",
    "    --> but different in no of parameters and type of these parameters."
   ],
   "id": "aa7d0c43a4f8906e"
  },
  {
   "metadata": {},
   "cell_type": "markdown",
   "source": "",
   "id": "76533793f5f201ed"
  },
  {
   "metadata": {},
   "cell_type": "markdown",
   "source": "# python doesn't support overloading ",
   "id": "256380f97a3ba949"
  },
  {
   "metadata": {
    "ExecuteTime": {
     "end_time": "2024-06-11T05:55:03.555897Z",
     "start_time": "2024-06-11T05:55:03.550773Z"
    }
   },
   "cell_type": "code",
   "source": [
    "class Person:\n",
    "    def speak(self):\n",
    "        print(\"I am a person\")\n",
    "        \n",
    "    def speak(self, msg:str):\n",
    "        print(f\"I am a person , kindly check my message {msg} \")\n",
    "    \n",
    "    def speak(self, msg:int):\n",
    "        print(f\"I am a person , kindly check my message \"\n",
    "              f\"this is the int {msg} \")\n"
   ],
   "id": "214b7eb7e1dec3ba",
   "outputs": [],
   "execution_count": 6
  },
  {
   "metadata": {
    "ExecuteTime": {
     "end_time": "2024-06-11T05:55:26.425866Z",
     "start_time": "2024-06-11T05:55:26.198084Z"
    }
   },
   "cell_type": "code",
   "source": [
    "p = Person()\n",
    "p.speak()"
   ],
   "id": "9dc3b3f5f19006e9",
   "outputs": [
    {
     "ename": "TypeError",
     "evalue": "Person.speak() missing 1 required positional argument: 'msg'",
     "output_type": "error",
     "traceback": [
      "\u001B[0;31m---------------------------------------------------------------------------\u001B[0m",
      "\u001B[0;31mTypeError\u001B[0m                                 Traceback (most recent call last)",
      "Cell \u001B[0;32mIn[7], line 2\u001B[0m\n\u001B[1;32m      1\u001B[0m p \u001B[38;5;241m=\u001B[39m Person()\n\u001B[0;32m----> 2\u001B[0m \u001B[43mp\u001B[49m\u001B[38;5;241;43m.\u001B[39;49m\u001B[43mspeak\u001B[49m\u001B[43m(\u001B[49m\u001B[43m)\u001B[49m\n",
      "\u001B[0;31mTypeError\u001B[0m: Person.speak() missing 1 required positional argument: 'msg'"
     ]
    }
   ],
   "execution_count": 7
  },
  {
   "metadata": {
    "ExecuteTime": {
     "end_time": "2024-06-11T05:55:57.312352Z",
     "start_time": "2024-06-11T05:55:57.308435Z"
    }
   },
   "cell_type": "code",
   "source": "p.speak(\" Hiiii\")",
   "id": "534a523117404f99",
   "outputs": [
    {
     "name": "stdout",
     "output_type": "stream",
     "text": [
      "I am a person , kindly check my message this is the int  Hiiii \n"
     ]
    }
   ],
   "execution_count": 8
  },
  {
   "metadata": {},
   "cell_type": "markdown",
   "source": "# how to overcome this issue ",
   "id": "7db878788d89f43c"
  },
  {
   "metadata": {
    "ExecuteTime": {
     "end_time": "2024-06-11T05:58:57.528124Z",
     "start_time": "2024-06-11T05:58:57.523544Z"
    }
   },
   "cell_type": "code",
   "source": [
    "class Person:  \n",
    "    def speak(self, msg:str='Hello World'):\n",
    "        print(f\"I am a person , kindly check my message \"\n",
    "              f\"this is the int {msg} \")\n",
    "        if isinstance(msg, int):\n",
    "            pass\n",
    "        elif isinstance(msg, str):\n",
    "            pass \n",
    "        \n",
    "\n",
    "p = Person()\n",
    "p.speak()\n",
    "p.speak(\"my message\")"
   ],
   "id": "9677fcb3ee76e942",
   "outputs": [
    {
     "name": "stdout",
     "output_type": "stream",
     "text": [
      "I am a person , kindly check my message this is the int Hello World \n",
      "I am a person , kindly check my message this is the int my message \n"
     ]
    }
   ],
   "execution_count": 10
  },
  {
   "metadata": {},
   "cell_type": "code",
   "outputs": [],
   "execution_count": null,
   "source": "",
   "id": "27396d2b6ce7973b"
  }
 ],
 "metadata": {
  "kernelspec": {
   "display_name": "Python 3",
   "language": "python",
   "name": "python3"
  },
  "language_info": {
   "codemirror_mode": {
    "name": "ipython",
    "version": 2
   },
   "file_extension": ".py",
   "mimetype": "text/x-python",
   "name": "python",
   "nbconvert_exporter": "python",
   "pygments_lexer": "ipython2",
   "version": "2.7.6"
  }
 },
 "nbformat": 4,
 "nbformat_minor": 5
}
