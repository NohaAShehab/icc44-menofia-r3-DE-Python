{
 "cells": [
  {
   "metadata": {},
   "cell_type": "markdown",
   "source": [
    "# Encapsulation\n",
    "    --> encapsulation is reached in OOP using keywords  (Access modefiers)\n",
    "        --> * public (accessed anywhere in/out the class using object/instance)\n",
    "        --> * private (accessed anywhere in the class only)\n",
    "        --> * protected (accessed anywhere in the class or the derived classes)"
   ],
   "id": "a3d6b0db0850dcb6"
  },
  {
   "metadata": {},
   "cell_type": "markdown",
   "source": [
    "# In Python\n",
    "    --> No Access modifiers \n",
    "    --> but it can be reached using naming convension\n",
    "        --> * public --> (method / variable its name starts with char [a->z])\n",
    " \n",
    "        --> * protected (method / variable its name starts with  _ )\n",
    " \n",
    "        --> * private (method / variable its name starts with  __)\n",
    "    "
   ],
   "id": "1b4d59b950dab1a"
  },
  {
   "cell_type": "code",
   "id": "initial_id",
   "metadata": {
    "collapsed": true,
    "ExecuteTime": {
     "end_time": "2024-06-11T06:17:43.783871Z",
     "start_time": "2024-06-11T06:17:43.779280Z"
    }
   },
   "source": [
    "class Employee:\n",
    "    def __init__(self, name,email, salary):\n",
    "        self.name = name  # public\n",
    "        self._email = email  # protected\n",
    "        self.__salary = salary # private \n",
    "emp = Employee(\"Ahmed\", 'ahmed@gmail.com', 43)\n",
    "print(emp.__dict__)"
   ],
   "outputs": [
    {
     "name": "stdout",
     "output_type": "stream",
     "text": [
      "{'name': 'Ahmed', '_email': 'ahmed@gmail.com', '_Employee__salary': 43}\n"
     ]
    }
   ],
   "execution_count": 2
  },
  {
   "metadata": {
    "ExecuteTime": {
     "end_time": "2024-06-11T06:18:34.490871Z",
     "start_time": "2024-06-11T06:18:34.485793Z"
    }
   },
   "cell_type": "code",
   "source": [
    "print(emp.name)\n",
    "emp.name = 'updated'\n",
    "print(emp.__dict__)"
   ],
   "id": "3c554bb3b0b39bd",
   "outputs": [
    {
     "name": "stdout",
     "output_type": "stream",
     "text": [
      "Ahmed\n",
      "{'name': 'updated', '_email': 'ahmed@gmail.com', '_Employee__salary': 43}\n"
     ]
    }
   ],
   "execution_count": 3
  },
  {
   "metadata": {
    "ExecuteTime": {
     "end_time": "2024-06-11T06:19:11.099631Z",
     "start_time": "2024-06-11T06:19:11.095977Z"
    }
   },
   "cell_type": "code",
   "source": [
    "print(emp._email)  # access protected member --> \n",
    "# --> but ethically don't do this "
   ],
   "id": "d8b9f0a13160f0f1",
   "outputs": [
    {
     "name": "stdout",
     "output_type": "stream",
     "text": [
      "ahmed@gmail.com\n"
     ]
    }
   ],
   "execution_count": 4
  },
  {
   "metadata": {
    "ExecuteTime": {
     "end_time": "2024-06-11T06:22:20.446922Z",
     "start_time": "2024-06-11T06:22:20.441164Z"
    }
   },
   "cell_type": "code",
   "source": [
    "class Employee:\n",
    "    def __init__(self, name,email, salary):\n",
    "        self.name = name  # public\n",
    "        self._email = email  # protected\n",
    "        self.__salary = salary # private \n",
    "    def display(self):\n",
    "        print(f\"name{self.name} , _email={self._email} , salary={self.__salary}\")\n",
    "emp = Employee(\"Ahmed\", 'ahmed@gmail.com', 43)"
   ],
   "id": "4d9f5be15a04c79a",
   "outputs": [],
   "execution_count": 5
  },
  {
   "metadata": {
    "ExecuteTime": {
     "end_time": "2024-06-11T06:22:29.153940Z",
     "start_time": "2024-06-11T06:22:29.146962Z"
    }
   },
   "cell_type": "code",
   "source": "print(emp._email)",
   "id": "448a7bc30dbd8a85",
   "outputs": [
    {
     "name": "stdout",
     "output_type": "stream",
     "text": [
      "ahmed@gmail.com\n"
     ]
    }
   ],
   "execution_count": 6
  },
  {
   "metadata": {},
   "cell_type": "markdown",
   "source": "what about private ?",
   "id": "7ae83c2e59c30c3b"
  },
  {
   "metadata": {
    "ExecuteTime": {
     "end_time": "2024-06-11T06:22:57.564367Z",
     "start_time": "2024-06-11T06:22:57.347027Z"
    }
   },
   "cell_type": "code",
   "source": "print(emp.__salary)",
   "id": "b6e043f91e1e7f33",
   "outputs": [
    {
     "ename": "AttributeError",
     "evalue": "'Employee' object has no attribute '__salary'",
     "output_type": "error",
     "traceback": [
      "\u001B[0;31m---------------------------------------------------------------------------\u001B[0m",
      "\u001B[0;31mAttributeError\u001B[0m                            Traceback (most recent call last)",
      "Cell \u001B[0;32mIn[7], line 1\u001B[0m\n\u001B[0;32m----> 1\u001B[0m \u001B[38;5;28mprint\u001B[39m(\u001B[43memp\u001B[49m\u001B[38;5;241;43m.\u001B[39;49m\u001B[43m__salary\u001B[49m)\n",
      "\u001B[0;31mAttributeError\u001B[0m: 'Employee' object has no attribute '__salary'"
     ]
    }
   ],
   "execution_count": 7
  },
  {
   "metadata": {
    "ExecuteTime": {
     "end_time": "2024-06-11T06:23:28.370157Z",
     "start_time": "2024-06-11T06:23:28.315356Z"
    }
   },
   "cell_type": "code",
   "source": "print(emp.city)",
   "id": "6238c9d38a021a3d",
   "outputs": [
    {
     "ename": "AttributeError",
     "evalue": "'Employee' object has no attribute 'city'",
     "output_type": "error",
     "traceback": [
      "\u001B[0;31m---------------------------------------------------------------------------\u001B[0m",
      "\u001B[0;31mAttributeError\u001B[0m                            Traceback (most recent call last)",
      "Cell \u001B[0;32mIn[8], line 1\u001B[0m\n\u001B[0;32m----> 1\u001B[0m \u001B[38;5;28mprint\u001B[39m(\u001B[43memp\u001B[49m\u001B[38;5;241;43m.\u001B[39;49m\u001B[43mcity\u001B[49m)\n",
      "\u001B[0;31mAttributeError\u001B[0m: 'Employee' object has no attribute 'city'"
     ]
    }
   ],
   "execution_count": 8
  },
  {
   "metadata": {
    "ExecuteTime": {
     "end_time": "2024-06-11T06:23:42.170759Z",
     "start_time": "2024-06-11T06:23:42.165749Z"
    }
   },
   "cell_type": "code",
   "source": "print(emp.__dict__)",
   "id": "c9494a068066eed1",
   "outputs": [
    {
     "name": "stdout",
     "output_type": "stream",
     "text": [
      "{'name': 'Ahmed', '_email': 'ahmed@gmail.com', '_Employee__salary': 43}\n"
     ]
    }
   ],
   "execution_count": 9
  },
  {
   "metadata": {
    "ExecuteTime": {
     "end_time": "2024-06-11T06:24:05.570837Z",
     "start_time": "2024-06-11T06:24:05.567139Z"
    }
   },
   "cell_type": "code",
   "source": "print(emp._Employee__salary)  # Plz don't do this ",
   "id": "5566cbdfb3030458",
   "outputs": [
    {
     "name": "stdout",
     "output_type": "stream",
     "text": [
      "43\n"
     ]
    }
   ],
   "execution_count": 10
  },
  {
   "metadata": {},
   "cell_type": "markdown",
   "source": [
    "# access modifiers limit accessibility\n",
    "# apply logic on data "
   ],
   "id": "35cb1a583630979e"
  },
  {
   "metadata": {
    "ExecuteTime": {
     "end_time": "2024-06-11T06:30:42.699576Z",
     "start_time": "2024-06-11T06:30:42.694636Z"
    }
   },
   "cell_type": "code",
   "source": [
    "class Employee:\n",
    "    def __init__(self, name,email, salary):\n",
    "        self.name = name  # public\n",
    "        self._email = email  # protected\n",
    "        self.__salary = salary # private \n",
    "    def display(self):\n",
    "        print(f\"name{self.name} , _email={self._email} , salary={self.__salary}\")\n",
    "    # access private members setters and getters\n",
    "    def set_salary(self, salary):\n",
    "        if isinstance(salary, int) or isinstance(salary, float) and salary > 0 :\n",
    "            self.__salary = salary\n",
    "        else:\n",
    "            raise TypeError(\"salary must be an integer or float\")\n",
    "    def get_salary(self):\n",
    "        return self.__salary\n",
    "emp = Employee(\"Ahmed\", 'ahmed@gmail.com', 43)"
   ],
   "id": "ac02f1fc98e1e98",
   "outputs": [],
   "execution_count": 11
  },
  {
   "metadata": {
    "ExecuteTime": {
     "end_time": "2024-06-11T06:30:58.293380Z",
     "start_time": "2024-06-11T06:30:58.270818Z"
    }
   },
   "cell_type": "code",
   "source": "print(emp.__salary)",
   "id": "7a81bff8e634d492",
   "outputs": [
    {
     "ename": "AttributeError",
     "evalue": "'Employee' object has no attribute '__salary'",
     "output_type": "error",
     "traceback": [
      "\u001B[0;31m---------------------------------------------------------------------------\u001B[0m",
      "\u001B[0;31mAttributeError\u001B[0m                            Traceback (most recent call last)",
      "Cell \u001B[0;32mIn[12], line 1\u001B[0m\n\u001B[0;32m----> 1\u001B[0m \u001B[38;5;28mprint\u001B[39m(\u001B[43memp\u001B[49m\u001B[38;5;241;43m.\u001B[39;49m\u001B[43m__salary\u001B[49m)\n",
      "\u001B[0;31mAttributeError\u001B[0m: 'Employee' object has no attribute '__salary'"
     ]
    }
   ],
   "execution_count": 12
  },
  {
   "metadata": {
    "ExecuteTime": {
     "end_time": "2024-06-11T06:31:16.841070Z",
     "start_time": "2024-06-11T06:31:16.838137Z"
    }
   },
   "cell_type": "code",
   "source": "emp.__salary = 10000",
   "id": "54bcbb417ab19640",
   "outputs": [],
   "execution_count": 13
  },
  {
   "metadata": {
    "ExecuteTime": {
     "end_time": "2024-06-11T06:31:23.781621Z",
     "start_time": "2024-06-11T06:31:23.778003Z"
    }
   },
   "cell_type": "code",
   "source": "print(emp.__dict__)",
   "id": "40ced9dbf342973c",
   "outputs": [
    {
     "name": "stdout",
     "output_type": "stream",
     "text": [
      "{'name': 'Ahmed', '_email': 'ahmed@gmail.com', '_Employee__salary': 43, '__salary': 10000}\n"
     ]
    }
   ],
   "execution_count": 14
  },
  {
   "metadata": {
    "ExecuteTime": {
     "end_time": "2024-06-11T06:32:39.174310Z",
     "start_time": "2024-06-11T06:32:39.170223Z"
    }
   },
   "cell_type": "code",
   "source": "emp._Employee__salary = 100000 # ethically don't do this ",
   "id": "97b40482f10276bf",
   "outputs": [],
   "execution_count": 15
  },
  {
   "metadata": {},
   "cell_type": "code",
   "outputs": [],
   "execution_count": null,
   "source": "",
   "id": "bb38ce5e1522113d"
  },
  {
   "metadata": {},
   "cell_type": "markdown",
   "source": "The right way to access private members is using setter and getter",
   "id": "aaa20e57e10bb009"
  },
  {
   "metadata": {
    "ExecuteTime": {
     "end_time": "2024-06-11T06:33:23.017265Z",
     "start_time": "2024-06-11T06:33:23.011685Z"
    }
   },
   "cell_type": "code",
   "source": [
    "class Employee:\n",
    "    def __init__(self, name,email, salary):\n",
    "        self.name = name  # public\n",
    "        self._email = email  # protected\n",
    "        self.__salary = salary # private \n",
    "    def display(self):\n",
    "        print(f\"name{self.name} , _email={self._email} , salary={self.__salary}\")\n",
    "    # access private members setters and getters\n",
    "    def set_salary(self, salary):\n",
    "        if isinstance(salary, int) or isinstance(salary, float) and salary > 0 :\n",
    "            self.__salary = salary\n",
    "        else:\n",
    "            raise TypeError(\"salary must be an integer or float\")\n",
    "    def get_salary(self):\n",
    "        return self.__salary\n",
    "emp = Employee(\"Ahmed\", 'ahmed@gmail.com', 43)"
   ],
   "id": "3a55be9d47247141",
   "outputs": [],
   "execution_count": 16
  },
  {
   "metadata": {
    "ExecuteTime": {
     "end_time": "2024-06-11T06:33:28.550664Z",
     "start_time": "2024-06-11T06:33:28.547295Z"
    }
   },
   "cell_type": "code",
   "source": "emp = Employee(\"Ahmed\", 'ahmed@gmail.com', 43)",
   "id": "b09552b7dae2610c",
   "outputs": [],
   "execution_count": 17
  },
  {
   "metadata": {
    "ExecuteTime": {
     "end_time": "2024-06-11T06:33:36.822269Z",
     "start_time": "2024-06-11T06:33:36.818519Z"
    }
   },
   "cell_type": "code",
   "source": "print(emp.get_salary())",
   "id": "93fc8b462afa499d",
   "outputs": [
    {
     "name": "stdout",
     "output_type": "stream",
     "text": [
      "43\n"
     ]
    }
   ],
   "execution_count": 18
  },
  {
   "metadata": {
    "ExecuteTime": {
     "end_time": "2024-06-11T06:33:53.561088Z",
     "start_time": "2024-06-11T06:33:53.533143Z"
    }
   },
   "cell_type": "code",
   "source": "emp.set_salary(\"iti\")",
   "id": "82fdf023ee901f71",
   "outputs": [
    {
     "ename": "TypeError",
     "evalue": "salary must be an integer or float",
     "output_type": "error",
     "traceback": [
      "\u001B[0;31m---------------------------------------------------------------------------\u001B[0m",
      "\u001B[0;31mTypeError\u001B[0m                                 Traceback (most recent call last)",
      "Cell \u001B[0;32mIn[19], line 1\u001B[0m\n\u001B[0;32m----> 1\u001B[0m \u001B[43memp\u001B[49m\u001B[38;5;241;43m.\u001B[39;49m\u001B[43mset_salary\u001B[49m\u001B[43m(\u001B[49m\u001B[38;5;124;43m\"\u001B[39;49m\u001B[38;5;124;43miti\u001B[39;49m\u001B[38;5;124;43m\"\u001B[39;49m\u001B[43m)\u001B[49m\n",
      "Cell \u001B[0;32mIn[16], line 13\u001B[0m, in \u001B[0;36mEmployee.set_salary\u001B[0;34m(self, salary)\u001B[0m\n\u001B[1;32m     11\u001B[0m     \u001B[38;5;28mself\u001B[39m\u001B[38;5;241m.\u001B[39m__salary \u001B[38;5;241m=\u001B[39m salary\n\u001B[1;32m     12\u001B[0m \u001B[38;5;28;01melse\u001B[39;00m:\n\u001B[0;32m---> 13\u001B[0m     \u001B[38;5;28;01mraise\u001B[39;00m \u001B[38;5;167;01mTypeError\u001B[39;00m(\u001B[38;5;124m\"\u001B[39m\u001B[38;5;124msalary must be an integer or float\u001B[39m\u001B[38;5;124m\"\u001B[39m)\n",
      "\u001B[0;31mTypeError\u001B[0m: salary must be an integer or float"
     ]
    }
   ],
   "execution_count": 19
  },
  {
   "metadata": {
    "ExecuteTime": {
     "end_time": "2024-06-11T06:34:17.556422Z",
     "start_time": "2024-06-11T06:34:17.552584Z"
    }
   },
   "cell_type": "code",
   "source": [
    "emp.set_salary(10000)\n",
    "print(emp.__dict__)"
   ],
   "id": "64994aeb7dafb9",
   "outputs": [
    {
     "name": "stdout",
     "output_type": "stream",
     "text": [
      "{'name': 'Ahmed', '_email': 'ahmed@gmail.com', '_Employee__salary': 10000}\n"
     ]
    }
   ],
   "execution_count": 20
  },
  {
   "metadata": {},
   "cell_type": "code",
   "outputs": [],
   "execution_count": null,
   "source": "",
   "id": "f318508ebd1b16cb"
  },
  {
   "metadata": {},
   "cell_type": "markdown",
   "source": "# Property decorator ",
   "id": "5e5370d12e7fbae6"
  },
  {
   "metadata": {
    "ExecuteTime": {
     "end_time": "2024-06-11T06:37:55.841809Z",
     "start_time": "2024-06-11T06:37:55.834784Z"
    }
   },
   "cell_type": "code",
   "source": [
    "class Employee:\n",
    "    def __init__(self, name,email, salary):\n",
    "        self.name = name  # public\n",
    "        self._email = email  # protected\n",
    "        self.__salary = salary # private \n",
    "    def display(self):\n",
    "        print(f\"name{self.name} , _email={self._email} , salary={self.__salary}\")\n",
    "    \n",
    "    @property\n",
    "    def salary(self):  # property decorator --> used to act with function like a property --> mostly used to allow getting value from object \n",
    "        return self.__salary\n",
    "    \n",
    "    def get_salary(self):\n",
    "        return self.__salary\n",
    "    def set_salary(self, salary):\n",
    "        if isinstance(salary, int) or isinstance(salary, float) and salary > 0 :\n",
    "            self.__salary = salary\n",
    "        else:\n",
    "            raise TypeError(\"salary must be an integer or float\")\n",
    "\n",
    "emp = Employee(\"Ahmed\", 'ahmed@gmail.com', 43)"
   ],
   "id": "e1afbd278dfe998d",
   "outputs": [],
   "execution_count": 23
  },
  {
   "metadata": {
    "ExecuteTime": {
     "end_time": "2024-06-11T06:38:19.768902Z",
     "start_time": "2024-06-11T06:38:19.761034Z"
    }
   },
   "cell_type": "code",
   "source": [
    "print(emp.get_salary())\n",
    "print(f\"using property {emp.salary}\")"
   ],
   "id": "bd86e8285af02db2",
   "outputs": [
    {
     "name": "stdout",
     "output_type": "stream",
     "text": [
      "43\n",
      "using property 43\n"
     ]
    }
   ],
   "execution_count": 25
  },
  {
   "metadata": {
    "ExecuteTime": {
     "end_time": "2024-06-11T06:38:40.231262Z",
     "start_time": "2024-06-11T06:38:40.211567Z"
    }
   },
   "cell_type": "code",
   "source": "emp.salary = 10000 ",
   "id": "985204d4851ee03e",
   "outputs": [
    {
     "ename": "AttributeError",
     "evalue": "property 'salary' of 'Employee' object has no setter",
     "output_type": "error",
     "traceback": [
      "\u001B[0;31m---------------------------------------------------------------------------\u001B[0m",
      "\u001B[0;31mAttributeError\u001B[0m                            Traceback (most recent call last)",
      "Cell \u001B[0;32mIn[26], line 1\u001B[0m\n\u001B[0;32m----> 1\u001B[0m \u001B[43memp\u001B[49m\u001B[38;5;241;43m.\u001B[39;49m\u001B[43msalary\u001B[49m \u001B[38;5;241m=\u001B[39m \u001B[38;5;241m10000\u001B[39m \n",
      "\u001B[0;31mAttributeError\u001B[0m: property 'salary' of 'Employee' object has no setter"
     ]
    }
   ],
   "execution_count": 26
  },
  {
   "metadata": {
    "ExecuteTime": {
     "end_time": "2024-06-11T06:40:24.525670Z",
     "start_time": "2024-06-11T06:40:24.519593Z"
    }
   },
   "cell_type": "code",
   "source": [
    "class Employee:\n",
    "    def __init__(self, name,email, salary):\n",
    "        self.name = name  # public\n",
    "        self._email = email  # protected\n",
    "        self.__salary = salary # private \n",
    "    def display(self):\n",
    "        print(f\"name{self.name} , _email={self._email} , salary={self.__salary}\")\n",
    "    \n",
    "    @property\n",
    "    def salary(self):  \n",
    "        return self.__salary\n",
    "    \n",
    "    @property\n",
    "    def netSalary(self):\n",
    "        return self.__salary*.8\n",
    "    \n",
    "    \n",
    "    def set_salary(self, salary):\n",
    "        if isinstance(salary, int) or isinstance(salary, float) and salary > 0 :\n",
    "            self.__salary = salary\n",
    "        else:\n",
    "            raise TypeError(\"salary must be an integer or float\")\n",
    "\n",
    "emp = Employee(\"Ahmed\", 'ahmed@gmail.com', 43)"
   ],
   "id": "da288eb002cc8f19",
   "outputs": [],
   "execution_count": 27
  },
  {
   "metadata": {
    "ExecuteTime": {
     "end_time": "2024-06-11T06:40:33.430209Z",
     "start_time": "2024-06-11T06:40:33.423401Z"
    }
   },
   "cell_type": "code",
   "source": "print(emp.__dict__)",
   "id": "a18376043261d3c3",
   "outputs": [
    {
     "name": "stdout",
     "output_type": "stream",
     "text": [
      "{'name': 'Ahmed', '_email': 'ahmed@gmail.com', '_Employee__salary': 43}\n"
     ]
    }
   ],
   "execution_count": 28
  },
  {
   "metadata": {
    "ExecuteTime": {
     "end_time": "2024-06-11T06:40:40.815553Z",
     "start_time": "2024-06-11T06:40:40.811794Z"
    }
   },
   "cell_type": "code",
   "source": "print(emp.netSalary)",
   "id": "c9b6bd909e2b3d8c",
   "outputs": [
    {
     "name": "stdout",
     "output_type": "stream",
     "text": [
      "34.4\n"
     ]
    }
   ],
   "execution_count": 29
  },
  {
   "metadata": {
    "ExecuteTime": {
     "end_time": "2024-06-11T06:40:49.337016Z",
     "start_time": "2024-06-11T06:40:49.331997Z"
    }
   },
   "cell_type": "code",
   "source": "print(emp.salary)",
   "id": "7ec0d9ae956dcb6b",
   "outputs": [
    {
     "name": "stdout",
     "output_type": "stream",
     "text": [
      "43\n"
     ]
    }
   ],
   "execution_count": 30
  },
  {
   "metadata": {},
   "cell_type": "markdown",
   "source": "setting property?",
   "id": "6b99510d591c6e"
  },
  {
   "metadata": {
    "ExecuteTime": {
     "end_time": "2024-06-11T06:42:25.952037Z",
     "start_time": "2024-06-11T06:42:25.944226Z"
    }
   },
   "cell_type": "code",
   "source": [
    "class Employee:\n",
    "    def __init__(self, name,email, salary):\n",
    "        self.name = name  # public\n",
    "        self._email = email  # protected\n",
    "        self.__salary = salary # private \n",
    "    def display(self):\n",
    "        print(f\"name{self.name} , _email={self._email} , salary={self.__salary}\")\n",
    "    \n",
    "\n",
    "    @property\n",
    "    def netSalary(self):\n",
    "        return self.__salary*.8\n",
    "    @property\n",
    "    def salary(self):  \n",
    "        return self.__salary\n",
    "    @salary.setter\n",
    "    def salary(self, salary):\n",
    "        if isinstance(salary, int) or isinstance(salary, float) and salary > 0 :\n",
    "            self.__salary = salary\n",
    "        else:\n",
    "            raise TypeError(\"salary must be an integer or float\")\n",
    "    \n",
    "    \n",
    "emp = Employee(\"Ahmed\", 'ahmed@gmail.com', 43)"
   ],
   "id": "22a8cf53acf75d29",
   "outputs": [],
   "execution_count": 31
  },
  {
   "metadata": {
    "ExecuteTime": {
     "end_time": "2024-06-11T06:42:36.846578Z",
     "start_time": "2024-06-11T06:42:36.843478Z"
    }
   },
   "cell_type": "code",
   "source": "print(emp.salary)",
   "id": "7b9b6a7f4da712a8",
   "outputs": [
    {
     "name": "stdout",
     "output_type": "stream",
     "text": [
      "43\n"
     ]
    }
   ],
   "execution_count": 32
  },
  {
   "metadata": {
    "ExecuteTime": {
     "end_time": "2024-06-11T06:42:44.952045Z",
     "start_time": "2024-06-11T06:42:44.925737Z"
    }
   },
   "cell_type": "code",
   "source": "emp.salary = \"ejkh\"",
   "id": "8221044a053bc001",
   "outputs": [
    {
     "ename": "TypeError",
     "evalue": "salary must be an integer or float",
     "output_type": "error",
     "traceback": [
      "\u001B[0;31m---------------------------------------------------------------------------\u001B[0m",
      "\u001B[0;31mTypeError\u001B[0m                                 Traceback (most recent call last)",
      "Cell \u001B[0;32mIn[33], line 1\u001B[0m\n\u001B[0;32m----> 1\u001B[0m \u001B[43memp\u001B[49m\u001B[38;5;241;43m.\u001B[39;49m\u001B[43msalary\u001B[49m \u001B[38;5;241m=\u001B[39m \u001B[38;5;124m\"\u001B[39m\u001B[38;5;124mejkh\u001B[39m\u001B[38;5;124m\"\u001B[39m\n",
      "Cell \u001B[0;32mIn[31], line 22\u001B[0m, in \u001B[0;36mEmployee.salary\u001B[0;34m(self, salary)\u001B[0m\n\u001B[1;32m     20\u001B[0m     \u001B[38;5;28mself\u001B[39m\u001B[38;5;241m.\u001B[39m__salary \u001B[38;5;241m=\u001B[39m salary\n\u001B[1;32m     21\u001B[0m \u001B[38;5;28;01melse\u001B[39;00m:\n\u001B[0;32m---> 22\u001B[0m     \u001B[38;5;28;01mraise\u001B[39;00m \u001B[38;5;167;01mTypeError\u001B[39;00m(\u001B[38;5;124m\"\u001B[39m\u001B[38;5;124msalary must be an integer or float\u001B[39m\u001B[38;5;124m\"\u001B[39m)\n",
      "\u001B[0;31mTypeError\u001B[0m: salary must be an integer or float"
     ]
    }
   ],
   "execution_count": 33
  },
  {
   "metadata": {
    "ExecuteTime": {
     "end_time": "2024-06-11T06:43:01.406221Z",
     "start_time": "2024-06-11T06:43:01.402568Z"
    }
   },
   "cell_type": "code",
   "source": [
    "emp.salary = 100000\n",
    "print(emp.__dict__)"
   ],
   "id": "ad90015c65456aca",
   "outputs": [
    {
     "name": "stdout",
     "output_type": "stream",
     "text": [
      "{'name': 'Ahmed', '_email': 'ahmed@gmail.com', '_Employee__salary': 100000}\n"
     ]
    }
   ],
   "execution_count": 35
  },
  {
   "metadata": {},
   "cell_type": "markdown",
   "source": "# check this \n",
   "id": "5d5ac85d50a675c4"
  },
  {
   "metadata": {
    "ExecuteTime": {
     "end_time": "2024-06-11T06:45:47.167307Z",
     "start_time": "2024-06-11T06:45:47.162927Z"
    }
   },
   "cell_type": "code",
   "source": [
    "class Employee:\n",
    "    def __init__(self, name,email, salary):\n",
    "        self.name = name  # public\n",
    "        self._email = email  # protected\n",
    "        self.__salary = salary # private \n",
    "    def display(self):\n",
    "        print(f\"name{self.name} , _email={self._email} , salary={self.__salary}\")\n",
    "    \n",
    "\n",
    "    @property\n",
    "    def netSalary(self):\n",
    "        return self.__salary*.8\n",
    "    @property\n",
    "    def salary(self):  \n",
    "        return self.__salary\n",
    "    @salary.setter\n",
    "    def salary(self, salary):\n",
    "        if isinstance(salary, int) or isinstance(salary, float) and salary > 0 :\n",
    "            self.__salary = salary\n",
    "        else:\n",
    "            raise TypeError(\"salary must be an integer or float\")"
   ],
   "id": "f555e44226a1fc17",
   "outputs": [],
   "execution_count": 36
  },
  {
   "metadata": {
    "ExecuteTime": {
     "end_time": "2024-06-11T06:46:07.613941Z",
     "start_time": "2024-06-11T06:46:07.610371Z"
    }
   },
   "cell_type": "code",
   "source": "emp = Employee(\"Ahmed\", \"ahmed@gmail.com\", \"thousand dolar\")",
   "id": "6e00708525e17179",
   "outputs": [],
   "execution_count": 37
  },
  {
   "metadata": {
    "ExecuteTime": {
     "end_time": "2024-06-11T06:46:21.331690Z",
     "start_time": "2024-06-11T06:46:21.328617Z"
    }
   },
   "cell_type": "code",
   "source": "print(emp.__dict__)",
   "id": "51412520f1a9a3bf",
   "outputs": [
    {
     "name": "stdout",
     "output_type": "stream",
     "text": [
      "{'name': 'Ahmed', '_email': 'ahmed@gmail.com', '_Employee__salary': 'thousand dolar'}\n"
     ]
    }
   ],
   "execution_count": 38
  },
  {
   "metadata": {
    "ExecuteTime": {
     "end_time": "2024-06-11T06:46:47.235393Z",
     "start_time": "2024-06-11T06:46:47.215160Z"
    }
   },
   "cell_type": "code",
   "source": "print(emp.netSalary)",
   "id": "29019070e54fb6e",
   "outputs": [
    {
     "ename": "TypeError",
     "evalue": "can't multiply sequence by non-int of type 'float'",
     "output_type": "error",
     "traceback": [
      "\u001B[0;31m---------------------------------------------------------------------------\u001B[0m",
      "\u001B[0;31mTypeError\u001B[0m                                 Traceback (most recent call last)",
      "Cell \u001B[0;32mIn[39], line 1\u001B[0m\n\u001B[0;32m----> 1\u001B[0m \u001B[38;5;28mprint\u001B[39m(\u001B[43memp\u001B[49m\u001B[38;5;241;43m.\u001B[39;49m\u001B[43mnetSalary\u001B[49m)\n",
      "Cell \u001B[0;32mIn[36], line 12\u001B[0m, in \u001B[0;36mEmployee.netSalary\u001B[0;34m(self)\u001B[0m\n\u001B[1;32m     10\u001B[0m \u001B[38;5;129m@property\u001B[39m\n\u001B[1;32m     11\u001B[0m \u001B[38;5;28;01mdef\u001B[39;00m \u001B[38;5;21mnetSalary\u001B[39m(\u001B[38;5;28mself\u001B[39m):\n\u001B[0;32m---> 12\u001B[0m     \u001B[38;5;28;01mreturn\u001B[39;00m \u001B[38;5;28;43mself\u001B[39;49m\u001B[38;5;241;43m.\u001B[39;49m\u001B[43m__salary\u001B[49m\u001B[38;5;241;43m*\u001B[39;49m\u001B[38;5;241;43m.8\u001B[39;49m\n",
      "\u001B[0;31mTypeError\u001B[0m: can't multiply sequence by non-int of type 'float'"
     ]
    }
   ],
   "execution_count": 39
  },
  {
   "metadata": {},
   "cell_type": "markdown",
   "source": "# to solve this ",
   "id": "4f99669d81aa6e29"
  },
  {
   "metadata": {
    "ExecuteTime": {
     "end_time": "2024-06-11T06:48:26.564895Z",
     "start_time": "2024-06-11T06:48:26.559761Z"
    }
   },
   "cell_type": "code",
   "source": [
    "class Employee:\n",
    "    def __init__(self, name,email, salary):\n",
    "        self.name = name  # public\n",
    "        self._email = email  # protected\n",
    "        if isinstance(salary, int) or isinstance(salary, float) and salary > 0 :\n",
    "            self.__salary = salary\n",
    "        else:\n",
    "            raise TypeError(\"salary must be an integer or float\")\n",
    "    def display(self):\n",
    "        print(f\"name{self.name} , _email={self._email} , salary={self.__salary}\")\n",
    "    \n",
    "\n",
    "    @property\n",
    "    def netSalary(self):\n",
    "        return self.__salary*.8\n",
    "    @property\n",
    "    def salary(self):  \n",
    "        return self.__salary\n",
    "    @salary.setter\n",
    "    def salary(self, salary):\n",
    "        if isinstance(salary, int) or isinstance(salary, float) and salary > 0 :\n",
    "            self.__salary = salary\n",
    "        else:\n",
    "            raise TypeError(\"salary must be an integer or float\")"
   ],
   "id": "b1663f59b1d76f72",
   "outputs": [],
   "execution_count": 40
  },
  {
   "metadata": {
    "ExecuteTime": {
     "end_time": "2024-06-11T06:48:42.725901Z",
     "start_time": "2024-06-11T06:48:42.696086Z"
    }
   },
   "cell_type": "code",
   "source": "emp = Employee(\"Ahmed\",'ahmed@gmail.com','ukfddjhk')",
   "id": "43b35f3890c1091d",
   "outputs": [
    {
     "ename": "TypeError",
     "evalue": "salary must be an integer or float",
     "output_type": "error",
     "traceback": [
      "\u001B[0;31m---------------------------------------------------------------------------\u001B[0m",
      "\u001B[0;31mTypeError\u001B[0m                                 Traceback (most recent call last)",
      "Cell \u001B[0;32mIn[42], line 1\u001B[0m\n\u001B[0;32m----> 1\u001B[0m emp \u001B[38;5;241m=\u001B[39m \u001B[43mEmployee\u001B[49m\u001B[43m(\u001B[49m\u001B[38;5;124;43m\"\u001B[39;49m\u001B[38;5;124;43mAhmed\u001B[39;49m\u001B[38;5;124;43m\"\u001B[39;49m\u001B[43m,\u001B[49m\u001B[38;5;124;43m'\u001B[39;49m\u001B[38;5;124;43mahmed@gmail.com\u001B[39;49m\u001B[38;5;124;43m'\u001B[39;49m\u001B[43m,\u001B[49m\u001B[38;5;124;43m'\u001B[39;49m\u001B[38;5;124;43mukfddjhk\u001B[39;49m\u001B[38;5;124;43m'\u001B[39;49m\u001B[43m)\u001B[49m\n",
      "Cell \u001B[0;32mIn[40], line 8\u001B[0m, in \u001B[0;36mEmployee.__init__\u001B[0;34m(self, name, email, salary)\u001B[0m\n\u001B[1;32m      6\u001B[0m     \u001B[38;5;28mself\u001B[39m\u001B[38;5;241m.\u001B[39m__salary \u001B[38;5;241m=\u001B[39m salary\n\u001B[1;32m      7\u001B[0m \u001B[38;5;28;01melse\u001B[39;00m:\n\u001B[0;32m----> 8\u001B[0m     \u001B[38;5;28;01mraise\u001B[39;00m \u001B[38;5;167;01mTypeError\u001B[39;00m(\u001B[38;5;124m\"\u001B[39m\u001B[38;5;124msalary must be an integer or float\u001B[39m\u001B[38;5;124m\"\u001B[39m)\n",
      "\u001B[0;31mTypeError\u001B[0m: salary must be an integer or float"
     ]
    }
   ],
   "execution_count": 42
  },
  {
   "metadata": {
    "ExecuteTime": {
     "end_time": "2024-06-11T06:49:03.484225Z",
     "start_time": "2024-06-11T06:49:03.481177Z"
    }
   },
   "cell_type": "code",
   "source": "emp  = Employee('dd','ddd', 28732)",
   "id": "46d2651f72d501a3",
   "outputs": [],
   "execution_count": 43
  },
  {
   "metadata": {
    "ExecuteTime": {
     "end_time": "2024-06-11T06:49:10.988250Z",
     "start_time": "2024-06-11T06:49:10.984865Z"
    }
   },
   "cell_type": "code",
   "source": "emp.display()",
   "id": "cfcd3f929494558d",
   "outputs": [
    {
     "name": "stdout",
     "output_type": "stream",
     "text": [
      "namedd , _email=ddd , salary=28732\n"
     ]
    }
   ],
   "execution_count": 44
  },
  {
   "metadata": {},
   "cell_type": "markdown",
   "source": "We need to enhance the code ...",
   "id": "190a21a72f9579f9"
  },
  {
   "metadata": {
    "ExecuteTime": {
     "end_time": "2024-06-11T06:51:47.419072Z",
     "start_time": "2024-06-11T06:51:47.413118Z"
    }
   },
   "cell_type": "code",
   "source": [
    "class Employee:\n",
    "    def __init__(self, name,email, salary):\n",
    "        self.name = name  # public\n",
    "        self._email = email  # protected\n",
    "        self.salary = salary \n",
    "        \n",
    "    def display(self):\n",
    "        print(f\"name{self.name} , _email={self._email} , salary={self.__salary}\")\n",
    "    \n",
    "\n",
    "    @property\n",
    "    def netSalary(self):\n",
    "        return self.__salary*.8\n",
    "    @property\n",
    "    def salary(self):  \n",
    "        return self.__salary\n",
    "    @salary.setter\n",
    "    def salary(self, salary):\n",
    "        print(\"--- setter called ----\")\n",
    "        if isinstance(salary, int) or isinstance(salary, float) and salary > 0 :\n",
    "            self.__salary = salary\n",
    "        else:\n",
    "            raise TypeError(\"salary must be an integer or float\")\n",
    "        \n",
    "emp = Employee(\"fff\", \"fff\", 444)\n",
    "# emp.salary = 4455 # call salary.setter "
   ],
   "id": "2039de426d68137c",
   "outputs": [
    {
     "name": "stdout",
     "output_type": "stream",
     "text": [
      "--- setter called ----\n"
     ]
    }
   ],
   "execution_count": 47
  },
  {
   "metadata": {},
   "cell_type": "code",
   "outputs": [],
   "execution_count": null,
   "source": "",
   "id": "16330b8ca7182512"
  }
 ],
 "metadata": {
  "kernelspec": {
   "display_name": "Python 3",
   "language": "python",
   "name": "python3"
  },
  "language_info": {
   "codemirror_mode": {
    "name": "ipython",
    "version": 2
   },
   "file_extension": ".py",
   "mimetype": "text/x-python",
   "name": "python",
   "nbconvert_exporter": "python",
   "pygments_lexer": "ipython2",
   "version": "2.7.6"
  }
 },
 "nbformat": 4,
 "nbformat_minor": 5
}
